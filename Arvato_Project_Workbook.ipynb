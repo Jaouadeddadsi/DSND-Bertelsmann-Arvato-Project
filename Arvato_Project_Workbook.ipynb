{
 "cells": [
  {
   "cell_type": "markdown",
   "metadata": {},
   "source": [
    "# Capstone Project: Create a Customer Segmentation Report for Arvato Financial Services\n",
    "\n",
    "In this project, I will analyze demographics data for customers of a mail-order sales company in Germany, comparing it against demographics information for the general population. I'll use unsupervised learning techniques to perform customer segmentation, identifying the parts of the population that best describe the core customer base of the company. Then, I'll apply what I've learned on a third dataset with demographics information for targets of a marketing campaign for the company, and use a model to predict which individuals are most likely to convert into becoming customers for the company. The data that I will use has been provided by Bertelsmann Arvato Analytics, and represents a real-life data science task.\n"
   ]
  },
  {
   "cell_type": "markdown",
   "metadata": {},
   "source": [
    "## Table of Contents\n",
    "\n",
    "[Part 0: Get-to-Know-the-Data](#Get-to-Know-the-Data)<br>\n",
    "[Part 1: Customer Segmentation Report](#part1)<br>\n",
    "[Part 2: Supervised Learning Model](#part2)<br>\n",
    "[Part 3: Kaggle Competition](#part3)<br>"
   ]
  },
  {
   "cell_type": "code",
   "execution_count": 345,
   "metadata": {
    "collapsed": false
   },
   "outputs": [],
   "source": [
    "# Import libraries\n",
    "import numpy as np\n",
    "import pandas as pd\n",
    "import matplotlib.pyplot as plt\n",
    "import matplotlib\n",
    "import seaborn as sns\n",
    "import os\n",
    "import random\n",
    "import progressbar\n",
    "\n",
    "from sklearn.preprocessing import Imputer\n",
    "from sklearn.preprocessing import RobustScaler\n",
    "from sklearn.decomposition import PCA\n",
    "from sklearn.cluster import KMeans\n",
    "from sklearn.model_selection import train_test_split, GridSearchCV\n",
    "import xgboost as xgb\n",
    "from sklearn.ensemble import AdaBoostRegressor \n",
    "from sklearn.ensemble import RandomForestRegressor\n",
    "from xgboost.sklearn import XGBRegressor\n",
    "from sklearn.model_selection import cross_val_score\n",
    "from sklearn.model_selection import learning_curve\n",
    "from sklearn.metrics import roc_auc_score\n",
    "\n",
    "from sklearn import metrics\n",
    "\n",
    "# Pretty display for notebooks\n",
    "%matplotlib inline\n",
    "%config InlineBachend.figure_format = 'retina'\n"
   ]
  },
  {
   "cell_type": "markdown",
   "metadata": {},
   "source": [
    "## <a class=\"anchor\" id=\"Get-to-Know-the-Data\">Part 0: Get to Know the Data</a>\n",
    "\n",
    "There are four data files associated with this project:\n",
    "\n",
    "- `Udacity_AZDIAS_052018.csv`: Demographics data for the general population of Germany; 891 211 persons (rows) x 366 features (columns).\n",
    "- `Udacity_CUSTOMERS_052018.csv`: Demographics data for customers of a mail-order company; 191 652 persons (rows) x 369 features (columns).\n",
    "- `Udacity_MAILOUT_052018_TRAIN.csv`: Demographics data for individuals who were targets of a marketing campaign; 42 982 persons (rows) x 367 (columns).\n",
    "- `Udacity_MAILOUT_052018_TEST.csv`: Demographics data for individuals who were targets of a marketing campaign; 42 833 persons (rows) x 366 (columns).\n",
    "\n",
    "Each row of the demographics files represents a single person, but also includes information outside of individuals, including information about their household, building, and neighborhood. I will use the information from the first two files to figure out how customers (\"CUSTOMERS\") are similar to or differ from the general population at large (\"AZDIAS\"), then use my analysis to make predictions on the other two files (\"MAILOUT\"), predicting which recipients are most likely to become a customer for the mail-order company.\n",
    "\n",
    "The \"CUSTOMERS\" file contains three extra columns ('CUSTOMER_GROUP', 'ONLINE_PURCHASE', and 'PRODUCT_GROUP'), which provide broad information about the customers depicted in the file. The original \"MAILOUT\" file included one additional column, \"RESPONSE\", which indicated whether or not each recipient became a customer of the company. For the \"TRAIN\" subset, this column has been retained, but in the \"TEST\" subset it has been removed; it is against that withheld column that will be assessed in the Kaggle competition.\n",
    "\n",
    "Otherwise, all of the remaining columns are the same between the three data files. For more information about the columns depicted in the files, I will refer to two Excel spreadsheets provided in the workspace. [One of them](./DIAS Information Levels - Attributes 2017.xlsx) is a top-level list of attributes and descriptions, organized by informational category. [The other](./DIAS Attributes - Values 2017.xlsx) is a detailed mapping of data values for each feature in alphabetical order.\n"
   ]
  },
  {
   "cell_type": "code",
   "execution_count": 23,
   "metadata": {
    "collapsed": false
   },
   "outputs": [
    {
     "name": "stderr",
     "output_type": "stream",
     "text": [
      "/home/jaouadeddadsi2016/anaconda3/lib/python3.5/site-packages/IPython/core/interactiveshell.py:2717: DtypeWarning: Columns (18,19) have mixed types. Specify dtype option on import or set low_memory=False.\n",
      "  interactivity=interactivity, compiler=compiler, result=result)\n"
     ]
    },
    {
     "data": {
      "text/html": [
       "<div>\n",
       "<style scoped>\n",
       "    .dataframe tbody tr th:only-of-type {\n",
       "        vertical-align: middle;\n",
       "    }\n",
       "\n",
       "    .dataframe tbody tr th {\n",
       "        vertical-align: top;\n",
       "    }\n",
       "\n",
       "    .dataframe thead th {\n",
       "        text-align: right;\n",
       "    }\n",
       "</style>\n",
       "<table border=\"1\" class=\"dataframe\">\n",
       "  <thead>\n",
       "    <tr style=\"text-align: right;\">\n",
       "      <th></th>\n",
       "      <th>LNR</th>\n",
       "      <th>AGER_TYP</th>\n",
       "      <th>AKT_DAT_KL</th>\n",
       "      <th>ALTER_HH</th>\n",
       "      <th>ALTER_KIND1</th>\n",
       "      <th>ALTER_KIND2</th>\n",
       "      <th>ALTER_KIND3</th>\n",
       "      <th>ALTER_KIND4</th>\n",
       "      <th>ALTERSKATEGORIE_FEIN</th>\n",
       "      <th>ANZ_HAUSHALTE_AKTIV</th>\n",
       "      <th>...</th>\n",
       "      <th>VHN</th>\n",
       "      <th>VK_DHT4A</th>\n",
       "      <th>VK_DISTANZ</th>\n",
       "      <th>VK_ZG11</th>\n",
       "      <th>W_KEIT_KIND_HH</th>\n",
       "      <th>WOHNDAUER_2008</th>\n",
       "      <th>WOHNLAGE</th>\n",
       "      <th>ZABEOTYP</th>\n",
       "      <th>ANREDE_KZ</th>\n",
       "      <th>ALTERSKATEGORIE_GROB</th>\n",
       "    </tr>\n",
       "  </thead>\n",
       "  <tbody>\n",
       "    <tr>\n",
       "      <th>0</th>\n",
       "      <td>910215</td>\n",
       "      <td>-1</td>\n",
       "      <td>NaN</td>\n",
       "      <td>NaN</td>\n",
       "      <td>NaN</td>\n",
       "      <td>NaN</td>\n",
       "      <td>NaN</td>\n",
       "      <td>NaN</td>\n",
       "      <td>NaN</td>\n",
       "      <td>NaN</td>\n",
       "      <td>...</td>\n",
       "      <td>NaN</td>\n",
       "      <td>NaN</td>\n",
       "      <td>NaN</td>\n",
       "      <td>NaN</td>\n",
       "      <td>NaN</td>\n",
       "      <td>NaN</td>\n",
       "      <td>NaN</td>\n",
       "      <td>3</td>\n",
       "      <td>1</td>\n",
       "      <td>2</td>\n",
       "    </tr>\n",
       "    <tr>\n",
       "      <th>1</th>\n",
       "      <td>910220</td>\n",
       "      <td>-1</td>\n",
       "      <td>9.0</td>\n",
       "      <td>0.0</td>\n",
       "      <td>NaN</td>\n",
       "      <td>NaN</td>\n",
       "      <td>NaN</td>\n",
       "      <td>NaN</td>\n",
       "      <td>21.0</td>\n",
       "      <td>11.0</td>\n",
       "      <td>...</td>\n",
       "      <td>4.0</td>\n",
       "      <td>8.0</td>\n",
       "      <td>11.0</td>\n",
       "      <td>10.0</td>\n",
       "      <td>3.0</td>\n",
       "      <td>9.0</td>\n",
       "      <td>4.0</td>\n",
       "      <td>5</td>\n",
       "      <td>2</td>\n",
       "      <td>1</td>\n",
       "    </tr>\n",
       "    <tr>\n",
       "      <th>2</th>\n",
       "      <td>910225</td>\n",
       "      <td>-1</td>\n",
       "      <td>9.0</td>\n",
       "      <td>17.0</td>\n",
       "      <td>NaN</td>\n",
       "      <td>NaN</td>\n",
       "      <td>NaN</td>\n",
       "      <td>NaN</td>\n",
       "      <td>17.0</td>\n",
       "      <td>10.0</td>\n",
       "      <td>...</td>\n",
       "      <td>2.0</td>\n",
       "      <td>9.0</td>\n",
       "      <td>9.0</td>\n",
       "      <td>6.0</td>\n",
       "      <td>3.0</td>\n",
       "      <td>9.0</td>\n",
       "      <td>2.0</td>\n",
       "      <td>5</td>\n",
       "      <td>2</td>\n",
       "      <td>3</td>\n",
       "    </tr>\n",
       "    <tr>\n",
       "      <th>3</th>\n",
       "      <td>910226</td>\n",
       "      <td>2</td>\n",
       "      <td>1.0</td>\n",
       "      <td>13.0</td>\n",
       "      <td>NaN</td>\n",
       "      <td>NaN</td>\n",
       "      <td>NaN</td>\n",
       "      <td>NaN</td>\n",
       "      <td>13.0</td>\n",
       "      <td>1.0</td>\n",
       "      <td>...</td>\n",
       "      <td>0.0</td>\n",
       "      <td>7.0</td>\n",
       "      <td>10.0</td>\n",
       "      <td>11.0</td>\n",
       "      <td>NaN</td>\n",
       "      <td>9.0</td>\n",
       "      <td>7.0</td>\n",
       "      <td>3</td>\n",
       "      <td>2</td>\n",
       "      <td>4</td>\n",
       "    </tr>\n",
       "    <tr>\n",
       "      <th>4</th>\n",
       "      <td>910241</td>\n",
       "      <td>-1</td>\n",
       "      <td>1.0</td>\n",
       "      <td>20.0</td>\n",
       "      <td>NaN</td>\n",
       "      <td>NaN</td>\n",
       "      <td>NaN</td>\n",
       "      <td>NaN</td>\n",
       "      <td>14.0</td>\n",
       "      <td>3.0</td>\n",
       "      <td>...</td>\n",
       "      <td>2.0</td>\n",
       "      <td>3.0</td>\n",
       "      <td>5.0</td>\n",
       "      <td>4.0</td>\n",
       "      <td>2.0</td>\n",
       "      <td>9.0</td>\n",
       "      <td>3.0</td>\n",
       "      <td>4</td>\n",
       "      <td>1</td>\n",
       "      <td>3</td>\n",
       "    </tr>\n",
       "  </tbody>\n",
       "</table>\n",
       "<p>5 rows × 366 columns</p>\n",
       "</div>"
      ],
      "text/plain": [
       "      LNR  AGER_TYP  AKT_DAT_KL  ALTER_HH  ALTER_KIND1  ALTER_KIND2  \\\n",
       "0  910215        -1         NaN       NaN          NaN          NaN   \n",
       "1  910220        -1         9.0       0.0          NaN          NaN   \n",
       "2  910225        -1         9.0      17.0          NaN          NaN   \n",
       "3  910226         2         1.0      13.0          NaN          NaN   \n",
       "4  910241        -1         1.0      20.0          NaN          NaN   \n",
       "\n",
       "   ALTER_KIND3  ALTER_KIND4  ALTERSKATEGORIE_FEIN  ANZ_HAUSHALTE_AKTIV  ...  \\\n",
       "0          NaN          NaN                   NaN                  NaN  ...   \n",
       "1          NaN          NaN                  21.0                 11.0  ...   \n",
       "2          NaN          NaN                  17.0                 10.0  ...   \n",
       "3          NaN          NaN                  13.0                  1.0  ...   \n",
       "4          NaN          NaN                  14.0                  3.0  ...   \n",
       "\n",
       "   VHN  VK_DHT4A  VK_DISTANZ  VK_ZG11  W_KEIT_KIND_HH  WOHNDAUER_2008  \\\n",
       "0  NaN       NaN         NaN      NaN             NaN             NaN   \n",
       "1  4.0       8.0        11.0     10.0             3.0             9.0   \n",
       "2  2.0       9.0         9.0      6.0             3.0             9.0   \n",
       "3  0.0       7.0        10.0     11.0             NaN             9.0   \n",
       "4  2.0       3.0         5.0      4.0             2.0             9.0   \n",
       "\n",
       "   WOHNLAGE ZABEOTYP ANREDE_KZ ALTERSKATEGORIE_GROB  \n",
       "0       NaN        3         1                    2  \n",
       "1       4.0        5         2                    1  \n",
       "2       2.0        5         2                    3  \n",
       "3       7.0        3         2                    4  \n",
       "4       3.0        4         1                    3  \n",
       "\n",
       "[5 rows x 366 columns]"
      ]
     },
     "execution_count": 23,
     "metadata": {},
     "output_type": "execute_result"
    }
   ],
   "source": [
    "# Load data\n",
    "azdias = pd.read_csv('Arvato_data/Udacity_AZDIAS_052018.csv', sep=';')\n",
    "\n",
    "azdias.head()"
   ]
  },
  {
   "cell_type": "code",
   "execution_count": 24,
   "metadata": {
    "collapsed": false
   },
   "outputs": [
    {
     "data": {
      "text/plain": [
       "(891221, 366)"
      ]
     },
     "execution_count": 24,
     "metadata": {},
     "output_type": "execute_result"
    }
   ],
   "source": [
    "# Data shape\n",
    "azdias.shape"
   ]
  },
  {
   "cell_type": "code",
   "execution_count": 25,
   "metadata": {
    "collapsed": false
   },
   "outputs": [
    {
     "name": "stdout",
     "output_type": "stream",
     "text": [
      "<class 'pandas.core.frame.DataFrame'>\n",
      "RangeIndex: 891221 entries, 0 to 891220\n",
      "Columns: 366 entries, LNR to ALTERSKATEGORIE_GROB\n",
      "dtypes: float64(267), int64(93), object(6)\n",
      "memory usage: 2.4+ GB\n"
     ]
    }
   ],
   "source": [
    "# Data info\n",
    "azdias.info()"
   ]
  },
  {
   "cell_type": "code",
   "execution_count": 26,
   "metadata": {
    "collapsed": false
   },
   "outputs": [
    {
     "data": {
      "text/html": [
       "<div>\n",
       "<style scoped>\n",
       "    .dataframe tbody tr th:only-of-type {\n",
       "        vertical-align: middle;\n",
       "    }\n",
       "\n",
       "    .dataframe tbody tr th {\n",
       "        vertical-align: top;\n",
       "    }\n",
       "\n",
       "    .dataframe thead th {\n",
       "        text-align: right;\n",
       "    }\n",
       "</style>\n",
       "<table border=\"1\" class=\"dataframe\">\n",
       "  <thead>\n",
       "    <tr style=\"text-align: right;\">\n",
       "      <th></th>\n",
       "      <th>CAMEO_DEU_2015</th>\n",
       "      <th>CAMEO_DEUG_2015</th>\n",
       "      <th>CAMEO_INTL_2015</th>\n",
       "      <th>D19_LETZTER_KAUF_BRANCHE</th>\n",
       "      <th>EINGEFUEGT_AM</th>\n",
       "      <th>OST_WEST_KZ</th>\n",
       "    </tr>\n",
       "  </thead>\n",
       "  <tbody>\n",
       "    <tr>\n",
       "      <th>0</th>\n",
       "      <td>NaN</td>\n",
       "      <td>NaN</td>\n",
       "      <td>NaN</td>\n",
       "      <td>NaN</td>\n",
       "      <td>NaN</td>\n",
       "      <td>NaN</td>\n",
       "    </tr>\n",
       "    <tr>\n",
       "      <th>1</th>\n",
       "      <td>8A</td>\n",
       "      <td>8</td>\n",
       "      <td>51</td>\n",
       "      <td>NaN</td>\n",
       "      <td>1992-02-10 00:00:00</td>\n",
       "      <td>W</td>\n",
       "    </tr>\n",
       "    <tr>\n",
       "      <th>2</th>\n",
       "      <td>4C</td>\n",
       "      <td>4</td>\n",
       "      <td>24</td>\n",
       "      <td>D19_UNBEKANNT</td>\n",
       "      <td>1992-02-12 00:00:00</td>\n",
       "      <td>W</td>\n",
       "    </tr>\n",
       "    <tr>\n",
       "      <th>3</th>\n",
       "      <td>2A</td>\n",
       "      <td>2</td>\n",
       "      <td>12</td>\n",
       "      <td>D19_UNBEKANNT</td>\n",
       "      <td>1997-04-21 00:00:00</td>\n",
       "      <td>W</td>\n",
       "    </tr>\n",
       "    <tr>\n",
       "      <th>4</th>\n",
       "      <td>6B</td>\n",
       "      <td>6</td>\n",
       "      <td>43</td>\n",
       "      <td>D19_SCHUHE</td>\n",
       "      <td>1992-02-12 00:00:00</td>\n",
       "      <td>W</td>\n",
       "    </tr>\n",
       "  </tbody>\n",
       "</table>\n",
       "</div>"
      ],
      "text/plain": [
       "  CAMEO_DEU_2015 CAMEO_DEUG_2015 CAMEO_INTL_2015 D19_LETZTER_KAUF_BRANCHE  \\\n",
       "0            NaN             NaN             NaN                      NaN   \n",
       "1             8A               8              51                      NaN   \n",
       "2             4C               4              24            D19_UNBEKANNT   \n",
       "3             2A               2              12            D19_UNBEKANNT   \n",
       "4             6B               6              43               D19_SCHUHE   \n",
       "\n",
       "         EINGEFUEGT_AM OST_WEST_KZ  \n",
       "0                  NaN         NaN  \n",
       "1  1992-02-10 00:00:00           W  \n",
       "2  1992-02-12 00:00:00           W  \n",
       "3  1997-04-21 00:00:00           W  \n",
       "4  1992-02-12 00:00:00           W  "
      ]
     },
     "execution_count": 26,
     "metadata": {},
     "output_type": "execute_result"
    }
   ],
   "source": [
    "# Check object features\n",
    "df_object = azdias.select_dtypes(include='object')\n",
    "\n",
    "df_object.head()"
   ]
  },
  {
   "cell_type": "markdown",
   "metadata": {},
   "source": [
    "## <a class=\"anchor\" id=\"part1\">Part 1: Customer Segmentation Report</a>\n",
    "\n",
    "The main bulk of the analysis will come in this part of the project. Here, I will use unsupervised learning techniques to describe the relationship between the demographics of the company's existing customers and the general population of Germany. By the end of this part, I should be able to describe parts of the general population that are more likely to be part of the mail-order company's main customer base, and which parts of the general population are less so."
   ]
  },
  {
   "cell_type": "markdown",
   "metadata": {},
   "source": [
    "### Step 1: Preprocessing\n",
    "\n",
    "####  Step 1.1:  Assess Missing Data\n",
    "\n",
    "\n",
    "I will use the feature summary file from the previous project and 'DIAS Attributes - Values 2017.xlsx' file to build a data frame of columns properties in the demographics data."
   ]
  },
  {
   "cell_type": "code",
   "execution_count": 27,
   "metadata": {
    "collapsed": false
   },
   "outputs": [
    {
     "data": {
      "text/html": [
       "<div>\n",
       "<style scoped>\n",
       "    .dataframe tbody tr th:only-of-type {\n",
       "        vertical-align: middle;\n",
       "    }\n",
       "\n",
       "    .dataframe tbody tr th {\n",
       "        vertical-align: top;\n",
       "    }\n",
       "\n",
       "    .dataframe thead th {\n",
       "        text-align: right;\n",
       "    }\n",
       "</style>\n",
       "<table border=\"1\" class=\"dataframe\">\n",
       "  <thead>\n",
       "    <tr style=\"text-align: right;\">\n",
       "      <th></th>\n",
       "      <th>attribute</th>\n",
       "      <th>information_level</th>\n",
       "      <th>type</th>\n",
       "      <th>missing_or_unknown</th>\n",
       "    </tr>\n",
       "  </thead>\n",
       "  <tbody>\n",
       "    <tr>\n",
       "      <th>0</th>\n",
       "      <td>AGER_TYP</td>\n",
       "      <td>person</td>\n",
       "      <td>categorical</td>\n",
       "      <td>[-1,0]</td>\n",
       "    </tr>\n",
       "    <tr>\n",
       "      <th>1</th>\n",
       "      <td>ALTERSKATEGORIE_GROB</td>\n",
       "      <td>person</td>\n",
       "      <td>ordinal</td>\n",
       "      <td>[-1,0,9]</td>\n",
       "    </tr>\n",
       "    <tr>\n",
       "      <th>2</th>\n",
       "      <td>ANREDE_KZ</td>\n",
       "      <td>person</td>\n",
       "      <td>categorical</td>\n",
       "      <td>[-1,0]</td>\n",
       "    </tr>\n",
       "    <tr>\n",
       "      <th>3</th>\n",
       "      <td>CJT_GESAMTTYP</td>\n",
       "      <td>person</td>\n",
       "      <td>categorical</td>\n",
       "      <td>[0]</td>\n",
       "    </tr>\n",
       "    <tr>\n",
       "      <th>4</th>\n",
       "      <td>FINANZ_MINIMALIST</td>\n",
       "      <td>person</td>\n",
       "      <td>ordinal</td>\n",
       "      <td>[-1]</td>\n",
       "    </tr>\n",
       "  </tbody>\n",
       "</table>\n",
       "</div>"
      ],
      "text/plain": [
       "              attribute information_level         type missing_or_unknown\n",
       "0              AGER_TYP            person  categorical             [-1,0]\n",
       "1  ALTERSKATEGORIE_GROB            person      ordinal           [-1,0,9]\n",
       "2             ANREDE_KZ            person  categorical             [-1,0]\n",
       "3         CJT_GESAMTTYP            person  categorical                [0]\n",
       "4     FINANZ_MINIMALIST            person      ordinal               [-1]"
      ]
     },
     "execution_count": 27,
     "metadata": {},
     "output_type": "execute_result"
    }
   ],
   "source": [
    "# Load in the feature summary file.\n",
    "feat_info = pd.read_csv('Arvato_data/AZDIAS_Feature_Summary.csv', sep=';')\n",
    "feat_info.head()"
   ]
  },
  {
   "cell_type": "code",
   "execution_count": 28,
   "metadata": {
    "collapsed": false
   },
   "outputs": [
    {
     "data": {
      "text/plain": [
       "(85, 4)"
      ]
     },
     "execution_count": 28,
     "metadata": {},
     "output_type": "execute_result"
    }
   ],
   "source": [
    "# feat_info shape\n",
    "feat_info.shape"
   ]
  },
  {
   "cell_type": "code",
   "execution_count": 29,
   "metadata": {
    "collapsed": false
   },
   "outputs": [
    {
     "data": {
      "text/plain": [
       "ordinal        49\n",
       "categorical    21\n",
       "numeric         7\n",
       "mixed           7\n",
       "interval        1\n",
       "Name: type, dtype: int64"
      ]
     },
     "execution_count": 29,
     "metadata": {},
     "output_type": "execute_result"
    }
   ],
   "source": [
    "feat_info.type.value_counts()"
   ]
  },
  {
   "cell_type": "code",
   "execution_count": 30,
   "metadata": {
    "collapsed": false
   },
   "outputs": [
    {
     "data": {
      "text/html": [
       "<div>\n",
       "<style scoped>\n",
       "    .dataframe tbody tr th:only-of-type {\n",
       "        vertical-align: middle;\n",
       "    }\n",
       "\n",
       "    .dataframe tbody tr th {\n",
       "        vertical-align: top;\n",
       "    }\n",
       "\n",
       "    .dataframe thead th {\n",
       "        text-align: right;\n",
       "    }\n",
       "</style>\n",
       "<table border=\"1\" class=\"dataframe\">\n",
       "  <thead>\n",
       "    <tr style=\"text-align: right;\">\n",
       "      <th></th>\n",
       "      <th>Attribute</th>\n",
       "      <th>Description</th>\n",
       "      <th>Value</th>\n",
       "      <th>Meaning</th>\n",
       "    </tr>\n",
       "  </thead>\n",
       "  <tbody>\n",
       "    <tr>\n",
       "      <th>48</th>\n",
       "      <td>BIP_FLAG</td>\n",
       "      <td>business-flag indicating companies in the buil...</td>\n",
       "      <td>-1</td>\n",
       "      <td>unknown</td>\n",
       "    </tr>\n",
       "    <tr>\n",
       "      <th>105</th>\n",
       "      <td>CAMEO_DEUINTL_2015</td>\n",
       "      <td>CAMEO classification 2015 - international typo...</td>\n",
       "      <td>-1</td>\n",
       "      <td>unknown</td>\n",
       "    </tr>\n",
       "    <tr>\n",
       "      <th>138</th>\n",
       "      <td>D19_BANKEN_ANZ_12</td>\n",
       "      <td>transaction activity BANKS in the last 12 months</td>\n",
       "      <td>0</td>\n",
       "      <td>no transactions known</td>\n",
       "    </tr>\n",
       "    <tr>\n",
       "      <th>145</th>\n",
       "      <td>D19_BANKEN_ANZ_24</td>\n",
       "      <td>transaction activity BANKS in the last 24 months</td>\n",
       "      <td>0</td>\n",
       "      <td>no transactions known</td>\n",
       "    </tr>\n",
       "    <tr>\n",
       "      <th>152</th>\n",
       "      <td>D19_BANKEN_DATUM</td>\n",
       "      <td>actuality of the last transaction for the segm...</td>\n",
       "      <td>1</td>\n",
       "      <td>highest activity within the last 12 months</td>\n",
       "    </tr>\n",
       "  </tbody>\n",
       "</table>\n",
       "</div>"
      ],
      "text/plain": [
       "              Attribute                                        Description  \\\n",
       "48             BIP_FLAG  business-flag indicating companies in the buil...   \n",
       "105  CAMEO_DEUINTL_2015  CAMEO classification 2015 - international typo...   \n",
       "138   D19_BANKEN_ANZ_12   transaction activity BANKS in the last 12 months   \n",
       "145   D19_BANKEN_ANZ_24   transaction activity BANKS in the last 24 months   \n",
       "152    D19_BANKEN_DATUM  actuality of the last transaction for the segm...   \n",
       "\n",
       "    Value                                     Meaning  \n",
       "48     -1                                     unknown  \n",
       "105    -1                                     unknown  \n",
       "138     0                       no transactions known  \n",
       "145     0                       no transactions known  \n",
       "152     1  highest activity within the last 12 months  "
      ]
     },
     "execution_count": 30,
     "metadata": {},
     "output_type": "execute_result"
    }
   ],
   "source": [
    "# Laod DIAS Attributes\n",
    "dias_attributes = pd.read_excel('Arvato_data/DIAS Attributes - Values 2017.xlsx',\n",
    "                                skiprows=[0])\n",
    "del dias_attributes['Unnamed: 0']\n",
    "\n",
    "# Drop NaN attribute\n",
    "dias_attributes = dias_attributes[~dias_attributes['Attribute'].isnull()]\n",
    "\n",
    "# Drop attribute described in feat_info\n",
    "dias_attributes = dias_attributes[\n",
    "    ~dias_attributes['Attribute'].isin(feat_info.attribute)\n",
    "]\n",
    "\n",
    "dias_attributes.head()"
   ]
  },
  {
   "cell_type": "code",
   "execution_count": 31,
   "metadata": {
    "collapsed": false
   },
   "outputs": [
    {
     "data": {
      "text/plain": [
       "(233, 4)"
      ]
     },
     "execution_count": 31,
     "metadata": {},
     "output_type": "execute_result"
    }
   ],
   "source": [
    "# dias_attributes shape\n",
    "dias_attributes.shape"
   ]
  },
  {
   "cell_type": "code",
   "execution_count": 32,
   "metadata": {
    "collapsed": false
   },
   "outputs": [
    {
     "data": {
      "text/plain": [
       "unknown                                             172\n",
       "no transaction known                                 34\n",
       "highest activity within the last 12 months           12\n",
       "no transactions known                                10\n",
       "no Online-transactions within the last 12 months      3\n",
       "very low car quote                                    1\n",
       "Universal                                             1\n",
       "Name: Meaning, dtype: int64"
      ]
     },
     "execution_count": 32,
     "metadata": {},
     "output_type": "execute_result"
    }
   ],
   "source": [
    "# dias_attributes Meanning counts\n",
    "dias_attributes.Meaning.value_counts(dropna=False)"
   ]
  },
  {
   "cell_type": "code",
   "execution_count": 33,
   "metadata": {
    "collapsed": false
   },
   "outputs": [
    {
     "data": {
      "text/html": [
       "<div>\n",
       "<style scoped>\n",
       "    .dataframe tbody tr th:only-of-type {\n",
       "        vertical-align: middle;\n",
       "    }\n",
       "\n",
       "    .dataframe tbody tr th {\n",
       "        vertical-align: top;\n",
       "    }\n",
       "\n",
       "    .dataframe thead th {\n",
       "        text-align: right;\n",
       "    }\n",
       "</style>\n",
       "<table border=\"1\" class=\"dataframe\">\n",
       "  <thead>\n",
       "    <tr style=\"text-align: right;\">\n",
       "      <th></th>\n",
       "      <th>Attribute</th>\n",
       "      <th>Description</th>\n",
       "      <th>Value</th>\n",
       "      <th>Meaning</th>\n",
       "    </tr>\n",
       "  </thead>\n",
       "  <tbody>\n",
       "    <tr>\n",
       "      <th>765</th>\n",
       "      <td>KBA05_ALTER1</td>\n",
       "      <td>share of car owners less than 31 years old</td>\n",
       "      <td>-1, 9</td>\n",
       "      <td>unknown</td>\n",
       "    </tr>\n",
       "    <tr>\n",
       "      <th>771</th>\n",
       "      <td>KBA05_ALTER2</td>\n",
       "      <td>share of car owners inbetween 31 and 45 years ...</td>\n",
       "      <td>-1, 9</td>\n",
       "      <td>unknown</td>\n",
       "    </tr>\n",
       "    <tr>\n",
       "      <th>777</th>\n",
       "      <td>KBA05_ALTER3</td>\n",
       "      <td>share of car owners inbetween 45 and 60 years ...</td>\n",
       "      <td>-1, 9</td>\n",
       "      <td>unknown</td>\n",
       "    </tr>\n",
       "    <tr>\n",
       "      <th>783</th>\n",
       "      <td>KBA05_ALTER4</td>\n",
       "      <td>share of cars owners elder than 61 years</td>\n",
       "      <td>-1, 9</td>\n",
       "      <td>unknown</td>\n",
       "    </tr>\n",
       "    <tr>\n",
       "      <th>790</th>\n",
       "      <td>KBA05_ANHANG</td>\n",
       "      <td>share of trailers in the microcell</td>\n",
       "      <td>-1, 9</td>\n",
       "      <td>unknown</td>\n",
       "    </tr>\n",
       "  </tbody>\n",
       "</table>\n",
       "</div>"
      ],
      "text/plain": [
       "        Attribute                                        Description  Value  \\\n",
       "765  KBA05_ALTER1         share of car owners less than 31 years old  -1, 9   \n",
       "771  KBA05_ALTER2  share of car owners inbetween 31 and 45 years ...  -1, 9   \n",
       "777  KBA05_ALTER3  share of car owners inbetween 45 and 60 years ...  -1, 9   \n",
       "783  KBA05_ALTER4           share of cars owners elder than 61 years  -1, 9   \n",
       "790  KBA05_ANHANG                 share of trailers in the microcell  -1, 9   \n",
       "\n",
       "     Meaning  \n",
       "765  unknown  \n",
       "771  unknown  \n",
       "777  unknown  \n",
       "783  unknown  \n",
       "790  unknown  "
      ]
     },
     "execution_count": 33,
     "metadata": {},
     "output_type": "execute_result"
    }
   ],
   "source": [
    "# Investigate attribute with unknown Meaning\n",
    "unknown_Meaning = dias_attributes[dias_attributes['Meaning'] == 'unknown']\n",
    "\n",
    "# Keep only attribute of azdias\n",
    "unknown_Meaning = unknown_Meaning[\n",
    "    unknown_Meaning['Attribute'].isin(azdias.columns)\n",
    "]\n",
    "\n",
    "# unknown_Meaning shape\n",
    "unknown_Meaning.head()"
   ]
  },
  {
   "cell_type": "code",
   "execution_count": 34,
   "metadata": {
    "collapsed": true
   },
   "outputs": [],
   "source": [
    "# Get first part of attribute\n",
    "unknown_Meaning['first_att'] = unknown_Meaning.Attribute.apply(lambda x: x.split('_')[0])"
   ]
  },
  {
   "cell_type": "code",
   "execution_count": 35,
   "metadata": {
    "collapsed": false
   },
   "outputs": [
    {
     "data": {
      "text/plain": [
       "KBA13    106\n",
       "KBA05     58\n",
       "Name: first_att, dtype: int64"
      ]
     },
     "execution_count": 35,
     "metadata": {},
     "output_type": "execute_result"
    }
   ],
   "source": [
    "unknown_Meaning.first_att.value_counts(dropna=False)"
   ]
  },
  {
   "cell_type": "code",
   "execution_count": 36,
   "metadata": {
    "collapsed": false
   },
   "outputs": [
    {
     "data": {
      "text/plain": [
       " 2.0    228625\n",
       " 1.0    167046\n",
       " 3.0    166129\n",
       "NaN     133324\n",
       " 0.0    102789\n",
       " 4.0     78522\n",
       " 9.0     14786\n",
       "Name: KBA05_ALTER1, dtype: int64"
      ]
     },
     "execution_count": 36,
     "metadata": {},
     "output_type": "execute_result"
    }
   ],
   "source": [
    "# Value of KBA05_ALTER1  \n",
    "azdias.KBA05_ALTER1.value_counts(dropna=False)"
   ]
  },
  {
   "cell_type": "code",
   "execution_count": 37,
   "metadata": {
    "collapsed": false
   },
   "outputs": [
    {
     "data": {
      "text/plain": [
       " 3.0    361449\n",
       " 2.0    167076\n",
       " 4.0    158150\n",
       "NaN     105800\n",
       " 1.0     50939\n",
       " 5.0     47807\n",
       "Name: KBA13_VORB_1, dtype: int64"
      ]
     },
     "execution_count": 37,
     "metadata": {},
     "output_type": "execute_result"
    }
   ],
   "source": [
    "# Values of KBA13_VORB_1  \n",
    "azdias.KBA13_VORB_1.value_counts(dropna=False)"
   ]
  },
  {
   "cell_type": "markdown",
   "metadata": {},
   "source": [
    "**KBA13 and KBA05 are ordinals variabeles**"
   ]
  },
  {
   "cell_type": "code",
   "execution_count": 38,
   "metadata": {
    "collapsed": true
   },
   "outputs": [],
   "source": [
    "unknown_Meaning['type'] = 'ordinal'"
   ]
  },
  {
   "cell_type": "code",
   "execution_count": 39,
   "metadata": {
    "collapsed": false
   },
   "outputs": [
    {
     "data": {
      "text/html": [
       "<div>\n",
       "<style scoped>\n",
       "    .dataframe tbody tr th:only-of-type {\n",
       "        vertical-align: middle;\n",
       "    }\n",
       "\n",
       "    .dataframe tbody tr th {\n",
       "        vertical-align: top;\n",
       "    }\n",
       "\n",
       "    .dataframe thead th {\n",
       "        text-align: right;\n",
       "    }\n",
       "</style>\n",
       "<table border=\"1\" class=\"dataframe\">\n",
       "  <thead>\n",
       "    <tr style=\"text-align: right;\">\n",
       "      <th></th>\n",
       "      <th>Attribute</th>\n",
       "      <th>Description</th>\n",
       "      <th>Value</th>\n",
       "      <th>Meaning</th>\n",
       "      <th>first_att</th>\n",
       "    </tr>\n",
       "  </thead>\n",
       "  <tbody>\n",
       "    <tr>\n",
       "      <th>138</th>\n",
       "      <td>D19_BANKEN_ANZ_12</td>\n",
       "      <td>transaction activity BANKS in the last 12 months</td>\n",
       "      <td>0</td>\n",
       "      <td>no transactions known</td>\n",
       "      <td>D19</td>\n",
       "    </tr>\n",
       "    <tr>\n",
       "      <th>145</th>\n",
       "      <td>D19_BANKEN_ANZ_24</td>\n",
       "      <td>transaction activity BANKS in the last 24 months</td>\n",
       "      <td>0</td>\n",
       "      <td>no transactions known</td>\n",
       "      <td>D19</td>\n",
       "    </tr>\n",
       "    <tr>\n",
       "      <th>305</th>\n",
       "      <td>D19_GESAMT_ANZ_12</td>\n",
       "      <td>transaction activity TOTAL POOL in the last 12...</td>\n",
       "      <td>0</td>\n",
       "      <td>no transactions known</td>\n",
       "      <td>D19</td>\n",
       "    </tr>\n",
       "    <tr>\n",
       "      <th>312</th>\n",
       "      <td>D19_GESAMT_ANZ_24</td>\n",
       "      <td>transaction activity TOTAL POOL in the last 24...</td>\n",
       "      <td>0</td>\n",
       "      <td>no transactions known</td>\n",
       "      <td>D19</td>\n",
       "    </tr>\n",
       "    <tr>\n",
       "      <th>478</th>\n",
       "      <td>D19_TELKO_ANZ_12</td>\n",
       "      <td>transaction activity TELCO in the last 12 months</td>\n",
       "      <td>0</td>\n",
       "      <td>no transactions known</td>\n",
       "      <td>D19</td>\n",
       "    </tr>\n",
       "    <tr>\n",
       "      <th>485</th>\n",
       "      <td>D19_TELKO_ANZ_24</td>\n",
       "      <td>transaction activity TELCO in the last 24 months</td>\n",
       "      <td>0</td>\n",
       "      <td>no transactions known</td>\n",
       "      <td>D19</td>\n",
       "    </tr>\n",
       "    <tr>\n",
       "      <th>546</th>\n",
       "      <td>D19_VERSAND_ANZ_12</td>\n",
       "      <td>transaction activity MAIL-ORDER in the last 12...</td>\n",
       "      <td>0</td>\n",
       "      <td>no transactions known</td>\n",
       "      <td>D19</td>\n",
       "    </tr>\n",
       "    <tr>\n",
       "      <th>553</th>\n",
       "      <td>D19_VERSAND_ANZ_24</td>\n",
       "      <td>transaction activity MAIL-ORDER in the last 24...</td>\n",
       "      <td>0</td>\n",
       "      <td>no transactions known</td>\n",
       "      <td>D19</td>\n",
       "    </tr>\n",
       "    <tr>\n",
       "      <th>617</th>\n",
       "      <td>D19_VERSI_ANZ_12</td>\n",
       "      <td>transaction activity INSURANCE in the last 12 ...</td>\n",
       "      <td>0</td>\n",
       "      <td>no transactions known</td>\n",
       "      <td>D19</td>\n",
       "    </tr>\n",
       "    <tr>\n",
       "      <th>624</th>\n",
       "      <td>D19_VERSI_ANZ_24</td>\n",
       "      <td>transaction activity INSURANCE in the last 24 ...</td>\n",
       "      <td>0</td>\n",
       "      <td>no transactions known</td>\n",
       "      <td>D19</td>\n",
       "    </tr>\n",
       "  </tbody>\n",
       "</table>\n",
       "</div>"
      ],
      "text/plain": [
       "              Attribute                                        Description  \\\n",
       "138   D19_BANKEN_ANZ_12   transaction activity BANKS in the last 12 months   \n",
       "145   D19_BANKEN_ANZ_24   transaction activity BANKS in the last 24 months   \n",
       "305   D19_GESAMT_ANZ_12  transaction activity TOTAL POOL in the last 12...   \n",
       "312   D19_GESAMT_ANZ_24  transaction activity TOTAL POOL in the last 24...   \n",
       "478    D19_TELKO_ANZ_12   transaction activity TELCO in the last 12 months   \n",
       "485    D19_TELKO_ANZ_24   transaction activity TELCO in the last 24 months   \n",
       "546  D19_VERSAND_ANZ_12  transaction activity MAIL-ORDER in the last 12...   \n",
       "553  D19_VERSAND_ANZ_24  transaction activity MAIL-ORDER in the last 24...   \n",
       "617    D19_VERSI_ANZ_12  transaction activity INSURANCE in the last 12 ...   \n",
       "624    D19_VERSI_ANZ_24  transaction activity INSURANCE in the last 24 ...   \n",
       "\n",
       "    Value                Meaning first_att  \n",
       "138     0  no transactions known       D19  \n",
       "145     0  no transactions known       D19  \n",
       "305     0  no transactions known       D19  \n",
       "312     0  no transactions known       D19  \n",
       "478     0  no transactions known       D19  \n",
       "485     0  no transactions known       D19  \n",
       "546     0  no transactions known       D19  \n",
       "553     0  no transactions known       D19  \n",
       "617     0  no transactions known       D19  \n",
       "624     0  no transactions known       D19  "
      ]
     },
     "execution_count": 39,
     "metadata": {},
     "output_type": "execute_result"
    }
   ],
   "source": [
    "# Investigate attribute with no transaction known\n",
    "no_transaction = dias_attributes[dias_attributes['Meaning'].isin(['no transaction known',\n",
    "                                                                  'no transactions known'])]\n",
    "\n",
    "# Keep only attribute of azdias\n",
    "no_transaction = no_transaction[no_transaction['Attribute'].isin(azdias.columns)]\n",
    "\n",
    "# Get first part of attribute\n",
    "no_transaction['first_att'] = no_transaction.Attribute.apply(lambda x: x.split('_')[0])\n",
    "\n",
    "# unknown_Meaning shape\n",
    "no_transaction"
   ]
  },
  {
   "cell_type": "code",
   "execution_count": 40,
   "metadata": {
    "collapsed": false
   },
   "outputs": [
    {
     "data": {
      "text/plain": [
       "0    831734\n",
       "1     29771\n",
       "2     18067\n",
       "3      5708\n",
       "4      4082\n",
       "5      1483\n",
       "6       376\n",
       "Name: D19_BANKEN_ANZ_12, dtype: int64"
      ]
     },
     "execution_count": 40,
     "metadata": {},
     "output_type": "execute_result"
    }
   ],
   "source": [
    "# Values of D19_BANKEN_ANZ_12  \n",
    "azdias.D19_BANKEN_ANZ_12.value_counts(dropna=False)"
   ]
  },
  {
   "cell_type": "markdown",
   "metadata": {},
   "source": [
    "**D19 are ordinals variables**"
   ]
  },
  {
   "cell_type": "code",
   "execution_count": 41,
   "metadata": {
    "collapsed": true
   },
   "outputs": [],
   "source": [
    "no_transaction['type'] = 'ordinal'"
   ]
  },
  {
   "cell_type": "code",
   "execution_count": 42,
   "metadata": {
    "collapsed": false
   },
   "outputs": [
    {
     "data": {
      "text/html": [
       "<div>\n",
       "<style scoped>\n",
       "    .dataframe tbody tr th:only-of-type {\n",
       "        vertical-align: middle;\n",
       "    }\n",
       "\n",
       "    .dataframe tbody tr th {\n",
       "        vertical-align: top;\n",
       "    }\n",
       "\n",
       "    .dataframe thead th {\n",
       "        text-align: right;\n",
       "    }\n",
       "</style>\n",
       "<table border=\"1\" class=\"dataframe\">\n",
       "  <thead>\n",
       "    <tr style=\"text-align: right;\">\n",
       "      <th></th>\n",
       "      <th>Attribute</th>\n",
       "      <th>Description</th>\n",
       "      <th>Value</th>\n",
       "      <th>Meaning</th>\n",
       "      <th>first_att</th>\n",
       "    </tr>\n",
       "  </thead>\n",
       "  <tbody>\n",
       "    <tr>\n",
       "      <th>152</th>\n",
       "      <td>D19_BANKEN_DATUM</td>\n",
       "      <td>actuality of the last transaction for the segm...</td>\n",
       "      <td>1</td>\n",
       "      <td>highest activity within the last 12 months</td>\n",
       "      <td>D19</td>\n",
       "    </tr>\n",
       "    <tr>\n",
       "      <th>186</th>\n",
       "      <td>D19_BANKEN_OFFLINE_DATUM</td>\n",
       "      <td>actuality of the last transaction for the segm...</td>\n",
       "      <td>1</td>\n",
       "      <td>highest activity within the last 12 months</td>\n",
       "      <td>D19</td>\n",
       "    </tr>\n",
       "    <tr>\n",
       "      <th>196</th>\n",
       "      <td>D19_BANKEN_ONLINE_DATUM</td>\n",
       "      <td>actuality of the last transaction for the segm...</td>\n",
       "      <td>1</td>\n",
       "      <td>highest activity within the last 12 months</td>\n",
       "      <td>D19</td>\n",
       "    </tr>\n",
       "    <tr>\n",
       "      <th>206</th>\n",
       "      <td>D19_BANKEN_ONLINE_QUOTE_12</td>\n",
       "      <td>amount of online transactions within all trans...</td>\n",
       "      <td>0</td>\n",
       "      <td>no Online-transactions within the last 12 months</td>\n",
       "      <td>D19</td>\n",
       "    </tr>\n",
       "    <tr>\n",
       "      <th>319</th>\n",
       "      <td>D19_GESAMT_DATUM</td>\n",
       "      <td>actuality of the last transaction with the com...</td>\n",
       "      <td>1</td>\n",
       "      <td>highest activity within the last 12 months</td>\n",
       "      <td>D19</td>\n",
       "    </tr>\n",
       "    <tr>\n",
       "      <th>329</th>\n",
       "      <td>D19_GESAMT_OFFLINE_DATUM</td>\n",
       "      <td>actuality of the last transaction with the com...</td>\n",
       "      <td>1</td>\n",
       "      <td>highest activity within the last 12 months</td>\n",
       "      <td>D19</td>\n",
       "    </tr>\n",
       "    <tr>\n",
       "      <th>339</th>\n",
       "      <td>D19_GESAMT_ONLINE_DATUM</td>\n",
       "      <td>actuality of the last transaction with the com...</td>\n",
       "      <td>1</td>\n",
       "      <td>highest activity within the last 12 months</td>\n",
       "      <td>D19</td>\n",
       "    </tr>\n",
       "    <tr>\n",
       "      <th>349</th>\n",
       "      <td>D19_GESAMT_ONLINE_QUOTE_12</td>\n",
       "      <td>amount of online transactions within all trans...</td>\n",
       "      <td>0</td>\n",
       "      <td>no Online-transactions within the last 12 months</td>\n",
       "      <td>D19</td>\n",
       "    </tr>\n",
       "    <tr>\n",
       "      <th>384</th>\n",
       "      <td>D19_KONSUMTYP</td>\n",
       "      <td>consumption type</td>\n",
       "      <td>1</td>\n",
       "      <td>Universal</td>\n",
       "      <td>D19</td>\n",
       "    </tr>\n",
       "    <tr>\n",
       "      <th>492</th>\n",
       "      <td>D19_TELKO_DATUM</td>\n",
       "      <td>actuality of the last transaction for the segm...</td>\n",
       "      <td>1</td>\n",
       "      <td>highest activity within the last 12 months</td>\n",
       "      <td>D19</td>\n",
       "    </tr>\n",
       "    <tr>\n",
       "      <th>510</th>\n",
       "      <td>D19_TELKO_OFFLINE_DATUM</td>\n",
       "      <td>actuality of the last transaction for the segm...</td>\n",
       "      <td>1</td>\n",
       "      <td>highest activity within the last 12 months</td>\n",
       "      <td>D19</td>\n",
       "    </tr>\n",
       "    <tr>\n",
       "      <th>520</th>\n",
       "      <td>D19_TELKO_ONLINE_DATUM</td>\n",
       "      <td>actuality of the last transaction for the segm...</td>\n",
       "      <td>1</td>\n",
       "      <td>highest activity within the last 12 months</td>\n",
       "      <td>D19</td>\n",
       "    </tr>\n",
       "    <tr>\n",
       "      <th>560</th>\n",
       "      <td>D19_VERSAND_DATUM</td>\n",
       "      <td>actuality of the last transaction for the segm...</td>\n",
       "      <td>1</td>\n",
       "      <td>highest activity within the last 12 months</td>\n",
       "      <td>D19</td>\n",
       "    </tr>\n",
       "    <tr>\n",
       "      <th>570</th>\n",
       "      <td>D19_VERSAND_OFFLINE_DATUM</td>\n",
       "      <td>actuality of the last transaction for the segm...</td>\n",
       "      <td>1</td>\n",
       "      <td>highest activity within the last 12 months</td>\n",
       "      <td>D19</td>\n",
       "    </tr>\n",
       "    <tr>\n",
       "      <th>580</th>\n",
       "      <td>D19_VERSAND_ONLINE_DATUM</td>\n",
       "      <td>actuality of the last transaction for the segm...</td>\n",
       "      <td>1</td>\n",
       "      <td>highest activity within the last 12 months</td>\n",
       "      <td>D19</td>\n",
       "    </tr>\n",
       "    <tr>\n",
       "      <th>590</th>\n",
       "      <td>D19_VERSAND_ONLINE_QUOTE_12</td>\n",
       "      <td>amount of online transactions within all trans...</td>\n",
       "      <td>0</td>\n",
       "      <td>no Online-transactions within the last 12 months</td>\n",
       "      <td>D19</td>\n",
       "    </tr>\n",
       "    <tr>\n",
       "      <th>816</th>\n",
       "      <td>KBA05_AUTOQUOT</td>\n",
       "      <td>share of cars per household</td>\n",
       "      <td>1</td>\n",
       "      <td>very low car quote</td>\n",
       "      <td>KBA05</td>\n",
       "    </tr>\n",
       "  </tbody>\n",
       "</table>\n",
       "</div>"
      ],
      "text/plain": [
       "                       Attribute  \\\n",
       "152             D19_BANKEN_DATUM   \n",
       "186     D19_BANKEN_OFFLINE_DATUM   \n",
       "196      D19_BANKEN_ONLINE_DATUM   \n",
       "206   D19_BANKEN_ONLINE_QUOTE_12   \n",
       "319             D19_GESAMT_DATUM   \n",
       "329     D19_GESAMT_OFFLINE_DATUM   \n",
       "339      D19_GESAMT_ONLINE_DATUM   \n",
       "349   D19_GESAMT_ONLINE_QUOTE_12   \n",
       "384                D19_KONSUMTYP   \n",
       "492              D19_TELKO_DATUM   \n",
       "510      D19_TELKO_OFFLINE_DATUM   \n",
       "520       D19_TELKO_ONLINE_DATUM   \n",
       "560            D19_VERSAND_DATUM   \n",
       "570    D19_VERSAND_OFFLINE_DATUM   \n",
       "580     D19_VERSAND_ONLINE_DATUM   \n",
       "590  D19_VERSAND_ONLINE_QUOTE_12   \n",
       "816               KBA05_AUTOQUOT   \n",
       "\n",
       "                                           Description Value  \\\n",
       "152  actuality of the last transaction for the segm...     1   \n",
       "186  actuality of the last transaction for the segm...     1   \n",
       "196  actuality of the last transaction for the segm...     1   \n",
       "206  amount of online transactions within all trans...     0   \n",
       "319  actuality of the last transaction with the com...     1   \n",
       "329  actuality of the last transaction with the com...     1   \n",
       "339  actuality of the last transaction with the com...     1   \n",
       "349  amount of online transactions within all trans...     0   \n",
       "384                                  consumption type      1   \n",
       "492  actuality of the last transaction for the segm...     1   \n",
       "510  actuality of the last transaction for the segm...     1   \n",
       "520  actuality of the last transaction for the segm...     1   \n",
       "560  actuality of the last transaction for the segm...     1   \n",
       "570  actuality of the last transaction for the segm...     1   \n",
       "580  actuality of the last transaction for the segm...     1   \n",
       "590  amount of online transactions within all trans...     0   \n",
       "816                        share of cars per household     1   \n",
       "\n",
       "                                              Meaning first_att  \n",
       "152        highest activity within the last 12 months       D19  \n",
       "186        highest activity within the last 12 months       D19  \n",
       "196        highest activity within the last 12 months       D19  \n",
       "206  no Online-transactions within the last 12 months       D19  \n",
       "319        highest activity within the last 12 months       D19  \n",
       "329        highest activity within the last 12 months       D19  \n",
       "339        highest activity within the last 12 months       D19  \n",
       "349  no Online-transactions within the last 12 months       D19  \n",
       "384                                         Universal       D19  \n",
       "492        highest activity within the last 12 months       D19  \n",
       "510        highest activity within the last 12 months       D19  \n",
       "520        highest activity within the last 12 months       D19  \n",
       "560        highest activity within the last 12 months       D19  \n",
       "570        highest activity within the last 12 months       D19  \n",
       "580        highest activity within the last 12 months       D19  \n",
       "590  no Online-transactions within the last 12 months       D19  \n",
       "816                                very low car quote     KBA05  "
      ]
     },
     "execution_count": 42,
     "metadata": {},
     "output_type": "execute_result"
    }
   ],
   "source": [
    "# Investigate the rest of attributes \n",
    "sub_dias = dias_attributes[~dias_attributes['Meaning'].isin(['no transaction known',\n",
    "                                                             'no transactions known',\n",
    "                                                            'unknown'])]\n",
    "\n",
    "# Keep only attribute of azdias\n",
    "sub_dias = sub_dias[sub_dias['Attribute'].isin(azdias.columns)]\n",
    "\n",
    "# Get first part of attribute\n",
    "sub_dias['first_att'] = sub_dias.Attribute.apply(lambda x: x.split('_')[0])\n",
    "\n",
    "# unknown_Meaning shape\n",
    "sub_dias"
   ]
  },
  {
   "cell_type": "code",
   "execution_count": 43,
   "metadata": {
    "collapsed": false
   },
   "outputs": [
    {
     "data": {
      "text/plain": [
       "NaN     257113\n",
       " 9.0    254296\n",
       " 1.0    117912\n",
       " 4.0     78262\n",
       " 6.0     56562\n",
       " 3.0     53330\n",
       " 2.0     49324\n",
       " 5.0     24422\n",
       "Name: D19_KONSUMTYP, dtype: int64"
      ]
     },
     "execution_count": 43,
     "metadata": {},
     "output_type": "execute_result"
    }
   ],
   "source": [
    "# Values of D19_KONSUMTYP\n",
    "azdias.D19_KONSUMTYP.value_counts(dropna=False)"
   ]
  },
  {
   "cell_type": "markdown",
   "metadata": {},
   "source": [
    "\n",
    "**All attributes in sub_dias are ordinal except D19_KONSUMTYP which is categorical**"
   ]
  },
  {
   "cell_type": "code",
   "execution_count": 44,
   "metadata": {
    "collapsed": true
   },
   "outputs": [],
   "source": [
    "sub_dias['type'] = sub_dias.Meaning.apply(\n",
    "    lambda x: 'categorical' if x=='Universal' else 'ordinal')"
   ]
  },
  {
   "cell_type": "code",
   "execution_count": 45,
   "metadata": {
    "collapsed": false
   },
   "outputs": [
    {
     "data": {
      "text/html": [
       "<div>\n",
       "<style scoped>\n",
       "    .dataframe tbody tr th:only-of-type {\n",
       "        vertical-align: middle;\n",
       "    }\n",
       "\n",
       "    .dataframe tbody tr th {\n",
       "        vertical-align: top;\n",
       "    }\n",
       "\n",
       "    .dataframe thead th {\n",
       "        text-align: right;\n",
       "    }\n",
       "</style>\n",
       "<table border=\"1\" class=\"dataframe\">\n",
       "  <thead>\n",
       "    <tr style=\"text-align: right;\">\n",
       "      <th></th>\n",
       "      <th>attribute</th>\n",
       "      <th>type</th>\n",
       "      <th>missing_or_unknown</th>\n",
       "    </tr>\n",
       "  </thead>\n",
       "  <tbody>\n",
       "    <tr>\n",
       "      <th>765</th>\n",
       "      <td>KBA05_ALTER1</td>\n",
       "      <td>ordinal</td>\n",
       "      <td>[-1,  9]</td>\n",
       "    </tr>\n",
       "    <tr>\n",
       "      <th>771</th>\n",
       "      <td>KBA05_ALTER2</td>\n",
       "      <td>ordinal</td>\n",
       "      <td>[-1,  9]</td>\n",
       "    </tr>\n",
       "    <tr>\n",
       "      <th>777</th>\n",
       "      <td>KBA05_ALTER3</td>\n",
       "      <td>ordinal</td>\n",
       "      <td>[-1,  9]</td>\n",
       "    </tr>\n",
       "    <tr>\n",
       "      <th>783</th>\n",
       "      <td>KBA05_ALTER4</td>\n",
       "      <td>ordinal</td>\n",
       "      <td>[-1,  9]</td>\n",
       "    </tr>\n",
       "    <tr>\n",
       "      <th>790</th>\n",
       "      <td>KBA05_ANHANG</td>\n",
       "      <td>ordinal</td>\n",
       "      <td>[-1,  9]</td>\n",
       "    </tr>\n",
       "  </tbody>\n",
       "</table>\n",
       "</div>"
      ],
      "text/plain": [
       "        attribute     type missing_or_unknown\n",
       "765  KBA05_ALTER1  ordinal           [-1,  9]\n",
       "771  KBA05_ALTER2  ordinal           [-1,  9]\n",
       "777  KBA05_ALTER3  ordinal           [-1,  9]\n",
       "783  KBA05_ALTER4  ordinal           [-1,  9]\n",
       "790  KBA05_ANHANG  ordinal           [-1,  9]"
      ]
     },
     "execution_count": 45,
     "metadata": {},
     "output_type": "execute_result"
    }
   ],
   "source": [
    "# Make a dataframe of features proprieties\n",
    "def_cl = lambda x: [str(k) for k in str(x).split(',')]\n",
    "unknown_Meaning['missing_or_unknown'] = unknown_Meaning.Value.apply(def_cl)\n",
    "\n",
    "# Drop colums\n",
    "unknown_Meaning.drop(['Description', 'Value', 'Meaning', 'first_att'],\n",
    "                    axis=1, inplace=True)\n",
    "\n",
    "# Change columns name\n",
    "unknown_Meaning.columns = ['attribute', 'type', 'missing_or_unknown']\n",
    "\n",
    "unknown_Meaning.head()"
   ]
  },
  {
   "cell_type": "code",
   "execution_count": 46,
   "metadata": {
    "collapsed": false
   },
   "outputs": [
    {
     "data": {
      "text/html": [
       "<div>\n",
       "<style scoped>\n",
       "    .dataframe tbody tr th:only-of-type {\n",
       "        vertical-align: middle;\n",
       "    }\n",
       "\n",
       "    .dataframe tbody tr th {\n",
       "        vertical-align: top;\n",
       "    }\n",
       "\n",
       "    .dataframe thead th {\n",
       "        text-align: right;\n",
       "    }\n",
       "</style>\n",
       "<table border=\"1\" class=\"dataframe\">\n",
       "  <thead>\n",
       "    <tr style=\"text-align: right;\">\n",
       "      <th></th>\n",
       "      <th>attribute</th>\n",
       "      <th>type</th>\n",
       "      <th>missing_or_unknown</th>\n",
       "    </tr>\n",
       "  </thead>\n",
       "  <tbody>\n",
       "    <tr>\n",
       "      <th>138</th>\n",
       "      <td>D19_BANKEN_ANZ_12</td>\n",
       "      <td>ordinal</td>\n",
       "      <td>[0]</td>\n",
       "    </tr>\n",
       "    <tr>\n",
       "      <th>145</th>\n",
       "      <td>D19_BANKEN_ANZ_24</td>\n",
       "      <td>ordinal</td>\n",
       "      <td>[0]</td>\n",
       "    </tr>\n",
       "    <tr>\n",
       "      <th>305</th>\n",
       "      <td>D19_GESAMT_ANZ_12</td>\n",
       "      <td>ordinal</td>\n",
       "      <td>[0]</td>\n",
       "    </tr>\n",
       "    <tr>\n",
       "      <th>312</th>\n",
       "      <td>D19_GESAMT_ANZ_24</td>\n",
       "      <td>ordinal</td>\n",
       "      <td>[0]</td>\n",
       "    </tr>\n",
       "    <tr>\n",
       "      <th>478</th>\n",
       "      <td>D19_TELKO_ANZ_12</td>\n",
       "      <td>ordinal</td>\n",
       "      <td>[0]</td>\n",
       "    </tr>\n",
       "  </tbody>\n",
       "</table>\n",
       "</div>"
      ],
      "text/plain": [
       "             attribute     type missing_or_unknown\n",
       "138  D19_BANKEN_ANZ_12  ordinal                [0]\n",
       "145  D19_BANKEN_ANZ_24  ordinal                [0]\n",
       "305  D19_GESAMT_ANZ_12  ordinal                [0]\n",
       "312  D19_GESAMT_ANZ_24  ordinal                [0]\n",
       "478   D19_TELKO_ANZ_12  ordinal                [0]"
      ]
     },
     "execution_count": 46,
     "metadata": {},
     "output_type": "execute_result"
    }
   ],
   "source": [
    "# no_transaction\n",
    "no_transaction['missing_or_unknown'] = no_transaction.Value.apply(lambda\n",
    "                                                                 x: [str(x)])\n",
    "\n",
    "# Drop colums\n",
    "no_transaction.drop(['Description', 'Value', 'Meaning', 'first_att'],\n",
    "                    axis=1, inplace=True)\n",
    "\n",
    "# Change columns name\n",
    "no_transaction.columns = ['attribute', 'type', 'missing_or_unknown']\n",
    "\n",
    "no_transaction.head()"
   ]
  },
  {
   "cell_type": "code",
   "execution_count": 47,
   "metadata": {
    "collapsed": false
   },
   "outputs": [
    {
     "data": {
      "text/html": [
       "<div>\n",
       "<style scoped>\n",
       "    .dataframe tbody tr th:only-of-type {\n",
       "        vertical-align: middle;\n",
       "    }\n",
       "\n",
       "    .dataframe tbody tr th {\n",
       "        vertical-align: top;\n",
       "    }\n",
       "\n",
       "    .dataframe thead th {\n",
       "        text-align: right;\n",
       "    }\n",
       "</style>\n",
       "<table border=\"1\" class=\"dataframe\">\n",
       "  <thead>\n",
       "    <tr style=\"text-align: right;\">\n",
       "      <th></th>\n",
       "      <th>attribute</th>\n",
       "      <th>type</th>\n",
       "      <th>missing_or_unknown</th>\n",
       "    </tr>\n",
       "  </thead>\n",
       "  <tbody>\n",
       "    <tr>\n",
       "      <th>152</th>\n",
       "      <td>D19_BANKEN_DATUM</td>\n",
       "      <td>ordinal</td>\n",
       "      <td>[]</td>\n",
       "    </tr>\n",
       "    <tr>\n",
       "      <th>186</th>\n",
       "      <td>D19_BANKEN_OFFLINE_DATUM</td>\n",
       "      <td>ordinal</td>\n",
       "      <td>[]</td>\n",
       "    </tr>\n",
       "    <tr>\n",
       "      <th>196</th>\n",
       "      <td>D19_BANKEN_ONLINE_DATUM</td>\n",
       "      <td>ordinal</td>\n",
       "      <td>[]</td>\n",
       "    </tr>\n",
       "    <tr>\n",
       "      <th>206</th>\n",
       "      <td>D19_BANKEN_ONLINE_QUOTE_12</td>\n",
       "      <td>ordinal</td>\n",
       "      <td>[]</td>\n",
       "    </tr>\n",
       "    <tr>\n",
       "      <th>319</th>\n",
       "      <td>D19_GESAMT_DATUM</td>\n",
       "      <td>ordinal</td>\n",
       "      <td>[]</td>\n",
       "    </tr>\n",
       "  </tbody>\n",
       "</table>\n",
       "</div>"
      ],
      "text/plain": [
       "                      attribute     type missing_or_unknown\n",
       "152            D19_BANKEN_DATUM  ordinal                 []\n",
       "186    D19_BANKEN_OFFLINE_DATUM  ordinal                 []\n",
       "196     D19_BANKEN_ONLINE_DATUM  ordinal                 []\n",
       "206  D19_BANKEN_ONLINE_QUOTE_12  ordinal                 []\n",
       "319            D19_GESAMT_DATUM  ordinal                 []"
      ]
     },
     "execution_count": 47,
     "metadata": {},
     "output_type": "execute_result"
    }
   ],
   "source": [
    "\n",
    "sub_dias['missing_or_unknown'] = sub_dias.Value.apply(lambda x: [])\n",
    "\n",
    "# Drop colums\n",
    "sub_dias.drop(['Description', 'Value', 'Meaning', 'first_att'],\n",
    "              axis=1, inplace=True)\n",
    "\n",
    "# Change columns name\n",
    "sub_dias.columns = ['attribute', 'type', 'missing_or_unknown']\n",
    "\n",
    "sub_dias.head()"
   ]
  },
  {
   "cell_type": "code",
   "execution_count": 48,
   "metadata": {
    "collapsed": false
   },
   "outputs": [
    {
     "data": {
      "text/html": [
       "<div>\n",
       "<style scoped>\n",
       "    .dataframe tbody tr th:only-of-type {\n",
       "        vertical-align: middle;\n",
       "    }\n",
       "\n",
       "    .dataframe tbody tr th {\n",
       "        vertical-align: top;\n",
       "    }\n",
       "\n",
       "    .dataframe thead th {\n",
       "        text-align: right;\n",
       "    }\n",
       "</style>\n",
       "<table border=\"1\" class=\"dataframe\">\n",
       "  <thead>\n",
       "    <tr style=\"text-align: right;\">\n",
       "      <th></th>\n",
       "      <th>attribute</th>\n",
       "      <th>type</th>\n",
       "      <th>missing_or_unknown</th>\n",
       "    </tr>\n",
       "  </thead>\n",
       "  <tbody>\n",
       "    <tr>\n",
       "      <th>0</th>\n",
       "      <td>AGER_TYP</td>\n",
       "      <td>categorical</td>\n",
       "      <td>[-1, 0]</td>\n",
       "    </tr>\n",
       "    <tr>\n",
       "      <th>1</th>\n",
       "      <td>ALTERSKATEGORIE_GROB</td>\n",
       "      <td>ordinal</td>\n",
       "      <td>[-1, 0, 9]</td>\n",
       "    </tr>\n",
       "    <tr>\n",
       "      <th>2</th>\n",
       "      <td>ANREDE_KZ</td>\n",
       "      <td>categorical</td>\n",
       "      <td>[-1, 0]</td>\n",
       "    </tr>\n",
       "    <tr>\n",
       "      <th>3</th>\n",
       "      <td>CJT_GESAMTTYP</td>\n",
       "      <td>categorical</td>\n",
       "      <td>[0]</td>\n",
       "    </tr>\n",
       "    <tr>\n",
       "      <th>4</th>\n",
       "      <td>FINANZ_MINIMALIST</td>\n",
       "      <td>ordinal</td>\n",
       "      <td>[-1]</td>\n",
       "    </tr>\n",
       "  </tbody>\n",
       "</table>\n",
       "</div>"
      ],
      "text/plain": [
       "              attribute         type missing_or_unknown\n",
       "0              AGER_TYP  categorical            [-1, 0]\n",
       "1  ALTERSKATEGORIE_GROB      ordinal         [-1, 0, 9]\n",
       "2             ANREDE_KZ  categorical            [-1, 0]\n",
       "3         CJT_GESAMTTYP  categorical                [0]\n",
       "4     FINANZ_MINIMALIST      ordinal               [-1]"
      ]
     },
     "execution_count": 48,
     "metadata": {},
     "output_type": "execute_result"
    }
   ],
   "source": [
    "# feat_info\n",
    "feat_info['missing_or_unknown'] = feat_info['missing_or_unknown'].apply(lambda \n",
    "                                                                        x: x[1:-1].split(','))\n",
    "\n",
    "# Drop information_level \n",
    "feat_info.drop(['information_level'], axis=1, inplace=True)\n",
    "\n",
    "feat_info.head()"
   ]
  },
  {
   "cell_type": "code",
   "execution_count": 49,
   "metadata": {
    "collapsed": true
   },
   "outputs": [],
   "source": [
    "# Concat feat info\n",
    "new_feat_info = pd.concat([feat_info, sub_dias, no_transaction,\n",
    "                           unknown_Meaning], ignore_index=True)"
   ]
  },
  {
   "cell_type": "code",
   "execution_count": 50,
   "metadata": {
    "collapsed": false
   },
   "outputs": [
    {
     "data": {
      "text/plain": [
       "(276, 3)"
      ]
     },
     "execution_count": 50,
     "metadata": {},
     "output_type": "execute_result"
    }
   ],
   "source": [
    "# Shape of new_feat_info\n",
    "new_feat_info.shape"
   ]
  },
  {
   "cell_type": "code",
   "execution_count": 51,
   "metadata": {
    "collapsed": false
   },
   "outputs": [],
   "source": [
    "# Columns without type\n",
    "col = azdias.columns[~azdias.columns.isin(new_feat_info.attribute)]\n"
   ]
  },
  {
   "cell_type": "code",
   "execution_count": 52,
   "metadata": {
    "collapsed": false
   },
   "outputs": [
    {
     "data": {
      "text/html": [
       "<div>\n",
       "<style scoped>\n",
       "    .dataframe tbody tr th:only-of-type {\n",
       "        vertical-align: middle;\n",
       "    }\n",
       "\n",
       "    .dataframe tbody tr th {\n",
       "        vertical-align: top;\n",
       "    }\n",
       "\n",
       "    .dataframe thead th {\n",
       "        text-align: right;\n",
       "    }\n",
       "</style>\n",
       "<table border=\"1\" class=\"dataframe\">\n",
       "  <thead>\n",
       "    <tr style=\"text-align: right;\">\n",
       "      <th></th>\n",
       "      <th>D19_LETZTER_KAUF_BRANCHE</th>\n",
       "      <th>EINGEFUEGT_AM</th>\n",
       "    </tr>\n",
       "  </thead>\n",
       "  <tbody>\n",
       "    <tr>\n",
       "      <th>0</th>\n",
       "      <td>NaN</td>\n",
       "      <td>NaN</td>\n",
       "    </tr>\n",
       "    <tr>\n",
       "      <th>1</th>\n",
       "      <td>NaN</td>\n",
       "      <td>1992-02-10 00:00:00</td>\n",
       "    </tr>\n",
       "    <tr>\n",
       "      <th>2</th>\n",
       "      <td>D19_UNBEKANNT</td>\n",
       "      <td>1992-02-12 00:00:00</td>\n",
       "    </tr>\n",
       "    <tr>\n",
       "      <th>3</th>\n",
       "      <td>D19_UNBEKANNT</td>\n",
       "      <td>1997-04-21 00:00:00</td>\n",
       "    </tr>\n",
       "    <tr>\n",
       "      <th>4</th>\n",
       "      <td>D19_SCHUHE</td>\n",
       "      <td>1992-02-12 00:00:00</td>\n",
       "    </tr>\n",
       "  </tbody>\n",
       "</table>\n",
       "</div>"
      ],
      "text/plain": [
       "  D19_LETZTER_KAUF_BRANCHE        EINGEFUEGT_AM\n",
       "0                      NaN                  NaN\n",
       "1                      NaN  1992-02-10 00:00:00\n",
       "2            D19_UNBEKANNT  1992-02-12 00:00:00\n",
       "3            D19_UNBEKANNT  1997-04-21 00:00:00\n",
       "4               D19_SCHUHE  1992-02-12 00:00:00"
      ]
     },
     "execution_count": 52,
     "metadata": {},
     "output_type": "execute_result"
    }
   ],
   "source": [
    "# Check object features\n",
    "sub_object = azdias[col].select_dtypes(include='object')\n",
    "sub_object.head()"
   ]
  },
  {
   "cell_type": "code",
   "execution_count": 53,
   "metadata": {
    "collapsed": false
   },
   "outputs": [
    {
     "data": {
      "text/plain": [
       "NaN                       257113\n",
       "D19_UNBEKANNT             195338\n",
       "D19_VERSICHERUNGEN         57734\n",
       "D19_SONSTIGE               44722\n",
       "D19_VOLLSORTIMENT          34812\n",
       "D19_SCHUHE                 32578\n",
       "D19_BUCH_CD                28754\n",
       "D19_VERSAND_REST           26034\n",
       "D19_DROGERIEARTIKEL        24072\n",
       "D19_BANKEN_DIREKT          23273\n",
       "D19_BEKLEIDUNG_REST        21796\n",
       "D19_HAUS_DEKO              20858\n",
       "D19_TELKO_MOBILE           14447\n",
       "D19_ENERGIE                12084\n",
       "D19_TELKO_REST             11472\n",
       "D19_BANKEN_GROSS           10550\n",
       "D19_BEKLEIDUNG_GEH         10272\n",
       "D19_KINDERARTIKEL           7301\n",
       "D19_FREIZEIT                7257\n",
       "D19_TECHNIK                 7002\n",
       "D19_LEBENSMITTEL            6458\n",
       "D19_BANKEN_REST             5247\n",
       "D19_RATGEBER                4931\n",
       "D19_NAHRUNGSERGAENZUNG      4061\n",
       "D19_DIGIT_SERV              3577\n",
       "D19_REISEN                  3122\n",
       "D19_TIERARTIKEL             2578\n",
       "D19_SAMMELARTIKEL           2443\n",
       "D19_HANDWERK                2227\n",
       "D19_WEIN_FEINKOST           2164\n",
       "D19_GARTEN                  1646\n",
       "D19_BANKEN_LOKAL            1442\n",
       "D19_BIO_OEKO                1232\n",
       "D19_BILDUNG                  980\n",
       "D19_LOTTO                    839\n",
       "D19_KOSMETIK                 805\n",
       "Name: D19_LETZTER_KAUF_BRANCHE, dtype: int64"
      ]
     },
     "execution_count": 53,
     "metadata": {},
     "output_type": "execute_result"
    }
   ],
   "source": [
    "sub_object.D19_LETZTER_KAUF_BRANCHE.value_counts(dropna=False)"
   ]
  },
  {
   "cell_type": "code",
   "execution_count": 54,
   "metadata": {
    "collapsed": false
   },
   "outputs": [
    {
     "data": {
      "text/html": [
       "<div>\n",
       "<style scoped>\n",
       "    .dataframe tbody tr th:only-of-type {\n",
       "        vertical-align: middle;\n",
       "    }\n",
       "\n",
       "    .dataframe tbody tr th {\n",
       "        vertical-align: top;\n",
       "    }\n",
       "\n",
       "    .dataframe thead th {\n",
       "        text-align: right;\n",
       "    }\n",
       "</style>\n",
       "<table border=\"1\" class=\"dataframe\">\n",
       "  <thead>\n",
       "    <tr style=\"text-align: right;\">\n",
       "      <th></th>\n",
       "      <th>LNR</th>\n",
       "      <th>AKT_DAT_KL</th>\n",
       "      <th>ALTER_KIND1</th>\n",
       "      <th>ALTER_KIND2</th>\n",
       "      <th>ALTER_KIND3</th>\n",
       "      <th>ALTER_KIND4</th>\n",
       "      <th>ALTERSKATEGORIE_FEIN</th>\n",
       "      <th>ANZ_KINDER</th>\n",
       "      <th>ANZ_STATISTISCHE_HAUSHALTE</th>\n",
       "      <th>CJT_KATALOGNUTZER</th>\n",
       "      <th>...</th>\n",
       "      <th>STRUKTURTYP</th>\n",
       "      <th>UMFELD_ALT</th>\n",
       "      <th>UMFELD_JUNG</th>\n",
       "      <th>UNGLEICHENN_FLAG</th>\n",
       "      <th>VERDICHTUNGSRAUM</th>\n",
       "      <th>VHA</th>\n",
       "      <th>VHN</th>\n",
       "      <th>VK_DHT4A</th>\n",
       "      <th>VK_DISTANZ</th>\n",
       "      <th>VK_ZG11</th>\n",
       "    </tr>\n",
       "  </thead>\n",
       "  <tbody>\n",
       "    <tr>\n",
       "      <th>count</th>\n",
       "      <td>8.912210e+05</td>\n",
       "      <td>817722.000000</td>\n",
       "      <td>81058.000000</td>\n",
       "      <td>29499.000000</td>\n",
       "      <td>6170.000000</td>\n",
       "      <td>1205.000000</td>\n",
       "      <td>628274.000000</td>\n",
       "      <td>817722.000000</td>\n",
       "      <td>798073.000000</td>\n",
       "      <td>886367.000000</td>\n",
       "      <td>...</td>\n",
       "      <td>793947.000000</td>\n",
       "      <td>793435.000000</td>\n",
       "      <td>793435.000000</td>\n",
       "      <td>817722.000000</td>\n",
       "      <td>793947.00000</td>\n",
       "      <td>817722.00000</td>\n",
       "      <td>770025.000000</td>\n",
       "      <td>815304.000000</td>\n",
       "      <td>815304.000000</td>\n",
       "      <td>815304.000000</td>\n",
       "    </tr>\n",
       "    <tr>\n",
       "      <th>mean</th>\n",
       "      <td>6.372630e+05</td>\n",
       "      <td>4.421928</td>\n",
       "      <td>11.745392</td>\n",
       "      <td>13.402658</td>\n",
       "      <td>14.476013</td>\n",
       "      <td>15.089627</td>\n",
       "      <td>13.700717</td>\n",
       "      <td>0.154018</td>\n",
       "      <td>7.599356</td>\n",
       "      <td>3.335264</td>\n",
       "      <td>...</td>\n",
       "      <td>2.539212</td>\n",
       "      <td>3.223125</td>\n",
       "      <td>4.017526</td>\n",
       "      <td>0.090067</td>\n",
       "      <td>4.58576</td>\n",
       "      <td>0.43882</td>\n",
       "      <td>2.417322</td>\n",
       "      <td>6.001214</td>\n",
       "      <td>7.532130</td>\n",
       "      <td>5.945972</td>\n",
       "    </tr>\n",
       "    <tr>\n",
       "      <th>std</th>\n",
       "      <td>2.572735e+05</td>\n",
       "      <td>3.638805</td>\n",
       "      <td>4.097660</td>\n",
       "      <td>3.243300</td>\n",
       "      <td>2.712427</td>\n",
       "      <td>2.452932</td>\n",
       "      <td>5.079849</td>\n",
       "      <td>0.502389</td>\n",
       "      <td>14.332201</td>\n",
       "      <td>1.493633</td>\n",
       "      <td>...</td>\n",
       "      <td>0.754926</td>\n",
       "      <td>1.255785</td>\n",
       "      <td>1.118399</td>\n",
       "      <td>0.286278</td>\n",
       "      <td>8.47152</td>\n",
       "      <td>1.14329</td>\n",
       "      <td>1.166572</td>\n",
       "      <td>2.856091</td>\n",
       "      <td>3.247789</td>\n",
       "      <td>2.771464</td>\n",
       "    </tr>\n",
       "    <tr>\n",
       "      <th>min</th>\n",
       "      <td>1.916530e+05</td>\n",
       "      <td>1.000000</td>\n",
       "      <td>2.000000</td>\n",
       "      <td>2.000000</td>\n",
       "      <td>4.000000</td>\n",
       "      <td>7.000000</td>\n",
       "      <td>0.000000</td>\n",
       "      <td>0.000000</td>\n",
       "      <td>0.000000</td>\n",
       "      <td>1.000000</td>\n",
       "      <td>...</td>\n",
       "      <td>1.000000</td>\n",
       "      <td>1.000000</td>\n",
       "      <td>1.000000</td>\n",
       "      <td>0.000000</td>\n",
       "      <td>0.00000</td>\n",
       "      <td>0.00000</td>\n",
       "      <td>0.000000</td>\n",
       "      <td>1.000000</td>\n",
       "      <td>1.000000</td>\n",
       "      <td>1.000000</td>\n",
       "    </tr>\n",
       "    <tr>\n",
       "      <th>25%</th>\n",
       "      <td>4.144580e+05</td>\n",
       "      <td>1.000000</td>\n",
       "      <td>8.000000</td>\n",
       "      <td>11.000000</td>\n",
       "      <td>13.000000</td>\n",
       "      <td>14.000000</td>\n",
       "      <td>11.000000</td>\n",
       "      <td>0.000000</td>\n",
       "      <td>1.000000</td>\n",
       "      <td>2.000000</td>\n",
       "      <td>...</td>\n",
       "      <td>2.000000</td>\n",
       "      <td>2.000000</td>\n",
       "      <td>3.000000</td>\n",
       "      <td>0.000000</td>\n",
       "      <td>0.00000</td>\n",
       "      <td>0.00000</td>\n",
       "      <td>2.000000</td>\n",
       "      <td>3.000000</td>\n",
       "      <td>5.000000</td>\n",
       "      <td>4.000000</td>\n",
       "    </tr>\n",
       "    <tr>\n",
       "      <th>50%</th>\n",
       "      <td>6.372630e+05</td>\n",
       "      <td>3.000000</td>\n",
       "      <td>12.000000</td>\n",
       "      <td>14.000000</td>\n",
       "      <td>15.000000</td>\n",
       "      <td>15.000000</td>\n",
       "      <td>14.000000</td>\n",
       "      <td>0.000000</td>\n",
       "      <td>3.000000</td>\n",
       "      <td>4.000000</td>\n",
       "      <td>...</td>\n",
       "      <td>3.000000</td>\n",
       "      <td>3.000000</td>\n",
       "      <td>4.000000</td>\n",
       "      <td>0.000000</td>\n",
       "      <td>1.00000</td>\n",
       "      <td>0.00000</td>\n",
       "      <td>2.000000</td>\n",
       "      <td>6.000000</td>\n",
       "      <td>8.000000</td>\n",
       "      <td>6.000000</td>\n",
       "    </tr>\n",
       "    <tr>\n",
       "      <th>75%</th>\n",
       "      <td>8.600680e+05</td>\n",
       "      <td>9.000000</td>\n",
       "      <td>15.000000</td>\n",
       "      <td>16.000000</td>\n",
       "      <td>17.000000</td>\n",
       "      <td>17.000000</td>\n",
       "      <td>17.000000</td>\n",
       "      <td>0.000000</td>\n",
       "      <td>9.000000</td>\n",
       "      <td>5.000000</td>\n",
       "      <td>...</td>\n",
       "      <td>3.000000</td>\n",
       "      <td>4.000000</td>\n",
       "      <td>5.000000</td>\n",
       "      <td>0.000000</td>\n",
       "      <td>5.00000</td>\n",
       "      <td>0.00000</td>\n",
       "      <td>3.000000</td>\n",
       "      <td>9.000000</td>\n",
       "      <td>10.000000</td>\n",
       "      <td>8.000000</td>\n",
       "    </tr>\n",
       "    <tr>\n",
       "      <th>max</th>\n",
       "      <td>1.082873e+06</td>\n",
       "      <td>9.000000</td>\n",
       "      <td>18.000000</td>\n",
       "      <td>18.000000</td>\n",
       "      <td>18.000000</td>\n",
       "      <td>18.000000</td>\n",
       "      <td>25.000000</td>\n",
       "      <td>11.000000</td>\n",
       "      <td>449.000000</td>\n",
       "      <td>5.000000</td>\n",
       "      <td>...</td>\n",
       "      <td>3.000000</td>\n",
       "      <td>5.000000</td>\n",
       "      <td>5.000000</td>\n",
       "      <td>1.000000</td>\n",
       "      <td>45.00000</td>\n",
       "      <td>5.00000</td>\n",
       "      <td>4.000000</td>\n",
       "      <td>11.000000</td>\n",
       "      <td>13.000000</td>\n",
       "      <td>11.000000</td>\n",
       "    </tr>\n",
       "  </tbody>\n",
       "</table>\n",
       "<p>8 rows × 88 columns</p>\n",
       "</div>"
      ],
      "text/plain": [
       "                LNR     AKT_DAT_KL   ALTER_KIND1   ALTER_KIND2  ALTER_KIND3  \\\n",
       "count  8.912210e+05  817722.000000  81058.000000  29499.000000  6170.000000   \n",
       "mean   6.372630e+05       4.421928     11.745392     13.402658    14.476013   \n",
       "std    2.572735e+05       3.638805      4.097660      3.243300     2.712427   \n",
       "min    1.916530e+05       1.000000      2.000000      2.000000     4.000000   \n",
       "25%    4.144580e+05       1.000000      8.000000     11.000000    13.000000   \n",
       "50%    6.372630e+05       3.000000     12.000000     14.000000    15.000000   \n",
       "75%    8.600680e+05       9.000000     15.000000     16.000000    17.000000   \n",
       "max    1.082873e+06       9.000000     18.000000     18.000000    18.000000   \n",
       "\n",
       "       ALTER_KIND4  ALTERSKATEGORIE_FEIN     ANZ_KINDER  \\\n",
       "count  1205.000000         628274.000000  817722.000000   \n",
       "mean     15.089627             13.700717       0.154018   \n",
       "std       2.452932              5.079849       0.502389   \n",
       "min       7.000000              0.000000       0.000000   \n",
       "25%      14.000000             11.000000       0.000000   \n",
       "50%      15.000000             14.000000       0.000000   \n",
       "75%      17.000000             17.000000       0.000000   \n",
       "max      18.000000             25.000000      11.000000   \n",
       "\n",
       "       ANZ_STATISTISCHE_HAUSHALTE  CJT_KATALOGNUTZER  ...    STRUKTURTYP  \\\n",
       "count               798073.000000      886367.000000  ...  793947.000000   \n",
       "mean                     7.599356           3.335264  ...       2.539212   \n",
       "std                     14.332201           1.493633  ...       0.754926   \n",
       "min                      0.000000           1.000000  ...       1.000000   \n",
       "25%                      1.000000           2.000000  ...       2.000000   \n",
       "50%                      3.000000           4.000000  ...       3.000000   \n",
       "75%                      9.000000           5.000000  ...       3.000000   \n",
       "max                    449.000000           5.000000  ...       3.000000   \n",
       "\n",
       "          UMFELD_ALT    UMFELD_JUNG  UNGLEICHENN_FLAG  VERDICHTUNGSRAUM  \\\n",
       "count  793435.000000  793435.000000     817722.000000      793947.00000   \n",
       "mean        3.223125       4.017526          0.090067           4.58576   \n",
       "std         1.255785       1.118399          0.286278           8.47152   \n",
       "min         1.000000       1.000000          0.000000           0.00000   \n",
       "25%         2.000000       3.000000          0.000000           0.00000   \n",
       "50%         3.000000       4.000000          0.000000           1.00000   \n",
       "75%         4.000000       5.000000          0.000000           5.00000   \n",
       "max         5.000000       5.000000          1.000000          45.00000   \n",
       "\n",
       "                VHA            VHN       VK_DHT4A     VK_DISTANZ  \\\n",
       "count  817722.00000  770025.000000  815304.000000  815304.000000   \n",
       "mean        0.43882       2.417322       6.001214       7.532130   \n",
       "std         1.14329       1.166572       2.856091       3.247789   \n",
       "min         0.00000       0.000000       1.000000       1.000000   \n",
       "25%         0.00000       2.000000       3.000000       5.000000   \n",
       "50%         0.00000       2.000000       6.000000       8.000000   \n",
       "75%         0.00000       3.000000       9.000000      10.000000   \n",
       "max         5.00000       4.000000      11.000000      13.000000   \n",
       "\n",
       "             VK_ZG11  \n",
       "count  815304.000000  \n",
       "mean        5.945972  \n",
       "std         2.771464  \n",
       "min         1.000000  \n",
       "25%         4.000000  \n",
       "50%         6.000000  \n",
       "75%         8.000000  \n",
       "max        11.000000  \n",
       "\n",
       "[8 rows x 88 columns]"
      ]
     },
     "execution_count": 54,
     "metadata": {},
     "output_type": "execute_result"
    }
   ],
   "source": [
    "describe = azdias[col].describe()\n",
    "describe"
   ]
  },
  {
   "cell_type": "code",
   "execution_count": 55,
   "metadata": {
    "collapsed": false
   },
   "outputs": [
    {
     "data": {
      "text/html": [
       "<div>\n",
       "<style scoped>\n",
       "    .dataframe tbody tr th:only-of-type {\n",
       "        vertical-align: middle;\n",
       "    }\n",
       "\n",
       "    .dataframe tbody tr th {\n",
       "        vertical-align: top;\n",
       "    }\n",
       "\n",
       "    .dataframe thead th {\n",
       "        text-align: right;\n",
       "    }\n",
       "</style>\n",
       "<table border=\"1\" class=\"dataframe\">\n",
       "  <thead>\n",
       "    <tr style=\"text-align: right;\">\n",
       "      <th></th>\n",
       "      <th>Information level</th>\n",
       "      <th>Attribute</th>\n",
       "      <th>Description</th>\n",
       "      <th>Additional notes</th>\n",
       "    </tr>\n",
       "  </thead>\n",
       "  <tbody>\n",
       "    <tr>\n",
       "      <th>67</th>\n",
       "      <td>NaN</td>\n",
       "      <td>D19_VERSI_OFFLINE_DATUM</td>\n",
       "      <td>actuality of the last transaction for the segm...</td>\n",
       "      <td>NaN</td>\n",
       "    </tr>\n",
       "    <tr>\n",
       "      <th>68</th>\n",
       "      <td>NaN</td>\n",
       "      <td>D19_VERSI_ONLINE_DATUM</td>\n",
       "      <td>actuality of the last transaction for the segm...</td>\n",
       "      <td>NaN</td>\n",
       "    </tr>\n",
       "    <tr>\n",
       "      <th>69</th>\n",
       "      <td>NaN</td>\n",
       "      <td>D19_VERSI_DATUM</td>\n",
       "      <td>actuality of the last transaction for the segm...</td>\n",
       "      <td>NaN</td>\n",
       "    </tr>\n",
       "  </tbody>\n",
       "</table>\n",
       "</div>"
      ],
      "text/plain": [
       "   Information level                Attribute  \\\n",
       "67               NaN  D19_VERSI_OFFLINE_DATUM   \n",
       "68               NaN   D19_VERSI_ONLINE_DATUM   \n",
       "69               NaN          D19_VERSI_DATUM   \n",
       "\n",
       "                                          Description Additional notes  \n",
       "67  actuality of the last transaction for the segm...              NaN  \n",
       "68  actuality of the last transaction for the segm...              NaN  \n",
       "69  actuality of the last transaction for the segm...              NaN  "
      ]
     },
     "execution_count": 55,
     "metadata": {},
     "output_type": "execute_result"
    }
   ],
   "source": [
    "# Data information\n",
    "dias_info = pd.read_excel('Arvato_data/DIAS Information Levels - Attributes 2017.xlsx',\n",
    "                          skiprows=[0])\n",
    "del dias_info['Unnamed: 0']\n",
    "dias_info = dias_info[dias_info.Attribute.isin(col)]\n",
    "\n",
    "dias_info"
   ]
  },
  {
   "cell_type": "code",
   "execution_count": 56,
   "metadata": {
    "collapsed": true
   },
   "outputs": [],
   "source": [
    "# List of columns to drop\n",
    "\n",
    "col_to_drop = list(sub_object.columns)"
   ]
  },
  {
   "cell_type": "markdown",
   "metadata": {},
   "source": [
    "## Discusion\n",
    "\n",
    "**D19_LETZTER_KAUF_BRANCHE  contains some variables names, and EINGEFUEGT_AM includes timestamps. Therefore, I will drop them.**"
   ]
  },
  {
   "cell_type": "code",
   "execution_count": 57,
   "metadata": {
    "collapsed": false
   },
   "outputs": [
    {
     "data": {
      "text/html": [
       "<div>\n",
       "<style scoped>\n",
       "    .dataframe tbody tr th:only-of-type {\n",
       "        vertical-align: middle;\n",
       "    }\n",
       "\n",
       "    .dataframe tbody tr th {\n",
       "        vertical-align: top;\n",
       "    }\n",
       "\n",
       "    .dataframe thead th {\n",
       "        text-align: right;\n",
       "    }\n",
       "</style>\n",
       "<table border=\"1\" class=\"dataframe\">\n",
       "  <thead>\n",
       "    <tr style=\"text-align: right;\">\n",
       "      <th></th>\n",
       "      <th>attribute</th>\n",
       "      <th>type</th>\n",
       "      <th>missing_or_unknown</th>\n",
       "    </tr>\n",
       "  </thead>\n",
       "  <tbody>\n",
       "    <tr>\n",
       "      <th>0</th>\n",
       "      <td>LNR</td>\n",
       "      <td>numeric</td>\n",
       "      <td>[]</td>\n",
       "    </tr>\n",
       "    <tr>\n",
       "      <th>1</th>\n",
       "      <td>AKT_DAT_KL</td>\n",
       "      <td>numeric</td>\n",
       "      <td>[]</td>\n",
       "    </tr>\n",
       "    <tr>\n",
       "      <th>2</th>\n",
       "      <td>ALTER_KIND1</td>\n",
       "      <td>numeric</td>\n",
       "      <td>[]</td>\n",
       "    </tr>\n",
       "    <tr>\n",
       "      <th>3</th>\n",
       "      <td>ALTER_KIND2</td>\n",
       "      <td>numeric</td>\n",
       "      <td>[]</td>\n",
       "    </tr>\n",
       "    <tr>\n",
       "      <th>4</th>\n",
       "      <td>ALTER_KIND3</td>\n",
       "      <td>numeric</td>\n",
       "      <td>[]</td>\n",
       "    </tr>\n",
       "  </tbody>\n",
       "</table>\n",
       "</div>"
      ],
      "text/plain": [
       "     attribute     type missing_or_unknown\n",
       "0          LNR  numeric                 []\n",
       "1   AKT_DAT_KL  numeric                 []\n",
       "2  ALTER_KIND1  numeric                 []\n",
       "3  ALTER_KIND2  numeric                 []\n",
       "4  ALTER_KIND3  numeric                 []"
      ]
     },
     "execution_count": 57,
     "metadata": {},
     "output_type": "execute_result"
    }
   ],
   "source": [
    "last_att_info = pd.DataFrame({'attribute': list(describe.columns)})\n",
    "last_att_info['type'] = 'numeric'\n",
    "last_att_info['missing_or_unknown'] = last_att_info['type'].apply(lambda\n",
    "                                                                 x: [])\n",
    "\n",
    "last_att_info.head()"
   ]
  },
  {
   "cell_type": "code",
   "execution_count": 58,
   "metadata": {
    "collapsed": false
   },
   "outputs": [
    {
     "data": {
      "text/plain": [
       "(364, 3)"
      ]
     },
     "execution_count": 58,
     "metadata": {},
     "output_type": "execute_result"
    }
   ],
   "source": [
    "# Concat last_att_info and new_feat_info\n",
    "new_feat_info = pd.concat([new_feat_info, last_att_info], ignore_index=True)\n",
    "\n",
    "new_feat_info.shape"
   ]
  },
  {
   "cell_type": "markdown",
   "metadata": {},
   "source": [
    "#### Step 1.1.1: Convert Missing Value Codes to NaNs"
   ]
  },
  {
   "cell_type": "code",
   "execution_count": 59,
   "metadata": {
    "collapsed": false
   },
   "outputs": [
    {
     "name": "stderr",
     "output_type": "stream",
     "text": [
      "/home/jaouadeddadsi2016/anaconda3/lib/python3.5/site-packages/pandas/core/ops.py:1649: FutureWarning: elementwise comparison failed; returning scalar instead, but in the future will perform elementwise comparison\n",
      "  result = method(y)\n"
     ]
    }
   ],
   "source": [
    "# Identify missing or unknown data values and convert them to NaNs.\n",
    "for attrib, missing_values in zip(new_feat_info['attribute'],\n",
    "                                  new_feat_info['missing_or_unknown']):\n",
    "    if len(missing_values) != 0:\n",
    "        for value in missing_values:\n",
    "            if value.isnumeric() or value.lstrip('-').isnumeric():\n",
    "                value = int(value)\n",
    "            azdias.loc[azdias[attrib] == value, attrib] = np.nan"
   ]
  },
  {
   "cell_type": "code",
   "execution_count": 60,
   "metadata": {
    "collapsed": false
   },
   "outputs": [
    {
     "data": {
      "text/plain": [
       "(891221, 364)"
      ]
     },
     "execution_count": 60,
     "metadata": {},
     "output_type": "execute_result"
    }
   ],
   "source": [
    "# Drop col_to_drop\n",
    "azdias.drop(col_to_drop, axis=1, inplace=True)\n",
    "\n",
    "# check shape\n",
    "azdias.shape"
   ]
  },
  {
   "cell_type": "markdown",
   "metadata": {},
   "source": [
    "#### Step 1.1.2: Assess Missing Data in Each Column"
   ]
  },
  {
   "cell_type": "code",
   "execution_count": 61,
   "metadata": {
    "collapsed": true
   },
   "outputs": [],
   "source": [
    "# Missing Data in Each Column\n",
    "count_nan = azdias.isnull().sum()/len(azdias)"
   ]
  },
  {
   "cell_type": "code",
   "execution_count": 62,
   "metadata": {
    "collapsed": false
   },
   "outputs": [
    {
     "data": {
      "image/png": "[encoded data removed]",
      "text/plain": [
       "<matplotlib.figure.Figure at 0x7fe8125607b8>"
      ]
     },
     "metadata": {},
     "output_type": "display_data"
    }
   ],
   "source": [
    "plt.figure()\n",
    "sns.distplot(count_nan.values, kde=False)\n",
    "plt.ylabel('count')\n",
    "plt.xlabel('% of nan')\n",
    "plt.title('Distribution of missing value per columns')\n",
    "plt.show()"
   ]
  },
  {
   "cell_type": "markdown",
   "metadata": {},
   "source": [
    "#### Discusion\n",
    "\n",
    "Most features contain less than 30% of missing values. I will drop all the features that include more than 30% of missing values."
   ]
  },
  {
   "cell_type": "code",
   "execution_count": 63,
   "metadata": {
    "collapsed": false
   },
   "outputs": [
    {
     "data": {
      "text/plain": [
       "21"
      ]
     },
     "execution_count": 63,
     "metadata": {},
     "output_type": "execute_result"
    }
   ],
   "source": [
    "# Get columns that have more than 30% of nan\n",
    "more_30 = count_nan[count_nan > 0.3]\n",
    "missing_col = list(more_30.index)\n",
    "len(missing_col)"
   ]
  },
  {
   "cell_type": "code",
   "execution_count": 64,
   "metadata": {
    "collapsed": false
   },
   "outputs": [
    {
     "data": {
      "text/plain": [
       "(891221, 343)"
      ]
     },
     "execution_count": 64,
     "metadata": {},
     "output_type": "execute_result"
    }
   ],
   "source": [
    "# Remove the outlier missing_col from the dataset.\n",
    "azdias.drop(missing_col, axis=1, inplace=True)\n",
    "\n",
    "azdias.shape"
   ]
  },
  {
   "cell_type": "markdown",
   "metadata": {},
   "source": [
    "#### Step 1.1.2: Assess Missing Data in Each row"
   ]
  },
  {
   "cell_type": "code",
   "execution_count": 65,
   "metadata": {
    "collapsed": true
   },
   "outputs": [],
   "source": [
    "# Missing Data in Each Column\n",
    "row_nan = azdias.isnull().sum(axis=1)"
   ]
  },
  {
   "cell_type": "code",
   "execution_count": 66,
   "metadata": {
    "collapsed": false
   },
   "outputs": [
    {
     "data": {
      "image/png": "[encoded data removed]",
      "text/plain": [
       "<matplotlib.figure.Figure at 0x7fe811b02fd0>"
      ]
     },
     "metadata": {},
     "output_type": "display_data"
    }
   ],
   "source": [
    "plt.figure()\n",
    "sns.distplot(row_nan.values/343, kde=False)\n",
    "plt.ylabel('count')\n",
    "plt.xlabel('% of nan')\n",
    "plt.title('Distribution of missing value per row')\n",
    "plt.show()"
   ]
  },
  {
   "cell_type": "markdown",
   "metadata": {
    "collapsed": true
   },
   "source": [
    "#### Discusion\n",
    "\n",
    "Rows that contain many missing values are harmful to machine learning algorithms. Therefore I will drop rows that contain more than 50% of missing values."
   ]
  },
  {
   "cell_type": "code",
   "execution_count": 67,
   "metadata": {
    "collapsed": false
   },
   "outputs": [
    {
     "data": {
      "text/plain": [
       "(791987, 343)"
      ]
     },
     "execution_count": 67,
     "metadata": {},
     "output_type": "execute_result"
    }
   ],
   "source": [
    "# Drop row that contains more than 50% of nan values\n",
    "azdias = azdias.loc[row_nan[row_nan <= 0.5*343].index]\n",
    "\n",
    "azdias.reset_index(drop=True, inplace=True)\n",
    "\n",
    "azdias.shape"
   ]
  },
  {
   "cell_type": "code",
   "execution_count": 68,
   "metadata": {
    "collapsed": false
   },
   "outputs": [
    {
     "name": "stdout",
     "output_type": "stream",
     "text": [
      "<class 'pandas.core.frame.DataFrame'>\n",
      "RangeIndex: 791987 entries, 0 to 791986\n",
      "Columns: 343 entries, LNR to ALTERSKATEGORIE_GROB\n",
      "dtypes: float64(288), int64(51), object(4)\n",
      "memory usage: 2.0+ GB\n"
     ]
    }
   ],
   "source": [
    "azdias.info()"
   ]
  },
  {
   "cell_type": "markdown",
   "metadata": {},
   "source": [
    "### Step 1.2: Select and Re-Encode Features\n",
    "\n",
    "Machine learning techniques work only on data that is encoded numerically, while almost all of the values in the dataset are encoded using numbers, not all of them represent numeric values.  I will use the features description to re-encode features.\n",
    "- I will keep numeric, ordinal and interval data without changes.\n",
    "- Special handling is necessary for the remaining two variable types: categorical, and  mixed."
   ]
  },
  {
   "cell_type": "code",
   "execution_count": 69,
   "metadata": {
    "collapsed": false
   },
   "outputs": [
    {
     "data": {
      "text/html": [
       "<div>\n",
       "<style scoped>\n",
       "    .dataframe tbody tr th:only-of-type {\n",
       "        vertical-align: middle;\n",
       "    }\n",
       "\n",
       "    .dataframe tbody tr th {\n",
       "        vertical-align: top;\n",
       "    }\n",
       "\n",
       "    .dataframe thead th {\n",
       "        text-align: right;\n",
       "    }\n",
       "</style>\n",
       "<table border=\"1\" class=\"dataframe\">\n",
       "  <thead>\n",
       "    <tr style=\"text-align: right;\">\n",
       "      <th></th>\n",
       "      <th>attribute</th>\n",
       "      <th>type</th>\n",
       "      <th>missing_or_unknown</th>\n",
       "    </tr>\n",
       "  </thead>\n",
       "  <tbody>\n",
       "    <tr>\n",
       "      <th>0</th>\n",
       "      <td>AGER_TYP</td>\n",
       "      <td>categorical</td>\n",
       "      <td>[-1, 0]</td>\n",
       "    </tr>\n",
       "    <tr>\n",
       "      <th>1</th>\n",
       "      <td>ALTERSKATEGORIE_GROB</td>\n",
       "      <td>ordinal</td>\n",
       "      <td>[-1, 0, 9]</td>\n",
       "    </tr>\n",
       "    <tr>\n",
       "      <th>2</th>\n",
       "      <td>ANREDE_KZ</td>\n",
       "      <td>categorical</td>\n",
       "      <td>[-1, 0]</td>\n",
       "    </tr>\n",
       "    <tr>\n",
       "      <th>3</th>\n",
       "      <td>CJT_GESAMTTYP</td>\n",
       "      <td>categorical</td>\n",
       "      <td>[0]</td>\n",
       "    </tr>\n",
       "    <tr>\n",
       "      <th>4</th>\n",
       "      <td>FINANZ_MINIMALIST</td>\n",
       "      <td>ordinal</td>\n",
       "      <td>[-1]</td>\n",
       "    </tr>\n",
       "  </tbody>\n",
       "</table>\n",
       "</div>"
      ],
      "text/plain": [
       "              attribute         type missing_or_unknown\n",
       "0              AGER_TYP  categorical            [-1, 0]\n",
       "1  ALTERSKATEGORIE_GROB      ordinal         [-1, 0, 9]\n",
       "2             ANREDE_KZ  categorical            [-1, 0]\n",
       "3         CJT_GESAMTTYP  categorical                [0]\n",
       "4     FINANZ_MINIMALIST      ordinal               [-1]"
      ]
     },
     "execution_count": 69,
     "metadata": {},
     "output_type": "execute_result"
    }
   ],
   "source": [
    "new_feat_info.head()"
   ]
  },
  {
   "cell_type": "code",
   "execution_count": 70,
   "metadata": {
    "collapsed": false
   },
   "outputs": [
    {
     "data": {
      "text/plain": [
       "343"
      ]
     },
     "execution_count": 70,
     "metadata": {},
     "output_type": "execute_result"
    }
   ],
   "source": [
    "# keep only azdias attribute\n",
    "final_feat_info = new_feat_info[new_feat_info.attribute.isin(azdias.columns)]\n",
    "\n",
    "len(final_feat_info)"
   ]
  },
  {
   "cell_type": "code",
   "execution_count": 71,
   "metadata": {
    "collapsed": false
   },
   "outputs": [
    {
     "data": {
      "text/plain": [
       "ordinal        229\n",
       "numeric         89\n",
       "categorical     19\n",
       "mixed            6\n",
       "Name: type, dtype: int64"
      ]
     },
     "execution_count": 71,
     "metadata": {},
     "output_type": "execute_result"
    }
   ],
   "source": [
    "# How many features are there of each data type?\n",
    "final_feat_info.type.value_counts(dropna=False)"
   ]
  },
  {
   "cell_type": "markdown",
   "metadata": {},
   "source": [
    "#### Step 1.2.1: Re-Encode Categorical Features\n",
    "\n",
    "For categorical data, depending on the number of categories,  I will perform one of the following:\n",
    "- For binary (two-level) categoricals that take numeric values, I will keep them without needing to do anything.\n",
    "- For a binary variable that takes on non-numeric values. I will re-encode the values as numbers.\n",
    "- For multi-level categoricals (three or more values), I will encode the values using multiple dummy variables. "
   ]
  },
  {
   "cell_type": "code",
   "execution_count": 72,
   "metadata": {
    "collapsed": false
   },
   "outputs": [
    {
     "data": {
      "text/html": [
       "<div>\n",
       "<style scoped>\n",
       "    .dataframe tbody tr th:only-of-type {\n",
       "        vertical-align: middle;\n",
       "    }\n",
       "\n",
       "    .dataframe tbody tr th {\n",
       "        vertical-align: top;\n",
       "    }\n",
       "\n",
       "    .dataframe thead th {\n",
       "        text-align: right;\n",
       "    }\n",
       "</style>\n",
       "<table border=\"1\" class=\"dataframe\">\n",
       "  <thead>\n",
       "    <tr style=\"text-align: right;\">\n",
       "      <th></th>\n",
       "      <th>attribute</th>\n",
       "      <th>type</th>\n",
       "      <th>missing_or_unknown</th>\n",
       "    </tr>\n",
       "  </thead>\n",
       "  <tbody>\n",
       "    <tr>\n",
       "      <th>1</th>\n",
       "      <td>ALTERSKATEGORIE_GROB</td>\n",
       "      <td>ordinal</td>\n",
       "      <td>[-1, 0, 9]</td>\n",
       "    </tr>\n",
       "    <tr>\n",
       "      <th>2</th>\n",
       "      <td>ANREDE_KZ</td>\n",
       "      <td>categorical</td>\n",
       "      <td>[-1, 0]</td>\n",
       "    </tr>\n",
       "    <tr>\n",
       "      <th>3</th>\n",
       "      <td>CJT_GESAMTTYP</td>\n",
       "      <td>categorical</td>\n",
       "      <td>[0]</td>\n",
       "    </tr>\n",
       "    <tr>\n",
       "      <th>4</th>\n",
       "      <td>FINANZ_MINIMALIST</td>\n",
       "      <td>ordinal</td>\n",
       "      <td>[-1]</td>\n",
       "    </tr>\n",
       "    <tr>\n",
       "      <th>5</th>\n",
       "      <td>FINANZ_SPARER</td>\n",
       "      <td>ordinal</td>\n",
       "      <td>[-1]</td>\n",
       "    </tr>\n",
       "  </tbody>\n",
       "</table>\n",
       "</div>"
      ],
      "text/plain": [
       "              attribute         type missing_or_unknown\n",
       "1  ALTERSKATEGORIE_GROB      ordinal         [-1, 0, 9]\n",
       "2             ANREDE_KZ  categorical            [-1, 0]\n",
       "3         CJT_GESAMTTYP  categorical                [0]\n",
       "4     FINANZ_MINIMALIST      ordinal               [-1]\n",
       "5         FINANZ_SPARER      ordinal               [-1]"
      ]
     },
     "execution_count": 72,
     "metadata": {},
     "output_type": "execute_result"
    }
   ],
   "source": [
    "final_feat_info.head()"
   ]
  },
  {
   "cell_type": "code",
   "execution_count": 73,
   "metadata": {
    "collapsed": false
   },
   "outputs": [],
   "source": [
    "# Get list of Categorical Features\n",
    "Cat_feat = list(final_feat_info.attribute[\n",
    "        final_feat_info.type == 'categorical'])\n",
    "\n",
    "binary_num_attribute = []\n",
    "binary_str_attribute = []\n",
    "multi_level_attribute = []\n",
    "\n",
    "for att in Cat_feat:\n",
    "    dtype = azdias[att].dtype\n",
    "    count = len(azdias[att].value_counts())\n",
    "\n",
    "    if count > 2:\n",
    "        multi_level_attribute.append(att)\n",
    "    else:\n",
    "        if dtype == 'object':\n",
    "            binary_str_attribute.append(att)\n",
    "        else:\n",
    "            binary_num_attribute.append(att)"
   ]
  },
  {
   "cell_type": "code",
   "execution_count": 74,
   "metadata": {
    "collapsed": false
   },
   "outputs": [
    {
     "data": {
      "text/plain": [
       "['ANREDE_KZ', 'GREEN_AVANTGARDE', 'SOHO_KZ', 'VERS_TYP']"
      ]
     },
     "execution_count": 74,
     "metadata": {},
     "output_type": "execute_result"
    }
   ],
   "source": [
    "# binary_num_attribute\n",
    "binary_num_attribute"
   ]
  },
  {
   "cell_type": "code",
   "execution_count": 75,
   "metadata": {
    "collapsed": false
   },
   "outputs": [
    {
     "data": {
      "text/plain": [
       "['OST_WEST_KZ']"
      ]
     },
     "execution_count": 75,
     "metadata": {},
     "output_type": "execute_result"
    }
   ],
   "source": [
    "# binary_str_attribute\n",
    "binary_str_attribute"
   ]
  },
  {
   "cell_type": "code",
   "execution_count": 76,
   "metadata": {
    "collapsed": false
   },
   "outputs": [
    {
     "data": {
      "text/plain": [
       "['CJT_GESAMTTYP',\n",
       " 'FINANZTYP',\n",
       " 'GFK_URLAUBERTYP',\n",
       " 'LP_FAMILIE_FEIN',\n",
       " 'LP_FAMILIE_GROB',\n",
       " 'LP_STATUS_FEIN',\n",
       " 'LP_STATUS_GROB',\n",
       " 'NATIONALITAET_KZ',\n",
       " 'SHOPPER_TYP',\n",
       " 'ZABEOTYP',\n",
       " 'GEBAEUDETYP',\n",
       " 'CAMEO_DEUG_2015',\n",
       " 'CAMEO_DEU_2015',\n",
       " 'D19_KONSUMTYP']"
      ]
     },
     "execution_count": 76,
     "metadata": {},
     "output_type": "execute_result"
    }
   ],
   "source": [
    "# multi_level_attribute\n",
    "multi_level_attribute"
   ]
  },
  {
   "cell_type": "code",
   "execution_count": 77,
   "metadata": {
    "collapsed": false
   },
   "outputs": [],
   "source": [
    "# Re-encode OST_WEST_KZ as dummy variable\n",
    "azdias['OST_WEST_KZ'] = azdias['OST_WEST_KZ'].map({'W': 1, 'O': 2})"
   ]
  },
  {
   "cell_type": "code",
   "execution_count": 78,
   "metadata": {
    "collapsed": true
   },
   "outputs": [],
   "source": [
    "# Convert cat to cat to dummies variables\n",
    "\n",
    "\n",
    "def encode_cat(df, list_cat):\n",
    "    list_df_dum = []\n",
    "    for col_dum in list_cat:\n",
    "        list_df_dum.append(pd.get_dummies(df[col_dum], prefix=col_dum))\n",
    "\n",
    "    assert len(list_df_dum) == len(list_cat)\n",
    "    \n",
    "    # Drop cat col from df\n",
    "    df.drop(list_cat, axis=1, inplace=True)\n",
    "    list_df_dum.append(df)\n",
    "    df = pd.concat(list_df_dum, axis=1)\n",
    "\n",
    "    return df"
   ]
  },
  {
   "cell_type": "code",
   "execution_count": 79,
   "metadata": {
    "collapsed": false
   },
   "outputs": [],
   "source": [
    "new_azdias = encode_cat(azdias, multi_level_attribute)"
   ]
  },
  {
   "cell_type": "markdown",
   "metadata": {
    "collapsed": true
   },
   "source": [
    "## Step 1.2.2: Engineer Mixed-Type Features\n",
    "\n",
    "There are a handful of mixed features. I will use the feature summary given in the previous project to encode them as ordinal and dummies variables."
   ]
  },
  {
   "cell_type": "code",
   "execution_count": 80,
   "metadata": {
    "collapsed": false
   },
   "outputs": [
    {
     "data": {
      "text/plain": [
       "['LP_LEBENSPHASE_FEIN',\n",
       " 'LP_LEBENSPHASE_GROB',\n",
       " 'PRAEGENDE_JUGENDJAHRE',\n",
       " 'WOHNLAGE',\n",
       " 'CAMEO_INTL_2015',\n",
       " 'PLZ8_BAUMAX']"
      ]
     },
     "execution_count": 80,
     "metadata": {},
     "output_type": "execute_result"
    }
   ],
   "source": [
    "mixed_att = list(final_feat_info.attribute[final_feat_info.type == 'mixed'])\n",
    "mixed_att"
   ]
  },
  {
   "cell_type": "markdown",
   "metadata": {},
   "source": [
    "**\"PRAEGENDE_JUGENDJAHRE\" Combines information on three dimensions: generation by decade, movement (mainstream vs. avantgarde), and nation (east vs. west). While there aren't enough levels to disentangle east from west, I will create two new variables to capture the other two dimensions: an interval-type variable for decade, and a binary variable for movement.**"
   ]
  },
  {
   "cell_type": "code",
   "execution_count": 81,
   "metadata": {
    "collapsed": true
   },
   "outputs": [],
   "source": [
    "# Map decade\n",
    "dic_dec = {1: 40, 2: 40, 3: 50, 4: 50, 5: 60, 6: 60, 7: 60,\n",
    "           8: 70, 9: 70, 10: 80, 11: 80, 12: 80, 13: 80, 14: 90,\n",
    "           15: 90, np.nan: np.nan, -1: np.nan, 0: np.nan}\n",
    "\n",
    "# Map mouvement\n",
    "dic_mov = {1: 0, 2: 1, 3: 0, 4: 1, 5: 0, 6: 1, 7: 1, 8: 0,\n",
    "           9: 1, 10: 0, 11: 1, 12: 0, 13: 1, 14: 0, 15: 1,\n",
    "           np.nan: np.nan, -1: np.nan, 0: np.nan}\n",
    "\n",
    "new_azdias[\"PRAEGENDE_JUGENDJAHRE_dec\"] = new_azdias[\"PRAEGENDE_JUGENDJAHRE\"].map(dic_dec)\n",
    "\n",
    "# Mainstream : 0, Avantgarde : 1\n",
    "new_azdias[\"PRAEGENDE_JUGENDJAHRE_mov\"] = new_azdias[\"PRAEGENDE_JUGENDJAHRE\"].map(dic_mov)\n",
    "\n",
    "# Drop PRAEGENDE_JUGENDJAHRE\n",
    "new_azdias.drop('PRAEGENDE_JUGENDJAHRE', axis=1, inplace=True)"
   ]
  },
  {
   "cell_type": "markdown",
   "metadata": {},
   "source": [
    "**CAMEO_INTL_2015\" combines information on two axes: wealth and life stage. I will break up the two-digit codes by their 'tens'-place and 'ones'-place digits into two new ordinal variables.**"
   ]
  },
  {
   "cell_type": "code",
   "execution_count": 82,
   "metadata": {
    "collapsed": false
   },
   "outputs": [],
   "source": [
    "def encode_CAMEO_INTL_2015(x):\n",
    "\n",
    "    if np.isnan(x):\n",
    "        return [np.nan, np.nan]\n",
    "    else:\n",
    "        x = str(x).split('.')[0]\n",
    "        return [int(x[0]), int(x[1])]\n",
    "\n",
    "\n",
    "new_azdias[\"CAMEO_INTL_2015\"] = new_azdias[\"CAMEO_INTL_2015\"].astype('float')\n",
    "new_azdias[\"CAMEO_INTL_2015\"] = new_azdias[\"CAMEO_INTL_2015\"].apply(encode_CAMEO_INTL_2015)\n",
    "\n",
    "# CAMEO_INTL_2015_wealth\n",
    "new_azdias[\"CAMEO_INTL_2015_wealth\"] = new_azdias[\"CAMEO_INTL_2015\"].apply(lambda x: x[0])\n",
    "\n",
    "# CAMEO_INTL_2015_life_stage\n",
    "new_azdias[\"CAMEO_INTL_2015_life_stage\"] = new_azdias[\"CAMEO_INTL_2015\"].apply(lambda x: x[1])\n",
    "\n",
    "# drop CAMEO_INTL_2015\n",
    "new_azdias.drop('CAMEO_INTL_2015', axis=1, inplace=True)"
   ]
  },
  {
   "cell_type": "markdown",
   "metadata": {},
   "source": [
    "**LP_LEBENSPHASE_FEIN contains information about life stage and fine scale and fine scale. I will create two new ordinals features, one for life_stage and other for fine_scale**"
   ]
  },
  {
   "cell_type": "code",
   "execution_count": 83,
   "metadata": {
    "collapsed": true
   },
   "outputs": [],
   "source": [
    "life_stage = {1: 'younger_age', 2: 'middle_age', 3: 'younger_age',\n",
    "              4: 'middle_age', 5: 'advanced_age', 6: 'retirement_age',\n",
    "              7: 'advanced_age', 8: 'retirement_age', 9: 'middle_age',\n",
    "              10: 'middle_age', 11: 'advanced_age', 12: 'retirement_age',\n",
    "              13: 'advanced_age', 14: 'younger_age', 15: 'advanced_age',\n",
    "              16: 'advanced_age', 17: 'middle_age', 18: 'younger_age',\n",
    "              19: 'advanced_age', 20: 'advanced_age', 21: 'middle_age',\n",
    "              22: 'middle_age', 23: 'middle_age', 24: 'middle_age',\n",
    "              25: 'middle_age', 26: 'middle_age', 27: 'middle_age',\n",
    "              28: 'middle_age', 29: 'younger_age', 30: 'younger_age',\n",
    "              31: 'advanced_age', 32: 'advanced_age', 33: 'younger_age',\n",
    "              34: 'younger_age', 35: 'younger_age', 36: 'advanced_age',\n",
    "              37: 'advanced_age', 38: 'retirement_age', 39: 'middle_age',\n",
    "              40: 'retirement_age'}\n",
    "\n",
    "fine_scale = {1: 'low', 2: 'low', 3: 'average', 4: 'average', 5: 'low', 6: 'low',\n",
    "              7: 'average', 8: 'average', 9: 'average', 10: 'wealthy', 11: 'average',\n",
    "              12: 'average', 13: 'top', 14: 'average', 15: 'low', 16: 'average',\n",
    "              17: 'average', 18: 'wealthy', 19: 'wealthy', 20: 'top', 21: 'low',\n",
    "              22: 'average', 23: 'wealthy', 24: 'low', 25: 'average', 26: 'average',\n",
    "              27: 'average', 28: 'top', 29: 'low', 30: 'average', 31: 'low',\n",
    "              32: 'average', 33: 'average', 34: 'average', 35: 'top', 36: 'average',\n",
    "              37: 'average', 38: 'average', 39: 'top', 40: 'top'}\n",
    "\n",
    "new_azdias['LP_life_stage'] = new_azdias['LP_LEBENSPHASE_FEIN'].map(life_stage)\n",
    "new_azdias['LP_fine_scale'] = new_azdias['LP_LEBENSPHASE_FEIN'].map(fine_scale)\n",
    "\n",
    "# Drop LP_LEBENSPHASE_FEIN\n",
    "new_azdias.drop('LP_LEBENSPHASE_FEIN', axis=1, inplace=True)"
   ]
  },
  {
   "cell_type": "code",
   "execution_count": 84,
   "metadata": {
    "collapsed": true
   },
   "outputs": [],
   "source": [
    "# R-encode LP_life_stage and LP_fine_scale as ordinal\n",
    "dic_life = {'younger_age': 1, 'middle_age': 2, 'advanced_age': 3,\n",
    "            'retirement_age': 4}\n",
    "dic_scale = {'low': 1, 'average': 2, 'wealthy': 3, 'top': 4}\n",
    "\n",
    "new_azdias['LP_life_stage'] = new_azdias['LP_life_stage'].map(dic_life)\n",
    "new_azdias['LP_fine_scale'] = new_azdias['LP_fine_scale'].map(dic_scale)"
   ]
  },
  {
   "cell_type": "markdown",
   "metadata": {},
   "source": [
    " \n",
    "**LP_LEBENSPHASE_GROB contain the same  informations as   LP_LEBENSPHASE_FEIN. Therefore I will drop it.**"
   ]
  },
  {
   "cell_type": "code",
   "execution_count": 85,
   "metadata": {
    "collapsed": true
   },
   "outputs": [],
   "source": [
    "new_azdias.drop('LP_LEBENSPHASE_GROB', axis=1, inplace=True)"
   ]
  },
  {
   "cell_type": "markdown",
   "metadata": {},
   "source": [
    "**I will Re-encode WOHNLAGE  as a dummies variables**"
   ]
  },
  {
   "cell_type": "code",
   "execution_count": 86,
   "metadata": {
    "collapsed": false
   },
   "outputs": [],
   "source": [
    "# replace 0 by nan\n",
    "new_azdias['WOHNLAGE'] = new_azdias['WOHNLAGE'].replace(0, np.nan)\n",
    "\n",
    "# Get dummumies variable\n",
    "WOHNLAGE = pd.get_dummies(new_azdias['WOHNLAGE'], prefix='WOHNLAGE')\n",
    "\n",
    "# Drop WOHNLAGE\n",
    "new_azdias.drop('WOHNLAGE', axis=1, inplace=True)\n",
    "\n",
    "# concat WOHNLAGE with new_azdias\n",
    "new_azdias = pd.concat([new_azdias, WOHNLAGE], axis=1)"
   ]
  },
  {
   "cell_type": "markdown",
   "metadata": {},
   "source": [
    "**I will Re-encode PLZ8_BAUMAX  as a dummies variables**"
   ]
  },
  {
   "cell_type": "code",
   "execution_count": 87,
   "metadata": {
    "collapsed": false
   },
   "outputs": [],
   "source": [
    "# Get dummumies variable\n",
    "PLZ8_BAUMAX = pd.get_dummies(new_azdias['PLZ8_BAUMAX'], prefix='PLZ8_BAUMAX')\n",
    "\n",
    "# Drop PLZ8_BAUMAX\n",
    "new_azdias.drop('PLZ8_BAUMAX', axis=1, inplace=True)\n",
    "\n",
    "# concat WOHNLAGE with new_azdias\n",
    "new_azdias = pd.concat([new_azdias, PLZ8_BAUMAX], axis=1)"
   ]
  },
  {
   "cell_type": "markdown",
   "metadata": {},
   "source": [
    "### Step 1.3: Create a Cleaning Function\n"
   ]
  },
  {
   "cell_type": "code",
   "execution_count": 88,
   "metadata": {
    "collapsed": true
   },
   "outputs": [],
   "source": [
    "def clean_data(df, drop_col=True, drop_row=True):\n",
    "    \"\"\"\n",
    "    Perform feature trimming, re-encoding, and engineering for demographics\n",
    "    data\n",
    "\n",
    "    INPUT: Demographics DataFrame\n",
    "    OUTPUT: Trimmed and cleaned demographics DataFrame\n",
    "    \"\"\"\n",
    "\n",
    "    # Drop 'D19_LETZTER_KAUF_BRANCHE' and 'EINGEFUEGT_AM'\n",
    "    df.drop(col_to_drop, axis=1, inplace=True)\n",
    "\n",
    "    # convert missing value codes into NaNs\n",
    "    for attrib, missing_values in zip(new_feat_info['attribute'],\n",
    "                                      new_feat_info['missing_or_unknown']):\n",
    "        if len(missing_values) != 0:\n",
    "            for value in missing_values:\n",
    "                if value.isnumeric() or value.lstrip('-').isnumeric():\n",
    "                    value = int(value)\n",
    "                df.loc[df[attrib] == value, attrib] = np.nan\n",
    "\n",
    "    # remove selected columns\n",
    "    if drop_col:\n",
    "        df.drop(missing_col, axis=1, inplace=True)\n",
    "    \n",
    "    # assessing missing value per row\n",
    "    row_nan = df.isnull().sum(axis=1)\n",
    "    a = df.shape[1]\n",
    "    \n",
    "    if drop_row:\n",
    "        df = df.loc[row_nan[row_nan<=0.5*a].index]\n",
    "        df.reset_index(drop=True, inplace=True)\n",
    "\n",
    "    # Re-encode OST_WEST_KZ as dummy variable\n",
    "    df['OST_WEST_KZ'] =  df['OST_WEST_KZ'].map({'W': 1, 'O': 2})\n",
    "    \n",
    "    # Convert cat to cat to dummies variables\n",
    "    df = encode_cat(df, multi_level_attribute)\n",
    "    \n",
    "    # Mix\n",
    "    df[\"PRAEGENDE_JUGENDJAHRE_dec\"] = df[\"PRAEGENDE_JUGENDJAHRE\"].map(dic_dec)\n",
    "\n",
    "    # Mainstream : 0, Avantgarde : 1\n",
    "    df[\"PRAEGENDE_JUGENDJAHRE_mov\"] = df[\"PRAEGENDE_JUGENDJAHRE\"].map(dic_mov)\n",
    "\n",
    "    # Drop PRAEGENDE_JUGENDJAHRE\n",
    "    df.drop('PRAEGENDE_JUGENDJAHRE', axis=1, inplace=True)\n",
    "    \n",
    "    # re\n",
    "    df[\"CAMEO_INTL_2015\"] = df[\"CAMEO_INTL_2015\"].astype('float')\n",
    "    df[\"CAMEO_INTL_2015\"] = df[\"CAMEO_INTL_2015\"].apply(encode_CAMEO_INTL_2015)\n",
    "\n",
    "    # CAMEO_INTL_2015_wealth\n",
    "    df[\"CAMEO_INTL_2015_wealth\"] = df[\"CAMEO_INTL_2015\"].apply(lambda x: x[0])\n",
    "\n",
    "    # CAMEO_INTL_2015_life_stage\n",
    "    df[\"CAMEO_INTL_2015_life_stage\"] = df[\"CAMEO_INTL_2015\"].apply(lambda x: x[1])\n",
    "\n",
    "    # drop CAMEO_INTL_2015\n",
    "    df.drop('CAMEO_INTL_2015', axis=1, inplace=True)\n",
    "    \n",
    "    #\n",
    "    df['LP_life_stage'] = df['LP_LEBENSPHASE_FEIN'].map(life_stage)\n",
    "    df['LP_fine_scale'] = df['LP_LEBENSPHASE_FEIN'].map(fine_scale)\n",
    "\n",
    "    # Drop LP_LEBENSPHASE_FEIN \n",
    "    df.drop('LP_LEBENSPHASE_FEIN', axis=1, inplace=True)\n",
    "    \n",
    "    df['LP_life_stage'] = df['LP_life_stage'].map(dic_life)\n",
    "    df['LP_fine_scale'] = df['LP_fine_scale'].map(dic_scale)\n",
    "    \n",
    "    # Drop LP_LEBENSPHASE_GROB\n",
    "    df.drop('LP_LEBENSPHASE_GROB', axis=1, inplace=True)\n",
    "    \n",
    "    # replace 0 by nan\n",
    "    df['WOHNLAGE'] = df['WOHNLAGE'].replace(0, np.nan)\n",
    "\n",
    "    # Get dummumies variable\n",
    "    WOHNLAGE = pd.get_dummies(df['WOHNLAGE'], prefix='WOHNLAGE')\n",
    "\n",
    "    # Drop WOHNLAGE\n",
    "    df.drop('WOHNLAGE', axis=1, inplace=True)\n",
    "\n",
    "    # concat WOHNLAGE with new_azdias\n",
    "    df = pd.concat([df, WOHNLAGE], axis=1)\n",
    "    \n",
    "    # Get dummumies variable\n",
    "    PLZ8_BAUMAX = pd.get_dummies(df['PLZ8_BAUMAX'], prefix='PLZ8_BAUMAX')\n",
    "\n",
    "    # Drop PLZ8_BAUMAX\n",
    "    df.drop('PLZ8_BAUMAX', axis=1, inplace=True)\n",
    "\n",
    "    # concat WOHNLAGE with new_azdias\n",
    "    df = pd.concat([df, PLZ8_BAUMAX], axis=1)\n",
    "    \n",
    "    return df"
   ]
  },
  {
   "cell_type": "markdown",
   "metadata": {
    "collapsed": true
   },
   "source": [
    "## Step 2: Feature Transformation\n",
    "\n",
    "### Step 2.1: Apply Feature Scaling"
   ]
  },
  {
   "cell_type": "markdown",
   "metadata": {},
   "source": [
    "**LNR is not useful for machine learning because it contains a unique value for each row. Therefore, I will drop it.**"
   ]
  },
  {
   "cell_type": "code",
   "execution_count": 68,
   "metadata": {
    "collapsed": false
   },
   "outputs": [],
   "source": [
    "# drop LNR from data to process\n",
    "LNR_azdias = new_azdias['LNR']\n",
    "new_azdias.drop('LNR', axis=1, inplace=True)"
   ]
  },
  {
   "cell_type": "code",
   "execution_count": 7,
   "metadata": {
    "collapsed": false
   },
   "outputs": [
    {
     "name": "stderr",
     "output_type": "stream",
     "text": [
      "/home/jaouadeddadsi2016/anaconda3/lib/python3.5/site-packages/sklearn/utils/deprecation.py:58: DeprecationWarning: Class Imputer is deprecated; Imputer was deprecated in version 0.20 and will be removed in 0.22. Import impute.SimpleImputer from sklearn instead.\n",
      "  warnings.warn(msg, category=DeprecationWarning)\n"
     ]
    }
   ],
   "source": [
    "# Imputer\n",
    "Imp = Imputer(missing_values=np.nan, strategy='median')\n",
    "new_azdias = pd.DataFrame(Imp.fit_transform(new_azdias.values),\n",
    "                          columns=new_azdias.columns)"
   ]
  },
  {
   "cell_type": "code",
   "execution_count": 71,
   "metadata": {
    "collapsed": false
   },
   "outputs": [
    {
     "data": {
      "image/png": "[encoded data removed]",
      "text/plain": [
       "<matplotlib.figure.Figure at 0x7f6bca0aacf8>"
      ]
     },
     "metadata": {},
     "output_type": "display_data"
    }
   ],
   "source": [
    "# Check features range\n",
    "describe_azdias = new_azdias.describe()\n",
    "\n",
    "plt.figure()\n",
    "plt.plot(describe_azdias.loc['min'].values, label='min')\n",
    "plt.plot(describe_azdias.loc['max'].values, label='max')\n",
    "plt.legend()\n",
    "plt.show()"
   ]
  },
  {
   "cell_type": "markdown",
   "metadata": {},
   "source": [
    "** Somme features have a big range. I will scale the data to avoid  that some feature imbalance  weight**"
   ]
  },
  {
   "cell_type": "code",
   "execution_count": 8,
   "metadata": {
    "collapsed": true
   },
   "outputs": [],
   "source": [
    "# Apply feature scaling to the general population demographics data.\n",
    "scaler = RobustScaler()\n",
    "scaled_azdias = pd.DataFrame(scaler.fit_transform(new_azdias.values),\n",
    "                          columns=new_azdias.columns)"
   ]
  },
  {
   "cell_type": "markdown",
   "metadata": {},
   "source": [
    "### Step 2.2: Perform Dimensionality Reduction\n",
    "\n",
    "I will use sklearn's [PCA](http://scikit-learn.org/stable/modules/generated/sklearn.decomposition.PCA.html) class to apply principal component analysis on the data, thus finding the vectors of maximal variance in the data."
   ]
  },
  {
   "cell_type": "code",
   "execution_count": 78,
   "metadata": {
    "collapsed": true
   },
   "outputs": [],
   "source": [
    "# Apply PCA to the azdias data.\n",
    "pca = PCA()\n",
    "azdias_pca = pca.fit_transform(scaled_azdias)"
   ]
  },
  {
   "cell_type": "code",
   "execution_count": 79,
   "metadata": {
    "collapsed": true
   },
   "outputs": [],
   "source": [
    "def scree_plot(pca):\n",
    "    '''\n",
    "    Creates a scree plot associated with the principal components\n",
    "    \n",
    "    INPUT: pca - the result of instantian of PCA in scikit learn\n",
    "            \n",
    "    OUTPUT:\n",
    "            None\n",
    "    '''\n",
    "    num_components = len(pca.explained_variance_ratio_)\n",
    "    ind = np.arange(num_components)\n",
    "    vals = pca.explained_variance_ratio_\n",
    " \n",
    "    plt.figure(figsize=(16, 10))\n",
    "    ax = plt.subplot(111)\n",
    "    cumvals = np.cumsum(vals)\n",
    "    ax.bar(ind, vals)\n",
    "    ax.plot(ind, cumvals)\n",
    "    for i in range(num_components):\n",
    "        ax.annotate(r\"%s%%\" % ((str(vals[i]*100)[:4])), (ind[i]+0.2, vals[i]),\n",
    "                    va=\"bottom\", ha=\"center\", fontsize=12)\n",
    " \n",
    "    ax.xaxis.set_tick_params(width=0)\n",
    "    ax.yaxis.set_tick_params(width=2, length=12)\n",
    " \n",
    "    ax.set_xlabel(\"Principal Component\")\n",
    "    ax.set_ylabel(\"Variance Explained (%)\")\n",
    "    plt.title('Explained Variance Per Principal Component')"
   ]
  },
  {
   "cell_type": "code",
   "execution_count": 80,
   "metadata": {
    "collapsed": false
   },
   "outputs": [
    {
     "data": {
      "image/png": "[encoded data removed]",
      "text/plain": [
       "<matplotlib.figure.Figure at 0x7f6bccedd320>"
      ]
     },
     "metadata": {},
     "output_type": "display_data"
    }
   ],
   "source": [
    "# Investigate the variance accounted for by each principal component.\n",
    "scree_plot(pca)"
   ]
  },
  {
   "cell_type": "code",
   "execution_count": 82,
   "metadata": {
    "collapsed": true
   },
   "outputs": [],
   "source": [
    "# Re-apply PCA to the data whith 200 components.\n",
    "pca = PCA(n_components=200)\n",
    "azdias_pca = pca.fit_transform(scaled_azdias)"
   ]
  },
  {
   "cell_type": "markdown",
   "metadata": {},
   "source": [
    "#### Discussion \n",
    "\n",
    "**Looking at the plot above, we may notice that after 200 features the cumulative explained variance becomes superior to 0.95. So I will choose 200 features to re-do the PCA.**"
   ]
  },
  {
   "cell_type": "markdown",
   "metadata": {},
   "source": [
    "## Step 3: Clustering\n",
    "\n",
    "### Step 3.1: Apply Clustering to General Population\n",
    "\n",
    "**I will use sklearn's [KMeans](http://scikit-learn.org/stable/modules/generated/sklearn.cluster.KMeans.html#sklearn.cluster.KMeans) class to perform k-means clustering on the PCA-transformed data.**"
   ]
  },
  {
   "cell_type": "code",
   "execution_count": 188,
   "metadata": {
    "collapsed": true
   },
   "outputs": [],
   "source": [
    "# Compute the average within-cluster distances.\n",
    "\n",
    "\n",
    "def get_kmeans_score(data, center):\n",
    "    '''\n",
    "    returns the kmeans score regarding SSE for points to centers\n",
    "    INPUT:\n",
    "        data - the dataset you want to fit kmeans to\n",
    "        center - the number of centers you want (the k value)\n",
    "    OUTPUT:\n",
    "        score - the SSE score for the kmeans model fit to the data\n",
    "    '''\n",
    "    # instantiate kmeans\n",
    "    kmeans = KMeans(n_clusters=center, random_state=42, n_jobs=-1)\n",
    "\n",
    "    # Then fit the model to your data using the fit method\n",
    "    model = kmeans.fit(data)\n",
    "    \n",
    "    # Obtain a score related to the model fit\n",
    "    score = np.abs(model.score(data))\n",
    "    \n",
    "    return score"
   ]
  },
  {
   "cell_type": "code",
   "execution_count": 191,
   "metadata": {
    "collapsed": false
   },
   "outputs": [],
   "source": [
    "# Apply the elbow method\n",
    "score_list = []\n",
    "centers = np.arange(2, 15, 1)\n",
    "\n",
    "\n",
    "for center in centers: \n",
    "    \n",
    "    # Append score to \n",
    "    score_list.append(get_kmeans_score(azdias_pca, center))"
   ]
  },
  {
   "cell_type": "code",
   "execution_count": 190,
   "metadata": {
    "collapsed": false
   },
   "outputs": [
    {
     "data": {
      "image/png": "[encoded data removed]",
      "text/plain": [
       "<matplotlib.figure.Figure at 0x7f6bb5810208>"
      ]
     },
     "metadata": {},
     "output_type": "display_data"
    }
   ],
   "source": [
    "# Investigate the change in within-cluster distance across number of clusters.\n",
    "\n",
    "plt.figure(figsize=(10, 8)) \n",
    "plt.plot(centers, score_list, linestyle='--', marker='o', color='b');\n",
    "matplotlib.rc('xtick', labelsize=30)  \n",
    "matplotlib.rc('ytick', labelsize=30)\n",
    "plt.xlabel('K')\n",
    "plt.ylabel('SSE')\n",
    "plt.title('SSE vs. K')\n",
    "plt.show() "
   ]
  },
  {
   "cell_type": "markdown",
   "metadata": {
    "collapsed": true
   },
   "source": [
    "### Discusion\n",
    "\n",
    "**Looking at the plot above, we can notice that the score keeps decreasing and there is no visible elbow, but after 6 clusters the decrease is weaker. I will choose six clusters to do KMeans clustering.**"
   ]
  },
  {
   "cell_type": "code",
   "execution_count": 200,
   "metadata": {
    "collapsed": true
   },
   "outputs": [],
   "source": [
    "# Re-fit the k-means model with 6 class\n",
    "kmeans = KMeans(n_clusters=6, random_state=42, n_jobs=-1)\n",
    "labels_azdias = kmeans.fit_predict(azdias_pca)"
   ]
  },
  {
   "cell_type": "code",
   "execution_count": 201,
   "metadata": {
    "collapsed": false
   },
   "outputs": [
    {
     "data": {
      "text/html": [
       "<div>\n",
       "<style scoped>\n",
       "    .dataframe tbody tr th:only-of-type {\n",
       "        vertical-align: middle;\n",
       "    }\n",
       "\n",
       "    .dataframe tbody tr th {\n",
       "        vertical-align: top;\n",
       "    }\n",
       "\n",
       "    .dataframe thead th {\n",
       "        text-align: right;\n",
       "    }\n",
       "</style>\n",
       "<table border=\"1\" class=\"dataframe\">\n",
       "  <thead>\n",
       "    <tr style=\"text-align: right;\">\n",
       "      <th></th>\n",
       "      <th>% of data</th>\n",
       "      <th>cluster</th>\n",
       "      <th>data</th>\n",
       "    </tr>\n",
       "  </thead>\n",
       "  <tbody>\n",
       "    <tr>\n",
       "      <th>0</th>\n",
       "      <td>37.443418</td>\n",
       "      <td>3</td>\n",
       "      <td>general population</td>\n",
       "    </tr>\n",
       "    <tr>\n",
       "      <th>1</th>\n",
       "      <td>31.218947</td>\n",
       "      <td>2</td>\n",
       "      <td>general population</td>\n",
       "    </tr>\n",
       "    <tr>\n",
       "      <th>2</th>\n",
       "      <td>19.171401</td>\n",
       "      <td>5</td>\n",
       "      <td>general population</td>\n",
       "    </tr>\n",
       "    <tr>\n",
       "      <th>3</th>\n",
       "      <td>5.323446</td>\n",
       "      <td>4</td>\n",
       "      <td>general population</td>\n",
       "    </tr>\n",
       "    <tr>\n",
       "      <th>4</th>\n",
       "      <td>4.975839</td>\n",
       "      <td>0</td>\n",
       "      <td>general population</td>\n",
       "    </tr>\n",
       "    <tr>\n",
       "      <th>5</th>\n",
       "      <td>1.866950</td>\n",
       "      <td>1</td>\n",
       "      <td>general population</td>\n",
       "    </tr>\n",
       "  </tbody>\n",
       "</table>\n",
       "</div>"
      ],
      "text/plain": [
       "   % of data  cluster                data\n",
       "0  37.443418        3  general population\n",
       "1  31.218947        2  general population\n",
       "2  19.171401        5  general population\n",
       "3   5.323446        4  general population\n",
       "4   4.975839        0  general population\n",
       "5   1.866950        1  general population"
      ]
     },
     "execution_count": 201,
     "metadata": {},
     "output_type": "execute_result"
    }
   ],
   "source": [
    "\n",
    "class_count = pd.Series(labels_azdias).value_counts()\n",
    "\n",
    "cls_azdias = pd.DataFrame({'cluster': class_count.index,\n",
    "                           '% of data': 100*class_count.values/len(labels_azdias)})\n",
    "cls_azdias['data'] = 'general population'\n",
    "\n",
    "# print cls_azdias\n",
    "cls_azdias"
   ]
  },
  {
   "cell_type": "markdown",
   "metadata": {
    "collapsed": true
   },
   "source": [
    "### Step 3.2: Apply All Steps to the Customer Data"
   ]
  },
  {
   "cell_type": "code",
   "execution_count": 116,
   "metadata": {
    "collapsed": false
   },
   "outputs": [
    {
     "name": "stderr",
     "output_type": "stream",
     "text": [
      "/home/jaouadeddadsi2016/anaconda3/lib/python3.5/site-packages/IPython/core/interactiveshell.py:2717: DtypeWarning: Columns (18,19) have mixed types. Specify dtype option on import or set low_memory=False.\n",
      "  interactivity=interactivity, compiler=compiler, result=result)\n"
     ]
    },
    {
     "data": {
      "text/html": [
       "<div>\n",
       "<style scoped>\n",
       "    .dataframe tbody tr th:only-of-type {\n",
       "        vertical-align: middle;\n",
       "    }\n",
       "\n",
       "    .dataframe tbody tr th {\n",
       "        vertical-align: top;\n",
       "    }\n",
       "\n",
       "    .dataframe thead th {\n",
       "        text-align: right;\n",
       "    }\n",
       "</style>\n",
       "<table border=\"1\" class=\"dataframe\">\n",
       "  <thead>\n",
       "    <tr style=\"text-align: right;\">\n",
       "      <th></th>\n",
       "      <th>LNR</th>\n",
       "      <th>AGER_TYP</th>\n",
       "      <th>AKT_DAT_KL</th>\n",
       "      <th>ALTER_HH</th>\n",
       "      <th>ALTER_KIND1</th>\n",
       "      <th>ALTER_KIND2</th>\n",
       "      <th>ALTER_KIND3</th>\n",
       "      <th>ALTER_KIND4</th>\n",
       "      <th>ALTERSKATEGORIE_FEIN</th>\n",
       "      <th>ANZ_HAUSHALTE_AKTIV</th>\n",
       "      <th>...</th>\n",
       "      <th>VK_ZG11</th>\n",
       "      <th>W_KEIT_KIND_HH</th>\n",
       "      <th>WOHNDAUER_2008</th>\n",
       "      <th>WOHNLAGE</th>\n",
       "      <th>ZABEOTYP</th>\n",
       "      <th>PRODUCT_GROUP</th>\n",
       "      <th>CUSTOMER_GROUP</th>\n",
       "      <th>ONLINE_PURCHASE</th>\n",
       "      <th>ANREDE_KZ</th>\n",
       "      <th>ALTERSKATEGORIE_GROB</th>\n",
       "    </tr>\n",
       "  </thead>\n",
       "  <tbody>\n",
       "    <tr>\n",
       "      <th>0</th>\n",
       "      <td>9626</td>\n",
       "      <td>2</td>\n",
       "      <td>1.0</td>\n",
       "      <td>10.0</td>\n",
       "      <td>NaN</td>\n",
       "      <td>NaN</td>\n",
       "      <td>NaN</td>\n",
       "      <td>NaN</td>\n",
       "      <td>10.0</td>\n",
       "      <td>1.0</td>\n",
       "      <td>...</td>\n",
       "      <td>2.0</td>\n",
       "      <td>6.0</td>\n",
       "      <td>9.0</td>\n",
       "      <td>7.0</td>\n",
       "      <td>3</td>\n",
       "      <td>COSMETIC_AND_FOOD</td>\n",
       "      <td>MULTI_BUYER</td>\n",
       "      <td>0</td>\n",
       "      <td>1</td>\n",
       "      <td>4</td>\n",
       "    </tr>\n",
       "    <tr>\n",
       "      <th>1</th>\n",
       "      <td>9628</td>\n",
       "      <td>-1</td>\n",
       "      <td>9.0</td>\n",
       "      <td>11.0</td>\n",
       "      <td>NaN</td>\n",
       "      <td>NaN</td>\n",
       "      <td>NaN</td>\n",
       "      <td>NaN</td>\n",
       "      <td>NaN</td>\n",
       "      <td>NaN</td>\n",
       "      <td>...</td>\n",
       "      <td>3.0</td>\n",
       "      <td>0.0</td>\n",
       "      <td>9.0</td>\n",
       "      <td>NaN</td>\n",
       "      <td>3</td>\n",
       "      <td>FOOD</td>\n",
       "      <td>SINGLE_BUYER</td>\n",
       "      <td>0</td>\n",
       "      <td>1</td>\n",
       "      <td>4</td>\n",
       "    </tr>\n",
       "    <tr>\n",
       "      <th>2</th>\n",
       "      <td>143872</td>\n",
       "      <td>-1</td>\n",
       "      <td>1.0</td>\n",
       "      <td>6.0</td>\n",
       "      <td>NaN</td>\n",
       "      <td>NaN</td>\n",
       "      <td>NaN</td>\n",
       "      <td>NaN</td>\n",
       "      <td>0.0</td>\n",
       "      <td>1.0</td>\n",
       "      <td>...</td>\n",
       "      <td>11.0</td>\n",
       "      <td>6.0</td>\n",
       "      <td>9.0</td>\n",
       "      <td>2.0</td>\n",
       "      <td>3</td>\n",
       "      <td>COSMETIC_AND_FOOD</td>\n",
       "      <td>MULTI_BUYER</td>\n",
       "      <td>0</td>\n",
       "      <td>2</td>\n",
       "      <td>4</td>\n",
       "    </tr>\n",
       "    <tr>\n",
       "      <th>3</th>\n",
       "      <td>143873</td>\n",
       "      <td>1</td>\n",
       "      <td>1.0</td>\n",
       "      <td>8.0</td>\n",
       "      <td>NaN</td>\n",
       "      <td>NaN</td>\n",
       "      <td>NaN</td>\n",
       "      <td>NaN</td>\n",
       "      <td>8.0</td>\n",
       "      <td>0.0</td>\n",
       "      <td>...</td>\n",
       "      <td>2.0</td>\n",
       "      <td>NaN</td>\n",
       "      <td>9.0</td>\n",
       "      <td>7.0</td>\n",
       "      <td>1</td>\n",
       "      <td>COSMETIC</td>\n",
       "      <td>MULTI_BUYER</td>\n",
       "      <td>0</td>\n",
       "      <td>1</td>\n",
       "      <td>4</td>\n",
       "    </tr>\n",
       "    <tr>\n",
       "      <th>4</th>\n",
       "      <td>143874</td>\n",
       "      <td>-1</td>\n",
       "      <td>1.0</td>\n",
       "      <td>20.0</td>\n",
       "      <td>NaN</td>\n",
       "      <td>NaN</td>\n",
       "      <td>NaN</td>\n",
       "      <td>NaN</td>\n",
       "      <td>14.0</td>\n",
       "      <td>7.0</td>\n",
       "      <td>...</td>\n",
       "      <td>4.0</td>\n",
       "      <td>2.0</td>\n",
       "      <td>9.0</td>\n",
       "      <td>3.0</td>\n",
       "      <td>1</td>\n",
       "      <td>FOOD</td>\n",
       "      <td>MULTI_BUYER</td>\n",
       "      <td>0</td>\n",
       "      <td>1</td>\n",
       "      <td>3</td>\n",
       "    </tr>\n",
       "  </tbody>\n",
       "</table>\n",
       "<p>5 rows × 369 columns</p>\n",
       "</div>"
      ],
      "text/plain": [
       "      LNR  AGER_TYP  AKT_DAT_KL  ALTER_HH  ALTER_KIND1  ALTER_KIND2  \\\n",
       "0    9626         2         1.0      10.0          NaN          NaN   \n",
       "1    9628        -1         9.0      11.0          NaN          NaN   \n",
       "2  143872        -1         1.0       6.0          NaN          NaN   \n",
       "3  143873         1         1.0       8.0          NaN          NaN   \n",
       "4  143874        -1         1.0      20.0          NaN          NaN   \n",
       "\n",
       "   ALTER_KIND3  ALTER_KIND4  ALTERSKATEGORIE_FEIN  ANZ_HAUSHALTE_AKTIV  ...  \\\n",
       "0          NaN          NaN                  10.0                  1.0  ...   \n",
       "1          NaN          NaN                   NaN                  NaN  ...   \n",
       "2          NaN          NaN                   0.0                  1.0  ...   \n",
       "3          NaN          NaN                   8.0                  0.0  ...   \n",
       "4          NaN          NaN                  14.0                  7.0  ...   \n",
       "\n",
       "   VK_ZG11  W_KEIT_KIND_HH  WOHNDAUER_2008  WOHNLAGE  ZABEOTYP  \\\n",
       "0      2.0             6.0             9.0       7.0         3   \n",
       "1      3.0             0.0             9.0       NaN         3   \n",
       "2     11.0             6.0             9.0       2.0         3   \n",
       "3      2.0             NaN             9.0       7.0         1   \n",
       "4      4.0             2.0             9.0       3.0         1   \n",
       "\n",
       "       PRODUCT_GROUP  CUSTOMER_GROUP ONLINE_PURCHASE ANREDE_KZ  \\\n",
       "0  COSMETIC_AND_FOOD     MULTI_BUYER               0         1   \n",
       "1               FOOD    SINGLE_BUYER               0         1   \n",
       "2  COSMETIC_AND_FOOD     MULTI_BUYER               0         2   \n",
       "3           COSMETIC     MULTI_BUYER               0         1   \n",
       "4               FOOD     MULTI_BUYER               0         1   \n",
       "\n",
       "  ALTERSKATEGORIE_GROB  \n",
       "0                    4  \n",
       "1                    4  \n",
       "2                    4  \n",
       "3                    4  \n",
       "4                    3  \n",
       "\n",
       "[5 rows x 369 columns]"
      ]
     },
     "execution_count": 116,
     "metadata": {},
     "output_type": "execute_result"
    }
   ],
   "source": [
    "# Load in the customer demographics data.\n",
    "customers = pd.read_csv('Arvato_data/Udacity_CUSTOMERS_052018.csv', sep=';')\n",
    "customers.head()"
   ]
  },
  {
   "cell_type": "code",
   "execution_count": 118,
   "metadata": {
    "collapsed": false
   },
   "outputs": [
    {
     "name": "stderr",
     "output_type": "stream",
     "text": [
      "/home/jaouadeddadsi2016/anaconda3/lib/python3.5/site-packages/pandas/core/ops.py:1649: FutureWarning: elementwise comparison failed; returning scalar instead, but in the future will perform elementwise comparison\n",
      "  result = method(y)\n"
     ]
    }
   ],
   "source": [
    "# clean customer demographics data.\n",
    "new_customers = clean_data(customers)"
   ]
  },
  {
   "cell_type": "code",
   "execution_count": 119,
   "metadata": {
    "collapsed": true
   },
   "outputs": [],
   "source": [
    "# Remove additional columns\n",
    "sub_customers = new_customers[['LNR', 'CUSTOMER_GROUP', 'ONLINE_PURCHASE',\n",
    "                               'PRODUCT_GROUP']]\n",
    "\n",
    "new_customers.drop(['LNR', 'CUSTOMER_GROUP', 'ONLINE_PURCHASE',\n",
    "                    'PRODUCT_GROUP'], axis=1, inplace=True)"
   ]
  },
  {
   "cell_type": "code",
   "execution_count": 120,
   "metadata": {
    "collapsed": false
   },
   "outputs": [
    {
     "name": "stdout",
     "output_type": "stream",
     "text": [
      "new_azdias shape (791987, 484)\n",
      "new_customers shape (140899, 483)\n"
     ]
    }
   ],
   "source": [
    "print('new_azdias shape', new_azdias.shape)\n",
    "print('new_customers shape', new_customers.shape)"
   ]
  },
  {
   "cell_type": "code",
   "execution_count": 124,
   "metadata": {
    "collapsed": false
   },
   "outputs": [
    {
     "data": {
      "text/plain": [
       "['GEBAEUDETYP_5.0']"
      ]
     },
     "execution_count": 124,
     "metadata": {},
     "output_type": "execute_result"
    }
   ],
   "source": [
    "#  Check for missing column in `new_customers`\n",
    "mask = new_azdias.columns.isin(new_customers.columns)\n",
    "\n",
    "miss_att = list(new_azdias.columns[~mask])\n",
    "miss_att"
   ]
  },
  {
   "cell_type": "code",
   "execution_count": 125,
   "metadata": {
    "collapsed": true
   },
   "outputs": [],
   "source": [
    "# Add the missing column with default value of 0\n",
    "new_customers['GEBAEUDETYP_5.0'] = 0\n",
    "new_customers['GEBAEUDETYP_5.0'] = new_customers['GEBAEUDETYP_5.0'].astype('uint8')"
   ]
  },
  {
   "cell_type": "code",
   "execution_count": 126,
   "metadata": {
    "collapsed": false
   },
   "outputs": [],
   "source": [
    "# replace missing value\n",
    "new_customers = pd.DataFrame(Imp.transform(new_customers.values),\n",
    "                         columns=new_customers.columns)\n",
    "\n",
    "# scale customers variables\n",
    "new_customers = pd.DataFrame(scaler.transform(new_customers.values),\n",
    "                         columns=new_customers.columns)"
   ]
  },
  {
   "cell_type": "code",
   "execution_count": 202,
   "metadata": {
    "collapsed": false
   },
   "outputs": [],
   "source": [
    "# cluster predictions for the  customer demographics data.\n",
    "customers_pca = pca.transform(new_customers)\n",
    "labels_customers = kmeans.predict(customers_pca)"
   ]
  },
  {
   "cell_type": "code",
   "execution_count": 204,
   "metadata": {
    "collapsed": false
   },
   "outputs": [
    {
     "data": {
      "text/html": [
       "<div>\n",
       "<style scoped>\n",
       "    .dataframe tbody tr th:only-of-type {\n",
       "        vertical-align: middle;\n",
       "    }\n",
       "\n",
       "    .dataframe tbody tr th {\n",
       "        vertical-align: top;\n",
       "    }\n",
       "\n",
       "    .dataframe thead th {\n",
       "        text-align: right;\n",
       "    }\n",
       "</style>\n",
       "<table border=\"1\" class=\"dataframe\">\n",
       "  <thead>\n",
       "    <tr style=\"text-align: right;\">\n",
       "      <th></th>\n",
       "      <th>% of data</th>\n",
       "      <th>cluster</th>\n",
       "      <th>data</th>\n",
       "    </tr>\n",
       "  </thead>\n",
       "  <tbody>\n",
       "    <tr>\n",
       "      <th>0</th>\n",
       "      <td>99.985096</td>\n",
       "      <td>2</td>\n",
       "      <td>customers data</td>\n",
       "    </tr>\n",
       "    <tr>\n",
       "      <th>1</th>\n",
       "      <td>0.014904</td>\n",
       "      <td>1</td>\n",
       "      <td>customers data</td>\n",
       "    </tr>\n",
       "  </tbody>\n",
       "</table>\n",
       "</div>"
      ],
      "text/plain": [
       "   % of data  cluster            data\n",
       "0  99.985096        2  customers data\n",
       "1   0.014904        1  customers data"
      ]
     },
     "execution_count": 204,
     "metadata": {},
     "output_type": "execute_result"
    }
   ],
   "source": [
    "cus_class = pd.Series(labels_customers).value_counts()\n",
    "\n",
    "cls_customers = pd.DataFrame({'cluster': cus_class.index,\n",
    "                              '% of data': 100*cus_class.values/len(labels_customers)})\n",
    "cls_customers['data'] = 'customers data'\n",
    "\n",
    "# print cls_azdias\n",
    "cls_customers"
   ]
  },
  {
   "cell_type": "markdown",
   "metadata": {},
   "source": [
    "#### Step 3.3: Compare Customer Data to Demographics Data"
   ]
  },
  {
   "cell_type": "code",
   "execution_count": 207,
   "metadata": {
    "collapsed": false
   },
   "outputs": [
    {
     "data": {
      "image/png": "[encoded data removed]",
      "text/plain": [
       "<matplotlib.figure.Figure at 0x7f6bb57cebe0>"
      ]
     },
     "metadata": {},
     "output_type": "display_data"
    }
   ],
   "source": [
    "plt.figure(figsize=(20, 10))\n",
    "sns.barplot(x=\"cluster\", y=\"% of data\", hue=\"data\",\n",
    "            data=pd.concat([cls_customers, cls_azdias]))\n",
    "plt.show()"
   ]
  },
  {
   "cell_type": "code",
   "execution_count": 217,
   "metadata": {
    "collapsed": false
   },
   "outputs": [
    {
     "data": {
      "text/html": [
       "<div>\n",
       "<style scoped>\n",
       "    .dataframe tbody tr th:only-of-type {\n",
       "        vertical-align: middle;\n",
       "    }\n",
       "\n",
       "    .dataframe tbody tr th {\n",
       "        vertical-align: top;\n",
       "    }\n",
       "\n",
       "    .dataframe thead th {\n",
       "        text-align: right;\n",
       "    }\n",
       "</style>\n",
       "<table border=\"1\" class=\"dataframe\">\n",
       "  <thead>\n",
       "    <tr style=\"text-align: right;\">\n",
       "      <th></th>\n",
       "      <th>CJT_GESAMTTYP_1.0</th>\n",
       "      <th>CJT_GESAMTTYP_2.0</th>\n",
       "      <th>CJT_GESAMTTYP_3.0</th>\n",
       "      <th>CJT_GESAMTTYP_4.0</th>\n",
       "      <th>CJT_GESAMTTYP_5.0</th>\n",
       "      <th>CJT_GESAMTTYP_6.0</th>\n",
       "      <th>FINANZTYP_1.0</th>\n",
       "      <th>FINANZTYP_2.0</th>\n",
       "      <th>FINANZTYP_3.0</th>\n",
       "      <th>FINANZTYP_4.0</th>\n",
       "      <th>...</th>\n",
       "      <th>WOHNLAGE_4.0</th>\n",
       "      <th>WOHNLAGE_5.0</th>\n",
       "      <th>WOHNLAGE_7.0</th>\n",
       "      <th>WOHNLAGE_8.0</th>\n",
       "      <th>PLZ8_BAUMAX_1.0</th>\n",
       "      <th>PLZ8_BAUMAX_2.0</th>\n",
       "      <th>PLZ8_BAUMAX_3.0</th>\n",
       "      <th>PLZ8_BAUMAX_4.0</th>\n",
       "      <th>PLZ8_BAUMAX_5.0</th>\n",
       "      <th>LNR</th>\n",
       "    </tr>\n",
       "  </thead>\n",
       "  <tbody>\n",
       "    <tr>\n",
       "      <th>0</th>\n",
       "      <td>0.0</td>\n",
       "      <td>-0.0</td>\n",
       "      <td>0.0</td>\n",
       "      <td>-0.0</td>\n",
       "      <td>1.0</td>\n",
       "      <td>0.0</td>\n",
       "      <td>1.0</td>\n",
       "      <td>0.0</td>\n",
       "      <td>-0.0</td>\n",
       "      <td>-0.0</td>\n",
       "      <td>...</td>\n",
       "      <td>0.0</td>\n",
       "      <td>0.0</td>\n",
       "      <td>-0.0</td>\n",
       "      <td>0.0</td>\n",
       "      <td>1.0</td>\n",
       "      <td>0.0</td>\n",
       "      <td>0.0</td>\n",
       "      <td>0.0</td>\n",
       "      <td>0.0</td>\n",
       "      <td>910220</td>\n",
       "    </tr>\n",
       "    <tr>\n",
       "      <th>1</th>\n",
       "      <td>0.0</td>\n",
       "      <td>0.0</td>\n",
       "      <td>-0.0</td>\n",
       "      <td>0.0</td>\n",
       "      <td>0.0</td>\n",
       "      <td>0.0</td>\n",
       "      <td>0.0</td>\n",
       "      <td>0.0</td>\n",
       "      <td>-0.0</td>\n",
       "      <td>-0.0</td>\n",
       "      <td>...</td>\n",
       "      <td>0.0</td>\n",
       "      <td>0.0</td>\n",
       "      <td>0.0</td>\n",
       "      <td>-0.0</td>\n",
       "      <td>0.0</td>\n",
       "      <td>0.0</td>\n",
       "      <td>0.0</td>\n",
       "      <td>-0.0</td>\n",
       "      <td>-0.0</td>\n",
       "      <td>645165</td>\n",
       "    </tr>\n",
       "    <tr>\n",
       "      <th>2</th>\n",
       "      <td>0.0</td>\n",
       "      <td>0.0</td>\n",
       "      <td>-0.0</td>\n",
       "      <td>1.0</td>\n",
       "      <td>-0.0</td>\n",
       "      <td>0.0</td>\n",
       "      <td>-0.0</td>\n",
       "      <td>1.0</td>\n",
       "      <td>0.0</td>\n",
       "      <td>0.0</td>\n",
       "      <td>...</td>\n",
       "      <td>-0.0</td>\n",
       "      <td>0.0</td>\n",
       "      <td>-0.0</td>\n",
       "      <td>-0.0</td>\n",
       "      <td>0.0</td>\n",
       "      <td>0.0</td>\n",
       "      <td>0.0</td>\n",
       "      <td>0.0</td>\n",
       "      <td>0.0</td>\n",
       "      <td>612569</td>\n",
       "    </tr>\n",
       "    <tr>\n",
       "      <th>3</th>\n",
       "      <td>0.0</td>\n",
       "      <td>0.0</td>\n",
       "      <td>1.0</td>\n",
       "      <td>0.0</td>\n",
       "      <td>0.0</td>\n",
       "      <td>-0.0</td>\n",
       "      <td>0.0</td>\n",
       "      <td>0.0</td>\n",
       "      <td>0.0</td>\n",
       "      <td>0.0</td>\n",
       "      <td>...</td>\n",
       "      <td>1.0</td>\n",
       "      <td>0.0</td>\n",
       "      <td>-0.0</td>\n",
       "      <td>-0.0</td>\n",
       "      <td>-0.0</td>\n",
       "      <td>0.0</td>\n",
       "      <td>0.0</td>\n",
       "      <td>0.0</td>\n",
       "      <td>0.0</td>\n",
       "      <td>612595</td>\n",
       "    </tr>\n",
       "    <tr>\n",
       "      <th>4</th>\n",
       "      <td>-0.0</td>\n",
       "      <td>0.0</td>\n",
       "      <td>0.0</td>\n",
       "      <td>1.0</td>\n",
       "      <td>-0.0</td>\n",
       "      <td>0.0</td>\n",
       "      <td>1.0</td>\n",
       "      <td>0.0</td>\n",
       "      <td>-0.0</td>\n",
       "      <td>0.0</td>\n",
       "      <td>...</td>\n",
       "      <td>1.0</td>\n",
       "      <td>0.0</td>\n",
       "      <td>0.0</td>\n",
       "      <td>-0.0</td>\n",
       "      <td>0.0</td>\n",
       "      <td>0.0</td>\n",
       "      <td>0.0</td>\n",
       "      <td>0.0</td>\n",
       "      <td>0.0</td>\n",
       "      <td>612606</td>\n",
       "    </tr>\n",
       "  </tbody>\n",
       "</table>\n",
       "<p>5 rows × 485 columns</p>\n",
       "</div>"
      ],
      "text/plain": [
       "   CJT_GESAMTTYP_1.0  CJT_GESAMTTYP_2.0  CJT_GESAMTTYP_3.0  CJT_GESAMTTYP_4.0  \\\n",
       "0                0.0               -0.0                0.0               -0.0   \n",
       "1                0.0                0.0               -0.0                0.0   \n",
       "2                0.0                0.0               -0.0                1.0   \n",
       "3                0.0                0.0                1.0                0.0   \n",
       "4               -0.0                0.0                0.0                1.0   \n",
       "\n",
       "   CJT_GESAMTTYP_5.0  CJT_GESAMTTYP_6.0  FINANZTYP_1.0  FINANZTYP_2.0  \\\n",
       "0                1.0                0.0            1.0            0.0   \n",
       "1                0.0                0.0            0.0            0.0   \n",
       "2               -0.0                0.0           -0.0            1.0   \n",
       "3                0.0               -0.0            0.0            0.0   \n",
       "4               -0.0                0.0            1.0            0.0   \n",
       "\n",
       "   FINANZTYP_3.0  FINANZTYP_4.0  ...  WOHNLAGE_4.0  WOHNLAGE_5.0  \\\n",
       "0           -0.0           -0.0  ...           0.0           0.0   \n",
       "1           -0.0           -0.0  ...           0.0           0.0   \n",
       "2            0.0            0.0  ...          -0.0           0.0   \n",
       "3            0.0            0.0  ...           1.0           0.0   \n",
       "4           -0.0            0.0  ...           1.0           0.0   \n",
       "\n",
       "   WOHNLAGE_7.0  WOHNLAGE_8.0  PLZ8_BAUMAX_1.0  PLZ8_BAUMAX_2.0  \\\n",
       "0          -0.0           0.0              1.0              0.0   \n",
       "1           0.0          -0.0              0.0              0.0   \n",
       "2          -0.0          -0.0              0.0              0.0   \n",
       "3          -0.0          -0.0             -0.0              0.0   \n",
       "4           0.0          -0.0              0.0              0.0   \n",
       "\n",
       "   PLZ8_BAUMAX_3.0  PLZ8_BAUMAX_4.0  PLZ8_BAUMAX_5.0     LNR  \n",
       "0              0.0              0.0              0.0  910220  \n",
       "1              0.0             -0.0             -0.0  645165  \n",
       "2              0.0              0.0              0.0  612569  \n",
       "3              0.0              0.0              0.0  612595  \n",
       "4              0.0              0.0              0.0  612606  \n",
       "\n",
       "[5 rows x 485 columns]"
      ]
     },
     "execution_count": 217,
     "metadata": {},
     "output_type": "execute_result"
    }
   ],
   "source": [
    "# Select peaple in the target class\n",
    "target_class = [2]\n",
    "target_pca = pca.inverse_transform(azdias_pca[np.isin(labels_azdias, target_class)])\n",
    "target_azdias = scaler.inverse_transform(target_pca).round()\n",
    "target_azdias = pd.DataFrame(target_azdias, columns=new_azdias.columns)\n",
    "\n",
    "# Get LNR variable\n",
    "target_LNR = LNR_azdias[np.isin(labels_azdias, target_class)]\n",
    "target_azdias['LNR'] = target_LNR.values \n",
    " \n",
    "target_azdias.head()"
   ]
  },
  {
   "cell_type": "code",
   "execution_count": 221,
   "metadata": {
    "collapsed": false
   },
   "outputs": [
    {
     "data": {
      "text/html": [
       "<div>\n",
       "<style scoped>\n",
       "    .dataframe tbody tr th:only-of-type {\n",
       "        vertical-align: middle;\n",
       "    }\n",
       "\n",
       "    .dataframe tbody tr th {\n",
       "        vertical-align: top;\n",
       "    }\n",
       "\n",
       "    .dataframe thead th {\n",
       "        text-align: right;\n",
       "    }\n",
       "</style>\n",
       "<table border=\"1\" class=\"dataframe\">\n",
       "  <thead>\n",
       "    <tr style=\"text-align: right;\">\n",
       "      <th></th>\n",
       "      <th>CJT_GESAMTTYP_1.0</th>\n",
       "      <th>CJT_GESAMTTYP_2.0</th>\n",
       "      <th>CJT_GESAMTTYP_3.0</th>\n",
       "      <th>CJT_GESAMTTYP_4.0</th>\n",
       "      <th>CJT_GESAMTTYP_5.0</th>\n",
       "      <th>CJT_GESAMTTYP_6.0</th>\n",
       "      <th>FINANZTYP_1.0</th>\n",
       "      <th>FINANZTYP_2.0</th>\n",
       "      <th>FINANZTYP_3.0</th>\n",
       "      <th>FINANZTYP_4.0</th>\n",
       "      <th>...</th>\n",
       "      <th>WOHNLAGE_4.0</th>\n",
       "      <th>WOHNLAGE_5.0</th>\n",
       "      <th>WOHNLAGE_7.0</th>\n",
       "      <th>WOHNLAGE_8.0</th>\n",
       "      <th>PLZ8_BAUMAX_1.0</th>\n",
       "      <th>PLZ8_BAUMAX_2.0</th>\n",
       "      <th>PLZ8_BAUMAX_3.0</th>\n",
       "      <th>PLZ8_BAUMAX_4.0</th>\n",
       "      <th>PLZ8_BAUMAX_5.0</th>\n",
       "      <th>LNR</th>\n",
       "    </tr>\n",
       "  </thead>\n",
       "  <tbody>\n",
       "    <tr>\n",
       "      <th>0</th>\n",
       "      <td>0.063469</td>\n",
       "      <td>0.119497</td>\n",
       "      <td>0.649701</td>\n",
       "      <td>-0.075814</td>\n",
       "      <td>0.208384</td>\n",
       "      <td>0.041771</td>\n",
       "      <td>0.688310</td>\n",
       "      <td>0.211304</td>\n",
       "      <td>0.005633</td>\n",
       "      <td>0.178835</td>\n",
       "      <td>...</td>\n",
       "      <td>0.354286</td>\n",
       "      <td>0.044368</td>\n",
       "      <td>0.068720</td>\n",
       "      <td>-0.003951</td>\n",
       "      <td>-0.071678</td>\n",
       "      <td>0.110471</td>\n",
       "      <td>0.005172</td>\n",
       "      <td>-0.118845</td>\n",
       "      <td>0.060325</td>\n",
       "      <td>910225</td>\n",
       "    </tr>\n",
       "    <tr>\n",
       "      <th>1</th>\n",
       "      <td>-0.103422</td>\n",
       "      <td>0.532580</td>\n",
       "      <td>0.155605</td>\n",
       "      <td>0.244301</td>\n",
       "      <td>0.098160</td>\n",
       "      <td>0.062169</td>\n",
       "      <td>0.037765</td>\n",
       "      <td>0.108221</td>\n",
       "      <td>0.085355</td>\n",
       "      <td>-0.099753</td>\n",
       "      <td>...</td>\n",
       "      <td>-0.078521</td>\n",
       "      <td>0.007658</td>\n",
       "      <td>0.715539</td>\n",
       "      <td>0.114445</td>\n",
       "      <td>-0.015227</td>\n",
       "      <td>-0.085619</td>\n",
       "      <td>0.129200</td>\n",
       "      <td>-0.073948</td>\n",
       "      <td>-0.018927</td>\n",
       "      <td>910226</td>\n",
       "    </tr>\n",
       "    <tr>\n",
       "      <th>2</th>\n",
       "      <td>0.271948</td>\n",
       "      <td>-0.259555</td>\n",
       "      <td>0.299131</td>\n",
       "      <td>0.177294</td>\n",
       "      <td>0.295743</td>\n",
       "      <td>0.200278</td>\n",
       "      <td>0.291330</td>\n",
       "      <td>-0.033434</td>\n",
       "      <td>0.062578</td>\n",
       "      <td>-0.034294</td>\n",
       "      <td>...</td>\n",
       "      <td>-0.158224</td>\n",
       "      <td>0.092351</td>\n",
       "      <td>0.082902</td>\n",
       "      <td>-0.002683</td>\n",
       "      <td>-0.728700</td>\n",
       "      <td>0.533396</td>\n",
       "      <td>0.048940</td>\n",
       "      <td>0.134090</td>\n",
       "      <td>-0.065348</td>\n",
       "      <td>910241</td>\n",
       "    </tr>\n",
       "    <tr>\n",
       "      <th>3</th>\n",
       "      <td>0.153852</td>\n",
       "      <td>0.526592</td>\n",
       "      <td>0.032059</td>\n",
       "      <td>-0.025547</td>\n",
       "      <td>0.031249</td>\n",
       "      <td>0.278589</td>\n",
       "      <td>0.343711</td>\n",
       "      <td>0.750747</td>\n",
       "      <td>-0.132546</td>\n",
       "      <td>-0.076654</td>\n",
       "      <td>...</td>\n",
       "      <td>0.016462</td>\n",
       "      <td>0.172122</td>\n",
       "      <td>0.699472</td>\n",
       "      <td>0.057077</td>\n",
       "      <td>-0.142474</td>\n",
       "      <td>0.110341</td>\n",
       "      <td>-0.016161</td>\n",
       "      <td>-0.019498</td>\n",
       "      <td>0.098936</td>\n",
       "      <td>910244</td>\n",
       "    </tr>\n",
       "    <tr>\n",
       "      <th>4</th>\n",
       "      <td>0.201031</td>\n",
       "      <td>0.048567</td>\n",
       "      <td>-0.026288</td>\n",
       "      <td>-0.003750</td>\n",
       "      <td>0.385696</td>\n",
       "      <td>0.395018</td>\n",
       "      <td>0.747201</td>\n",
       "      <td>-0.129658</td>\n",
       "      <td>0.045851</td>\n",
       "      <td>0.210956</td>\n",
       "      <td>...</td>\n",
       "      <td>0.297944</td>\n",
       "      <td>0.248570</td>\n",
       "      <td>0.005719</td>\n",
       "      <td>-0.017058</td>\n",
       "      <td>-0.203756</td>\n",
       "      <td>0.307205</td>\n",
       "      <td>-0.006395</td>\n",
       "      <td>-0.083380</td>\n",
       "      <td>0.029312</td>\n",
       "      <td>910248</td>\n",
       "    </tr>\n",
       "  </tbody>\n",
       "</table>\n",
       "<p>5 rows × 485 columns</p>\n",
       "</div>"
      ],
      "text/plain": [
       "   CJT_GESAMTTYP_1.0  CJT_GESAMTTYP_2.0  CJT_GESAMTTYP_3.0  CJT_GESAMTTYP_4.0  \\\n",
       "0           0.063469           0.119497           0.649701          -0.075814   \n",
       "1          -0.103422           0.532580           0.155605           0.244301   \n",
       "2           0.271948          -0.259555           0.299131           0.177294   \n",
       "3           0.153852           0.526592           0.032059          -0.025547   \n",
       "4           0.201031           0.048567          -0.026288          -0.003750   \n",
       "\n",
       "   CJT_GESAMTTYP_5.0  CJT_GESAMTTYP_6.0  FINANZTYP_1.0  FINANZTYP_2.0  \\\n",
       "0           0.208384           0.041771       0.688310       0.211304   \n",
       "1           0.098160           0.062169       0.037765       0.108221   \n",
       "2           0.295743           0.200278       0.291330      -0.033434   \n",
       "3           0.031249           0.278589       0.343711       0.750747   \n",
       "4           0.385696           0.395018       0.747201      -0.129658   \n",
       "\n",
       "   FINANZTYP_3.0  FINANZTYP_4.0  ...  WOHNLAGE_4.0  WOHNLAGE_5.0  \\\n",
       "0       0.005633       0.178835  ...      0.354286      0.044368   \n",
       "1       0.085355      -0.099753  ...     -0.078521      0.007658   \n",
       "2       0.062578      -0.034294  ...     -0.158224      0.092351   \n",
       "3      -0.132546      -0.076654  ...      0.016462      0.172122   \n",
       "4       0.045851       0.210956  ...      0.297944      0.248570   \n",
       "\n",
       "   WOHNLAGE_7.0  WOHNLAGE_8.0  PLZ8_BAUMAX_1.0  PLZ8_BAUMAX_2.0  \\\n",
       "0      0.068720     -0.003951        -0.071678         0.110471   \n",
       "1      0.715539      0.114445        -0.015227        -0.085619   \n",
       "2      0.082902     -0.002683        -0.728700         0.533396   \n",
       "3      0.699472      0.057077        -0.142474         0.110341   \n",
       "4      0.005719     -0.017058        -0.203756         0.307205   \n",
       "\n",
       "   PLZ8_BAUMAX_3.0  PLZ8_BAUMAX_4.0  PLZ8_BAUMAX_5.0     LNR  \n",
       "0         0.005172        -0.118845         0.060325  910225  \n",
       "1         0.129200        -0.073948        -0.018927  910226  \n",
       "2         0.048940         0.134090        -0.065348  910241  \n",
       "3        -0.016161        -0.019498         0.098936  910244  \n",
       "4        -0.006395        -0.083380         0.029312  910248  \n",
       "\n",
       "[5 rows x 485 columns]"
      ]
     },
     "execution_count": 221,
     "metadata": {},
     "output_type": "execute_result"
    }
   ],
   "source": [
    "# Select peaple in the no target class\n",
    "no_target_class = [0, 1, 3, 4, 5]\n",
    "no_target_pca = pca.inverse_transform(azdias_pca[np.isin(labels_azdias, no_target_class)])\n",
    "no_target_azdias = scaler.inverse_transform(no_target_pca).round()\n",
    "no_target_pca = pd.DataFrame(no_target_pca, columns=new_azdias.columns)\n",
    "\n",
    "# Get LNR variable\n",
    "no_target_LNR = LNR_azdias[np.isin(labels_azdias, no_target_class)]\n",
    "no_target_pca['LNR'] = no_target_LNR.values \n",
    " \n",
    "no_target_pca.head()"
   ]
  },
  {
   "cell_type": "markdown",
   "metadata": {},
   "source": [
    "#### Discusion\n",
    "\n",
    "**99 % percent of the customers' data fit in the second class which contains 30% of azdias data. So the company can take this population as future customers in Germany.**"
   ]
  },
  {
   "cell_type": "markdown",
   "metadata": {},
   "source": [
    "##  <a class=\"anchor\" id=\"part2\">Part 2: Supervised Learning Model</a>\n",
    "\n",
    "Now that I've found which parts of the population are more likely to be customers of the mail-order company, it's time to build a prediction model. Each of the rows in the \"MAILOUT\" data files represents an individual that was targeted for a mailout campaign. Ideally, we should be able to use the demographic information from each individual to decide whether or not it will be worth it to include that person in the campaign.\n",
    "\n",
    "The \"MAILOUT\" data has been split into two approximately equal parts, each with almost 43 000 data rows. In this part, you can verify your model with the \"TRAIN\" partition, which includes a column, \"RESPONSE\", that states whether or not a person became a customer of the company following the campaign. In the next part, I'll need to create predictions on the \"TEST\" partition, where the \"RESPONSE\" column has been withheld."
   ]
  },
  {
   "cell_type": "markdown",
   "metadata": {},
   "source": [
    "## Step 1: Exploring the Data"
   ]
  },
  {
   "cell_type": "code",
   "execution_count": 266,
   "metadata": {
    "collapsed": false
   },
   "outputs": [
    {
     "name": "stderr",
     "output_type": "stream",
     "text": [
      "/home/jaouadeddadsi2016/anaconda3/lib/python3.5/site-packages/IPython/core/interactiveshell.py:2717: DtypeWarning: Columns (18,19) have mixed types. Specify dtype option on import or set low_memory=False.\n",
      "  interactivity=interactivity, compiler=compiler, result=result)\n"
     ]
    },
    {
     "data": {
      "text/html": [
       "<div>\n",
       "<style scoped>\n",
       "    .dataframe tbody tr th:only-of-type {\n",
       "        vertical-align: middle;\n",
       "    }\n",
       "\n",
       "    .dataframe tbody tr th {\n",
       "        vertical-align: top;\n",
       "    }\n",
       "\n",
       "    .dataframe thead th {\n",
       "        text-align: right;\n",
       "    }\n",
       "</style>\n",
       "<table border=\"1\" class=\"dataframe\">\n",
       "  <thead>\n",
       "    <tr style=\"text-align: right;\">\n",
       "      <th></th>\n",
       "      <th>LNR</th>\n",
       "      <th>AGER_TYP</th>\n",
       "      <th>AKT_DAT_KL</th>\n",
       "      <th>ALTER_HH</th>\n",
       "      <th>ALTER_KIND1</th>\n",
       "      <th>ALTER_KIND2</th>\n",
       "      <th>ALTER_KIND3</th>\n",
       "      <th>ALTER_KIND4</th>\n",
       "      <th>ALTERSKATEGORIE_FEIN</th>\n",
       "      <th>ANZ_HAUSHALTE_AKTIV</th>\n",
       "      <th>...</th>\n",
       "      <th>VK_DHT4A</th>\n",
       "      <th>VK_DISTANZ</th>\n",
       "      <th>VK_ZG11</th>\n",
       "      <th>W_KEIT_KIND_HH</th>\n",
       "      <th>WOHNDAUER_2008</th>\n",
       "      <th>WOHNLAGE</th>\n",
       "      <th>ZABEOTYP</th>\n",
       "      <th>RESPONSE</th>\n",
       "      <th>ANREDE_KZ</th>\n",
       "      <th>ALTERSKATEGORIE_GROB</th>\n",
       "    </tr>\n",
       "  </thead>\n",
       "  <tbody>\n",
       "    <tr>\n",
       "      <th>0</th>\n",
       "      <td>1763</td>\n",
       "      <td>2</td>\n",
       "      <td>1.0</td>\n",
       "      <td>8.0</td>\n",
       "      <td>NaN</td>\n",
       "      <td>NaN</td>\n",
       "      <td>NaN</td>\n",
       "      <td>NaN</td>\n",
       "      <td>8.0</td>\n",
       "      <td>15.0</td>\n",
       "      <td>...</td>\n",
       "      <td>5.0</td>\n",
       "      <td>2.0</td>\n",
       "      <td>1.0</td>\n",
       "      <td>6.0</td>\n",
       "      <td>9.0</td>\n",
       "      <td>3.0</td>\n",
       "      <td>3</td>\n",
       "      <td>0</td>\n",
       "      <td>2</td>\n",
       "      <td>4</td>\n",
       "    </tr>\n",
       "    <tr>\n",
       "      <th>1</th>\n",
       "      <td>1771</td>\n",
       "      <td>1</td>\n",
       "      <td>4.0</td>\n",
       "      <td>13.0</td>\n",
       "      <td>NaN</td>\n",
       "      <td>NaN</td>\n",
       "      <td>NaN</td>\n",
       "      <td>NaN</td>\n",
       "      <td>13.0</td>\n",
       "      <td>1.0</td>\n",
       "      <td>...</td>\n",
       "      <td>1.0</td>\n",
       "      <td>2.0</td>\n",
       "      <td>1.0</td>\n",
       "      <td>4.0</td>\n",
       "      <td>9.0</td>\n",
       "      <td>7.0</td>\n",
       "      <td>1</td>\n",
       "      <td>0</td>\n",
       "      <td>2</td>\n",
       "      <td>3</td>\n",
       "    </tr>\n",
       "    <tr>\n",
       "      <th>2</th>\n",
       "      <td>1776</td>\n",
       "      <td>1</td>\n",
       "      <td>1.0</td>\n",
       "      <td>9.0</td>\n",
       "      <td>NaN</td>\n",
       "      <td>NaN</td>\n",
       "      <td>NaN</td>\n",
       "      <td>NaN</td>\n",
       "      <td>7.0</td>\n",
       "      <td>0.0</td>\n",
       "      <td>...</td>\n",
       "      <td>6.0</td>\n",
       "      <td>4.0</td>\n",
       "      <td>2.0</td>\n",
       "      <td>NaN</td>\n",
       "      <td>9.0</td>\n",
       "      <td>2.0</td>\n",
       "      <td>3</td>\n",
       "      <td>0</td>\n",
       "      <td>1</td>\n",
       "      <td>4</td>\n",
       "    </tr>\n",
       "    <tr>\n",
       "      <th>3</th>\n",
       "      <td>1460</td>\n",
       "      <td>2</td>\n",
       "      <td>1.0</td>\n",
       "      <td>6.0</td>\n",
       "      <td>NaN</td>\n",
       "      <td>NaN</td>\n",
       "      <td>NaN</td>\n",
       "      <td>NaN</td>\n",
       "      <td>6.0</td>\n",
       "      <td>4.0</td>\n",
       "      <td>...</td>\n",
       "      <td>8.0</td>\n",
       "      <td>11.0</td>\n",
       "      <td>11.0</td>\n",
       "      <td>6.0</td>\n",
       "      <td>9.0</td>\n",
       "      <td>1.0</td>\n",
       "      <td>3</td>\n",
       "      <td>0</td>\n",
       "      <td>2</td>\n",
       "      <td>4</td>\n",
       "    </tr>\n",
       "    <tr>\n",
       "      <th>4</th>\n",
       "      <td>1783</td>\n",
       "      <td>2</td>\n",
       "      <td>1.0</td>\n",
       "      <td>9.0</td>\n",
       "      <td>NaN</td>\n",
       "      <td>NaN</td>\n",
       "      <td>NaN</td>\n",
       "      <td>NaN</td>\n",
       "      <td>9.0</td>\n",
       "      <td>53.0</td>\n",
       "      <td>...</td>\n",
       "      <td>2.0</td>\n",
       "      <td>2.0</td>\n",
       "      <td>1.0</td>\n",
       "      <td>6.0</td>\n",
       "      <td>9.0</td>\n",
       "      <td>3.0</td>\n",
       "      <td>3</td>\n",
       "      <td>0</td>\n",
       "      <td>1</td>\n",
       "      <td>3</td>\n",
       "    </tr>\n",
       "  </tbody>\n",
       "</table>\n",
       "<p>5 rows × 367 columns</p>\n",
       "</div>"
      ],
      "text/plain": [
       "    LNR  AGER_TYP  AKT_DAT_KL  ALTER_HH  ALTER_KIND1  ALTER_KIND2  \\\n",
       "0  1763         2         1.0       8.0          NaN          NaN   \n",
       "1  1771         1         4.0      13.0          NaN          NaN   \n",
       "2  1776         1         1.0       9.0          NaN          NaN   \n",
       "3  1460         2         1.0       6.0          NaN          NaN   \n",
       "4  1783         2         1.0       9.0          NaN          NaN   \n",
       "\n",
       "   ALTER_KIND3  ALTER_KIND4  ALTERSKATEGORIE_FEIN  ANZ_HAUSHALTE_AKTIV  ...  \\\n",
       "0          NaN          NaN                   8.0                 15.0  ...   \n",
       "1          NaN          NaN                  13.0                  1.0  ...   \n",
       "2          NaN          NaN                   7.0                  0.0  ...   \n",
       "3          NaN          NaN                   6.0                  4.0  ...   \n",
       "4          NaN          NaN                   9.0                 53.0  ...   \n",
       "\n",
       "   VK_DHT4A  VK_DISTANZ  VK_ZG11  W_KEIT_KIND_HH  WOHNDAUER_2008  WOHNLAGE  \\\n",
       "0       5.0         2.0      1.0             6.0             9.0       3.0   \n",
       "1       1.0         2.0      1.0             4.0             9.0       7.0   \n",
       "2       6.0         4.0      2.0             NaN             9.0       2.0   \n",
       "3       8.0        11.0     11.0             6.0             9.0       1.0   \n",
       "4       2.0         2.0      1.0             6.0             9.0       3.0   \n",
       "\n",
       "   ZABEOTYP RESPONSE ANREDE_KZ ALTERSKATEGORIE_GROB  \n",
       "0         3        0         2                    4  \n",
       "1         1        0         2                    3  \n",
       "2         3        0         1                    4  \n",
       "3         3        0         2                    4  \n",
       "4         3        0         1                    3  \n",
       "\n",
       "[5 rows x 367 columns]"
      ]
     },
     "execution_count": 266,
     "metadata": {},
     "output_type": "execute_result"
    }
   ],
   "source": [
    "mailout_train = pd.read_csv('Arvato_data/Udacity_MAILOUT_052018_TRAIN.csv',\n",
    "                            sep=';')\n",
    "\n",
    "mailout_train.head()"
   ]
  },
  {
   "cell_type": "code",
   "execution_count": 267,
   "metadata": {
    "collapsed": false
   },
   "outputs": [
    {
     "data": {
      "text/plain": [
       "(42962, 367)"
      ]
     },
     "execution_count": 267,
     "metadata": {},
     "output_type": "execute_result"
    }
   ],
   "source": [
    "# Data shape\n",
    "mailout_train.shape"
   ]
  },
  {
   "cell_type": "code",
   "execution_count": 268,
   "metadata": {
    "collapsed": false
   },
   "outputs": [
    {
     "data": {
      "text/plain": [
       "0    42430\n",
       "1      532\n",
       "Name: RESPONSE, dtype: int64"
      ]
     },
     "execution_count": 268,
     "metadata": {},
     "output_type": "execute_result"
    }
   ],
   "source": [
    "# Response values\n",
    "mailout_train.RESPONSE.value_counts(dropna=False)"
   ]
  },
  {
   "cell_type": "markdown",
   "metadata": {},
   "source": [
    "**Out of all the 42 962 individuals in the mailout campaign, only 532 of the individuals became customers. The dataset is highly imbalanced.**"
   ]
  },
  {
   "cell_type": "markdown",
   "metadata": {},
   "source": [
    "## Step 2: Preparing the Data"
   ]
  },
  {
   "cell_type": "code",
   "execution_count": 269,
   "metadata": {
    "collapsed": false
   },
   "outputs": [
    {
     "name": "stderr",
     "output_type": "stream",
     "text": [
      "/home/jaouadeddadsi2016/anaconda3/lib/python3.5/site-packages/pandas/core/ops.py:1649: FutureWarning: elementwise comparison failed; returning scalar instead, but in the future will perform elementwise comparison\n",
      "  result = method(y)\n"
     ]
    }
   ],
   "source": [
    "# Cleaning data\n",
    "clean_mailout = clean_data(mailout_train)"
   ]
  },
  {
   "cell_type": "code",
   "execution_count": 270,
   "metadata": {
    "collapsed": false
   },
   "outputs": [
    {
     "data": {
      "text/plain": [
       "0    34663\n",
       "1      437\n",
       "Name: RESPONSE, dtype: int64"
      ]
     },
     "execution_count": 270,
     "metadata": {},
     "output_type": "execute_result"
    }
   ],
   "source": [
    "# Response values\n",
    "clean_mailout.RESPONSE.value_counts(dropna=False)"
   ]
  },
  {
   "cell_type": "code",
   "execution_count": 271,
   "metadata": {
    "collapsed": false
   },
   "outputs": [],
   "source": [
    "# Cheking missing values\n",
    "sum_null = clean_mailout.isnull().sum(axis=1)"
   ]
  },
  {
   "cell_type": "code",
   "execution_count": 272,
   "metadata": {
    "collapsed": false
   },
   "outputs": [
    {
     "data": {
      "image/png": "[encoded data removed]",
      "text/plain": [
       "<matplotlib.figure.Figure at 0x7fe80f7fec88>"
      ]
     },
     "metadata": {},
     "output_type": "display_data"
    }
   ],
   "source": [
    "plt.figure()\n",
    "sns.distplot(sum_null.values/485, kde=False)\n",
    "plt.ylabel('count')\n",
    "plt.xlabel('% of nan')\n",
    "plt.title('Distribution of missing value per row')\n",
    "matplotlib.rc('xtick', labelsize=10)  \n",
    "matplotlib.rc('ytick', labelsize=10)\n",
    "plt.show()"
   ]
  },
  {
   "cell_type": "code",
   "execution_count": 273,
   "metadata": {
    "collapsed": true
   },
   "outputs": [],
   "source": [
    "# Get LNR variable\n",
    "mailout_LNR = clean_mailout['LNR'] \n",
    "\n",
    "# Drop LNR \n",
    "clean_mailout.drop('LNR', axis=1, inplace=True)"
   ]
  },
  {
   "cell_type": "code",
   "execution_count": 275,
   "metadata": {
    "collapsed": false
   },
   "outputs": [],
   "source": [
    "# Imputer\n",
    "new_mailout = pd.DataFrame(Imp.fit_transform(clean_mailout.values),\n",
    "                          columns=clean_mailout.columns)"
   ]
  },
  {
   "cell_type": "code",
   "execution_count": 101,
   "metadata": {
    "collapsed": true
   },
   "outputs": [],
   "source": [
    "# feature scaling\n",
    "new_mailout = pd.DataFrame(scaler.fit_transform(new_mailout.values),\n",
    "                          columns=new_mailout.columns)"
   ]
  },
  {
   "cell_type": "code",
   "execution_count": 214,
   "metadata": {
    "collapsed": false
   },
   "outputs": [],
   "source": [
    "# 30 times  mailout_cls_1\n",
    "\n",
    "list_df = [mailout_cls_1]\n",
    "\n",
    "for k in range(10):\n",
    "    \n",
    "    index = random.sample(list(mailout_cls_1.index), 218)\n",
    "    list_df.append(mailout_cls_1.loc[index])\n",
    "\n"
   ]
  },
  {
   "cell_type": "code",
   "execution_count": 278,
   "metadata": {
    "collapsed": true
   },
   "outputs": [],
   "source": [
    "# split data to features and labels\n",
    "response = new_mailout['RESPONSE']\n",
    "\n",
    "# drop RESPONSE variable\n",
    "features = new_mailout.drop('RESPONSE', axis=1)"
   ]
  },
  {
   "cell_type": "markdown",
   "metadata": {},
   "source": [
    "## Step 3: Modeling the data \n",
    "\n",
    "#### Evaluating Model Performance\n",
    "\n",
    "Since the data is highly imbalanced, using accuracy as a metric to evaluate model performance will give us a misleading result. Instead, I will use ROC-AUC to assess models performance.\n",
    "\n",
    "\n",
    "#### Supervised Learning Models\n",
    "Ensemble methods have become some of the most popular methods used to compete in competitions on Kaggle and used in industry across applications because of their ability to optimize both variance and bias. Therefore in this project, I will test the following three ensemble algorithms:\n",
    "\n",
    " - [AdaBoostRegressor](https://scikit-learn.org/stable/modules/generated/sklearn.ensemble.AdaBoostRegressor.html) \n",
    " - [RandomForestRegressor](https://scikit-learn.org/stable/modules/generated/sklearn.ensemble.RandomForestRegressor.html)\n",
    " - [XGBRegressor](https://xgboost.readthedocs.io/en/latest/python/python_api.html)"
   ]
  },
  {
   "cell_type": "code",
   "execution_count": 280,
   "metadata": {
    "collapsed": false
   },
   "outputs": [],
   "source": [
    "# Initialize the three models\n",
    "model_A = XGBRegressor(objective='binary:logistic', random_state=42)\n",
    "model_B = AdaBoostRegressor(random_state=42)\n",
    "model_C = RandomForestRegressor(random_state=42)"
   ]
  },
  {
   "cell_type": "code",
   "execution_count": 279,
   "metadata": {
    "collapsed": true
   },
   "outputs": [],
   "source": [
    "# randomize the data\n",
    "\n",
    "\n",
    "def randomize(X, Y):\n",
    "    permutation = np.random.permutation(Y.shape[0])\n",
    "    X2 = X[permutation, :]\n",
    "    Y2 = Y[permutation]\n",
    "    \n",
    "    return X2, Y2\n",
    "\n",
    "\n",
    "X_train, y_train = randomize(np.asarray(features), np.asarray(response))"
   ]
  },
  {
   "cell_type": "code",
   "execution_count": 281,
   "metadata": {
    "collapsed": true
   },
   "outputs": [],
   "source": [
    "# Learning Curves\n",
    "\n",
    "\n",
    "def draw_learning_curves(X, y, estimator):\n",
    "    \n",
    "    X2, y2 = randomize(X, y)\n",
    "    \n",
    "    train_sizes = np.linspace(.1, 1.0, 10)\n",
    "    train_sizes, train_scores, test_scores = learning_curve(estimator,\n",
    "                                                            X2,\n",
    "                                                            y2,\n",
    "                                                            cv=5,\n",
    "                                                            scoring='roc_auc',\n",
    "                                                            n_jobs=-1,\n",
    "                                                            train_sizes=train_sizes,\n",
    "                                                            shuffle=True,\n",
    "                                                            verbose=10\n",
    "                                                           )\n",
    "\n",
    "    train_scores_mean = np.mean(train_scores, axis=1)\n",
    "    train_scores_std = np.std(train_scores, axis=1)\n",
    "    test_scores_mean = np.mean(test_scores, axis=1)\n",
    "    test_scores_std = np.std(test_scores, axis=1)\n",
    "\n",
    "    plt.grid()\n",
    "\n",
    "    plt.title(\"Learning Curves\")\n",
    "    plt.xlabel(\"Training examples\")\n",
    "    plt.ylabel(\"Auc score\")\n",
    "\n",
    "    plt.plot(train_scores_mean, 'o-', color=\"g\",\n",
    "             label=\"Training score\")\n",
    "    plt.plot(test_scores_mean, 'o-', color=\"y\",\n",
    "             label=\"Cross-validation score\")\n",
    "\n",
    "    plt.legend(loc=\"best\")\n",
    "\n",
    "    plt.show()"
   ]
  },
  {
   "cell_type": "code",
   "execution_count": 282,
   "metadata": {
    "collapsed": false
   },
   "outputs": [
    {
     "name": "stdout",
     "output_type": "stream",
     "text": [
      "[learning_curve] Training set sizes: [ 2808  5616  8424 11232 14040 16848 19656 22464 25272 28080]\n"
     ]
    },
    {
     "name": "stderr",
     "output_type": "stream",
     "text": [
      "[Parallel(n_jobs=-1)]: Using backend LokyBackend with 24 concurrent workers.\n",
      "[Parallel(n_jobs=-1)]: Done   3 out of  50 | elapsed:   13.9s remaining:  3.6min\n",
      "[Parallel(n_jobs=-1)]: Done   9 out of  50 | elapsed:   22.3s remaining:  1.7min\n",
      "[Parallel(n_jobs=-1)]: Done  15 out of  50 | elapsed:   31.4s remaining:  1.2min\n",
      "[Parallel(n_jobs=-1)]: Done  21 out of  50 | elapsed:   40.0s remaining:   55.3s\n",
      "[Parallel(n_jobs=-1)]: Done  27 out of  50 | elapsed:   45.0s remaining:   38.3s\n",
      "[Parallel(n_jobs=-1)]: Done  33 out of  50 | elapsed:   49.2s remaining:   25.3s\n",
      "[Parallel(n_jobs=-1)]: Done  39 out of  50 | elapsed:   55.3s remaining:   15.6s\n",
      "[Parallel(n_jobs=-1)]: Done  45 out of  50 | elapsed:  1.1min remaining:    7.2s\n",
      "[Parallel(n_jobs=-1)]: Done  50 out of  50 | elapsed:  1.3min finished\n"
     ]
    },
    {
     "data": {
      "image/png": "[encoded data removed]",
      "text/plain": [
       "<matplotlib.figure.Figure at 0x7fe717584a58>"
      ]
     },
     "metadata": {},
     "output_type": "display_data"
    }
   ],
   "source": [
    "# XGBCRegressor\n",
    "draw_learning_curves(X_train, y_train, model_A)"
   ]
  },
  {
   "cell_type": "code",
   "execution_count": 283,
   "metadata": {
    "collapsed": false
   },
   "outputs": [
    {
     "name": "stdout",
     "output_type": "stream",
     "text": [
      "[learning_curve] Training set sizes: [ 2808  5616  8424 11232 14040 16848 19656 22464 25272 28080]\n"
     ]
    },
    {
     "name": "stderr",
     "output_type": "stream",
     "text": [
      "[Parallel(n_jobs=-1)]: Using backend LokyBackend with 24 concurrent workers.\n",
      "[Parallel(n_jobs=-1)]: Done   3 out of  50 | elapsed:    2.2s remaining:   34.4s\n",
      "[Parallel(n_jobs=-1)]: Done   9 out of  50 | elapsed:    6.1s remaining:   28.0s\n",
      "[Parallel(n_jobs=-1)]: Done  15 out of  50 | elapsed:    9.0s remaining:   20.9s\n",
      "[Parallel(n_jobs=-1)]: Done  21 out of  50 | elapsed:   12.4s remaining:   17.2s\n",
      "[Parallel(n_jobs=-1)]: Done  27 out of  50 | elapsed:   16.0s remaining:   13.6s\n",
      "[Parallel(n_jobs=-1)]: Done  33 out of  50 | elapsed:   18.9s remaining:    9.7s\n",
      "[Parallel(n_jobs=-1)]: Done  39 out of  50 | elapsed:   21.1s remaining:    5.9s\n",
      "[Parallel(n_jobs=-1)]: Done  45 out of  50 | elapsed:   26.2s remaining:    2.9s\n",
      "[Parallel(n_jobs=-1)]: Done  50 out of  50 | elapsed:   30.2s finished\n"
     ]
    },
    {
     "data": {
      "image/png": "[encoded data removed]",
      "text/plain": [
       "<matplotlib.figure.Figure at 0x7fe80c519160>"
      ]
     },
     "metadata": {},
     "output_type": "display_data"
    }
   ],
   "source": [
    "# AdaBoostRegressor\n",
    "draw_learning_curves(X_train, y_train, model_B)"
   ]
  },
  {
   "cell_type": "code",
   "execution_count": 284,
   "metadata": {
    "collapsed": false
   },
   "outputs": [
    {
     "name": "stdout",
     "output_type": "stream",
     "text": [
      "[learning_curve] Training set sizes: [ 2808  5616  8424 11232 14040 16848 19656 22464 25272 28080]\n"
     ]
    },
    {
     "name": "stderr",
     "output_type": "stream",
     "text": [
      "[Parallel(n_jobs=-1)]: Using backend LokyBackend with 24 concurrent workers.\n",
      "[Parallel(n_jobs=-1)]: Done   3 out of  50 | elapsed:    2.4s remaining:   37.8s\n",
      "[Parallel(n_jobs=-1)]: Done   9 out of  50 | elapsed:    8.7s remaining:   39.8s\n",
      "[Parallel(n_jobs=-1)]: Done  15 out of  50 | elapsed:   16.3s remaining:   37.9s\n",
      "[Parallel(n_jobs=-1)]: Done  21 out of  50 | elapsed:   21.5s remaining:   29.6s\n",
      "[Parallel(n_jobs=-1)]: Done  27 out of  50 | elapsed:   28.1s remaining:   23.9s\n",
      "[Parallel(n_jobs=-1)]: Done  33 out of  50 | elapsed:   34.5s remaining:   17.8s\n",
      "[Parallel(n_jobs=-1)]: Done  39 out of  50 | elapsed:   39.7s remaining:   11.2s\n",
      "[Parallel(n_jobs=-1)]: Done  45 out of  50 | elapsed:   46.3s remaining:    5.1s\n",
      "[Parallel(n_jobs=-1)]: Done  50 out of  50 | elapsed:  1.0min finished\n"
     ]
    },
    {
     "data": {
      "image/png": "[encoded data removed]",
      "text/plain": [
       "<matplotlib.figure.Figure at 0x7fe81236c978>"
      ]
     },
     "metadata": {},
     "output_type": "display_data"
    }
   ],
   "source": [
    "# RandomForestRegressor\n",
    "draw_learning_curves(X_train, y_train, model_C)"
   ]
  },
  {
   "cell_type": "markdown",
   "metadata": {},
   "source": [
    "### Discusion \n",
    "\n",
    "Looking at the learning curves above it clear that RandomForestRegressor overfits data, AdaBoostRegressor has some erratic behavior. Therefore I will choose XGBRegressor to model the data."
   ]
  },
  {
   "cell_type": "markdown",
   "metadata": {},
   "source": [
    "## Step 4:  Parameter Tuning\n",
    "\n",
    "#### Approach for Parameter Tuning :\n",
    " - 1. Choose a relatively high learning rate. Generally a learning rate of 0.1 works but somewhere between 0.05 to 0.3 should work for different problems. Determine the optimum number of trees for this learning rate. XGBoost has a very useful function called as “cv” which performs cross-validation at each boosting iteration and thus returns the optimum number of trees required.\n",
    " - 2. Tune tree-specific parameters ( max_depth, min_child_weight, gamma, subsample, colsample_bytree) for decided learning rate and number of trees. Note that we can choose different parameters to define a tree and I’ll take up an example here.\n",
    " - 3. Tune regularization parameters (lambda, alpha) for xgboost which can help reduce model complexity and enhance performance.\n",
    " - 4. Lower the learning rate and decide the optimal parameters.\n",
    " \n",
    "This approach  inspired from  [Complete Guide to Parameter Tuning in XGBoost](https://www.analyticsvidhya.com/blog/2016/03/complete-guide-parameter-tuning-xgboost-with-codes-python/)"
   ]
  },
  {
   "cell_type": "code",
   "execution_count": 285,
   "metadata": {
    "collapsed": true
   },
   "outputs": [],
   "source": [
    "# function for modeling and cross-validation\n",
    "\n",
    "\n",
    "def modelval(alg, X_train, y_train, useTrainCV=True,\n",
    "             cv_folds=5, early_stopping_rounds=50):\n",
    "    \n",
    "    if useTrainCV:\n",
    "        xgb_param = alg.get_xgb_params()\n",
    "        xgtrain = xgb.DMatrix(X_train, label=y_train)\n",
    "        \n",
    "        cvresult = xgb.cv(xgb_param, xgtrain,\n",
    "                          num_boost_round=alg.get_params()[\n",
    "                              'n_estimators'], nfold=cv_folds,\n",
    "                          metrics='auc', verbose_eval=20,\n",
    "                          early_stopping_rounds=early_stopping_rounds,\n",
    "                          shuffle=True)\n",
    "        \n",
    "        alg.set_params(n_estimators=cvresult.shape[0])\n",
    "        \n",
    "        print('n_estimators=', cvresult.shape[0])\n",
    "        \n",
    "    # cross-validation\n",
    "    all_auc = cross_val_score(alg, X_train, y_train,\n",
    "                              scoring='roc_auc', cv=5,\n",
    "                              n_jobs=-1, verbose=10\n",
    "                             )\n",
    "    \n",
    "    auc = np.average(all_auc)\n",
    "    print(\"AUC Score : %f\" % auc)"
   ]
  },
  {
   "cell_type": "markdown",
   "metadata": {},
   "source": [
    "### Step 4.1- Find the number of estimators "
   ]
  },
  {
   "cell_type": "code",
   "execution_count": 287,
   "metadata": {
    "collapsed": false
   },
   "outputs": [
    {
     "name": "stdout",
     "output_type": "stream",
     "text": [
      "[0]\ttrain-auc:0.762176+0.00427215\ttest-auc:0.755931+0.0131404\n",
      "[20]\ttrain-auc:0.861178+0.00656747\ttest-auc:0.774002+0.0172957\n",
      "[40]\ttrain-auc:0.925636+0.00414626\ttest-auc:0.774429+0.0183072\n",
      "[60]\ttrain-auc:0.971717+0.00412828\ttest-auc:0.775152+0.0166882\n",
      "n_estimators= 13\n"
     ]
    },
    {
     "name": "stderr",
     "output_type": "stream",
     "text": [
      "[Parallel(n_jobs=-1)]: Using backend LokyBackend with 24 concurrent workers.\n",
      "[Parallel(n_jobs=-1)]: Done   1 tasks      | elapsed:    7.7s\n"
     ]
    },
    {
     "name": "stdout",
     "output_type": "stream",
     "text": [
      "AUC Score : 0.767045\n"
     ]
    },
    {
     "name": "stderr",
     "output_type": "stream",
     "text": [
      "[Parallel(n_jobs=-1)]: Done   3 out of   5 | elapsed:   12.1s remaining:    8.1s\n",
      "[Parallel(n_jobs=-1)]: Done   5 out of   5 | elapsed:   12.3s remaining:    0.0s\n",
      "[Parallel(n_jobs=-1)]: Done   5 out of   5 | elapsed:   12.3s finished\n"
     ]
    }
   ],
   "source": [
    "xgb1 = XGBRegressor(\n",
    "        learning_rate=0.1,\n",
    "        n_estimators=1000,\n",
    "        max_depth=5,\n",
    "        min_child_weight=1,\n",
    "        gamma=0,\n",
    "        subsample=0.8,\n",
    "        colsample_bytree=0.8,\n",
    "        objective='binary:logistic',\n",
    "        nthread=4,\n",
    "        scale_pos_weight=1,\n",
    "        seed=27,\n",
    "        random_state=42)\n",
    "\n",
    "modelval(xgb1, X_train, y_train)"
   ]
  },
  {
   "cell_type": "markdown",
   "metadata": {},
   "source": [
    "### Step 4.2: Tune max_depth and min_child_weight"
   ]
  },
  {
   "cell_type": "code",
   "execution_count": 289,
   "metadata": {
    "collapsed": false
   },
   "outputs": [
    {
     "name": "stdout",
     "output_type": "stream",
     "text": [
      "Fitting 5 folds for each of 35 candidates, totalling 175 fits\n"
     ]
    },
    {
     "name": "stderr",
     "output_type": "stream",
     "text": [
      "[Parallel(n_jobs=-1)]: Using backend LokyBackend with 24 concurrent workers.\n",
      "[Parallel(n_jobs=-1)]: Done   1 tasks      | elapsed:    7.2s\n",
      "[Parallel(n_jobs=-1)]: Done   2 tasks      | elapsed:   13.0s\n",
      "[Parallel(n_jobs=-1)]: Done  13 tasks      | elapsed:   26.0s\n",
      "[Parallel(n_jobs=-1)]: Done  24 tasks      | elapsed:   26.3s\n",
      "[Parallel(n_jobs=-1)]: Done  37 tasks      | elapsed:   43.4s\n",
      "[Parallel(n_jobs=-1)]: Done  50 tasks      | elapsed:   45.1s\n",
      "[Parallel(n_jobs=-1)]: Done  65 tasks      | elapsed:  1.1min\n",
      "[Parallel(n_jobs=-1)]: Done  80 tasks      | elapsed:  1.5min\n",
      "[Parallel(n_jobs=-1)]: Done  97 tasks      | elapsed:  1.5min\n",
      "[Parallel(n_jobs=-1)]: Done 114 tasks      | elapsed:  1.9min\n",
      "[Parallel(n_jobs=-1)]: Done 146 out of 175 | elapsed:  2.5min remaining:   30.1s\n",
      "[Parallel(n_jobs=-1)]: Done 164 out of 175 | elapsed:  3.0min remaining:   12.3s\n",
      "[Parallel(n_jobs=-1)]: Done 175 out of 175 | elapsed:  3.1min finished\n"
     ]
    },
    {
     "data": {
      "text/plain": [
       "GridSearchCV(cv=5, error_score='raise-deprecating',\n",
       "       estimator=XGBRegressor(base_score=0.5, booster='gbtree', colsample_bylevel=1,\n",
       "       colsample_bytree=0.8, gamma=0, importance_type='gain',\n",
       "       learning_rate=0.1, max_delta_step=0, max_depth=5,\n",
       "       min_child_weight=1, missing=None, n_estimators=13, n_jobs=1,\n",
       "       nthread=4, objective='binary:logistic', random_state=0, reg_alpha=0,\n",
       "       reg_lambda=1, scale_pos_weight=1, seed=27, silent=True,\n",
       "       subsample=0.8),\n",
       "       fit_params=None, iid=False, n_jobs=-1,\n",
       "       param_grid={'min_child_weight': range(1, 6), 'max_depth': range(3, 10)},\n",
       "       pre_dispatch='2*n_jobs', refit=True, return_train_score='warn',\n",
       "       scoring='roc_auc', verbose=10)"
      ]
     },
     "execution_count": 289,
     "metadata": {},
     "output_type": "execute_result"
    }
   ],
   "source": [
    "# Grid seach on subsample and max_features\n",
    "\n",
    "param_test1 = {\n",
    "    'max_depth':range(3,10,1),\n",
    "    'min_child_weight':range(1,6,1)\n",
    "}\n",
    "\n",
    "gsearch1 = GridSearchCV(estimator = XGBRegressor(learning_rate=0.1, n_estimators=13,\n",
    "                                                  max_depth=5, min_child_weight=1, gamma=0,\n",
    "                                                  subsample=0.8, colsample_bytree=0.8,\n",
    "                                                  objective='binary:logistic', nthread=4,\n",
    "                                                  scale_pos_weight=1, seed=27),\n",
    "                        param_grid = param_test1, scoring='roc_auc', n_jobs=-1,\n",
    "                        iid=False, cv=5, verbose=10)\n",
    "gsearch1.fit(X_train,y_train)"
   ]
  },
  {
   "cell_type": "code",
   "execution_count": 290,
   "metadata": {
    "collapsed": false
   },
   "outputs": [
    {
     "data": {
      "text/plain": [
       "(0.7761149044220699, {'max_depth': 3, 'min_child_weight': 5})"
      ]
     },
     "execution_count": 290,
     "metadata": {},
     "output_type": "execute_result"
    }
   ],
   "source": [
    "gsearch1.best_score_, gsearch1.best_params_"
   ]
  },
  {
   "cell_type": "code",
   "execution_count": 292,
   "metadata": {
    "collapsed": false
   },
   "outputs": [
    {
     "name": "stdout",
     "output_type": "stream",
     "text": [
      "Fitting 5 folds for each of 2 candidates, totalling 10 fits\n"
     ]
    },
    {
     "name": "stderr",
     "output_type": "stream",
     "text": [
      "[Parallel(n_jobs=-1)]: Using backend LokyBackend with 24 concurrent workers.\n",
      "[Parallel(n_jobs=-1)]: Done   3 out of  10 | elapsed:    4.0s remaining:    9.4s\n",
      "[Parallel(n_jobs=-1)]: Done   5 out of  10 | elapsed:    4.2s remaining:    4.2s\n",
      "[Parallel(n_jobs=-1)]: Done   7 out of  10 | elapsed:    4.4s remaining:    1.9s\n",
      "[Parallel(n_jobs=-1)]: Done  10 out of  10 | elapsed:    4.9s finished\n"
     ]
    },
    {
     "name": "stdout",
     "output_type": "stream",
     "text": [
      "Best score:  0.7761149044220699\n",
      "Best params:  {'max_depth': 3}\n"
     ]
    }
   ],
   "source": [
    "param_test2 = {\n",
    " 'max_depth':[2,3],\n",
    "}\n",
    "\n",
    "gsearch2 = GridSearchCV(estimator = XGBRegressor(learning_rate=0.1, n_estimators=13,\n",
    "                                                  max_depth=3, min_child_weight=5, gamma=0,\n",
    "                                                  subsample=0.8, colsample_bytree=0.8,\n",
    "                                                  objective='binary:logistic', nthread=4,\n",
    "                                                  scale_pos_weight=1, seed=27),\n",
    "                        param_grid = param_test2, scoring='roc_auc', n_jobs=-1,\n",
    "                        iid=False, cv=5, verbose=10)\n",
    "gsearch2.fit(X_train,y_train)\n",
    "\n",
    "print('Best score: ', gsearch2.best_score_)\n",
    "print('Best params: ', gsearch2.best_params_)"
   ]
  },
  {
   "cell_type": "markdown",
   "metadata": {},
   "source": [
    "- max_depth: 3 \n",
    "- min_child_weight: 5"
   ]
  },
  {
   "cell_type": "markdown",
   "metadata": {},
   "source": [
    "### Step 4.3: Tune gamma"
   ]
  },
  {
   "cell_type": "code",
   "execution_count": 293,
   "metadata": {
    "collapsed": false
   },
   "outputs": [
    {
     "name": "stdout",
     "output_type": "stream",
     "text": [
      "Fitting 5 folds for each of 5 candidates, totalling 25 fits\n"
     ]
    },
    {
     "name": "stderr",
     "output_type": "stream",
     "text": [
      "[Parallel(n_jobs=-1)]: Using backend LokyBackend with 24 concurrent workers.\n",
      "[Parallel(n_jobs=-1)]: Done   2 out of  25 | elapsed:   16.9s remaining:  3.2min\n",
      "[Parallel(n_jobs=-1)]: Done   5 out of  25 | elapsed:   17.5s remaining:  1.2min\n",
      "[Parallel(n_jobs=-1)]: Done   8 out of  25 | elapsed:   17.8s remaining:   37.8s\n",
      "[Parallel(n_jobs=-1)]: Done  11 out of  25 | elapsed:   19.6s remaining:   25.0s\n",
      "[Parallel(n_jobs=-1)]: Done  14 out of  25 | elapsed:   20.3s remaining:   16.0s\n",
      "[Parallel(n_jobs=-1)]: Done  17 out of  25 | elapsed:   20.4s remaining:    9.6s\n",
      "[Parallel(n_jobs=-1)]: Done  20 out of  25 | elapsed:   20.5s remaining:    5.1s\n",
      "[Parallel(n_jobs=-1)]: Done  23 out of  25 | elapsed:   20.6s remaining:    1.8s\n",
      "[Parallel(n_jobs=-1)]: Done  25 out of  25 | elapsed:   20.8s finished\n"
     ]
    },
    {
     "name": "stdout",
     "output_type": "stream",
     "text": [
      "Best score:  0.7766101185611339\n",
      "Best params:  {'gamma': 0.4}\n"
     ]
    }
   ],
   "source": [
    "param_test3 = {\n",
    "    'gamma':[i/10.0 for i in range(0,5)]\n",
    "}\n",
    "\n",
    "gsearch3 = GridSearchCV(estimator = XGBRegressor(learning_rate=0.1, n_estimators=13,\n",
    "                                                  max_depth=3, min_child_weight=5, gamma=0,\n",
    "                                                  subsample=0.8, colsample_bytree=0.8,\n",
    "                                                  objective='binary:logistic', nthread=4,\n",
    "                                                  scale_pos_weight=1, seed=27),\n",
    "                        param_grid = param_test3, scoring='roc_auc', n_jobs=-1,\n",
    "                        iid=False, cv=5, verbose=10)\n",
    "gsearch3.fit(X_train,y_train)\n",
    "\n",
    "print('Best score: ', gsearch3.best_score_)\n",
    "print('Best params: ', gsearch3.best_params_)"
   ]
  },
  {
   "cell_type": "markdown",
   "metadata": {},
   "source": [
    "- gamma': 0.4"
   ]
  },
  {
   "cell_type": "markdown",
   "metadata": {},
   "source": [
    "### Step 4.4: re-calibrate the number of boosting rounds for the updated parameters."
   ]
  },
  {
   "cell_type": "code",
   "execution_count": 294,
   "metadata": {
    "collapsed": false
   },
   "outputs": [
    {
     "name": "stdout",
     "output_type": "stream",
     "text": [
      "[0]\ttrain-auc:0.761442+0.00457465\ttest-auc:0.755995+0.0131639\n",
      "[20]\ttrain-auc:0.81019+0.0054802\ttest-auc:0.77589+0.0185268\n",
      "[40]\ttrain-auc:0.844858+0.00448446\ttest-auc:0.779018+0.0155921\n",
      "[60]\ttrain-auc:0.874066+0.00241827\ttest-auc:0.778594+0.0176325\n",
      "[80]\ttrain-auc:0.901496+0.00159629\ttest-auc:0.780378+0.0195711\n",
      "n_estimators= 45\n"
     ]
    },
    {
     "name": "stderr",
     "output_type": "stream",
     "text": [
      "[Parallel(n_jobs=-1)]: Using backend LokyBackend with 24 concurrent workers.\n",
      "[Parallel(n_jobs=-1)]: Done   2 out of   5 | elapsed:    4.8s remaining:    7.3s\n",
      "[Parallel(n_jobs=-1)]: Done   3 out of   5 | elapsed:    5.0s remaining:    3.3s\n"
     ]
    },
    {
     "name": "stdout",
     "output_type": "stream",
     "text": [
      "AUC Score : 0.771492\n"
     ]
    },
    {
     "name": "stderr",
     "output_type": "stream",
     "text": [
      "[Parallel(n_jobs=-1)]: Done   5 out of   5 | elapsed:    5.3s remaining:    0.0s\n",
      "[Parallel(n_jobs=-1)]: Done   5 out of   5 | elapsed:    5.3s finished\n"
     ]
    }
   ],
   "source": [
    "xgb2 = XGBRegressor(\n",
    "        learning_rate=0.1,\n",
    "        n_estimators=1000,\n",
    "        max_depth=3,\n",
    "        min_child_weight=5,\n",
    "        gamma=0.4,\n",
    "        subsample=0.8,\n",
    "        colsample_bytree=0.8,\n",
    "        objective='binary:logistic',\n",
    "        nthread=4,\n",
    "        scale_pos_weight=1,\n",
    "        seed=27,\n",
    "        random_state=42)\n",
    "\n",
    "modelval(xgb2, X_train, y_train)"
   ]
  },
  {
   "cell_type": "markdown",
   "metadata": {},
   "source": [
    "### Step 4.5: Tune subsample and colsample_bytree"
   ]
  },
  {
   "cell_type": "code",
   "execution_count": 299,
   "metadata": {
    "collapsed": false
   },
   "outputs": [
    {
     "name": "stdout",
     "output_type": "stream",
     "text": [
      "Fitting 5 folds for each of 16 candidates, totalling 80 fits\n"
     ]
    },
    {
     "name": "stderr",
     "output_type": "stream",
     "text": [
      "[Parallel(n_jobs=-1)]: Using backend LokyBackend with 24 concurrent workers.\n",
      "[Parallel(n_jobs=-1)]: Done   2 tasks      | elapsed:   45.0s\n",
      "[Parallel(n_jobs=-1)]: Done  13 tasks      | elapsed:   50.4s\n",
      "[Parallel(n_jobs=-1)]: Done  24 tasks      | elapsed:   55.0s\n",
      "[Parallel(n_jobs=-1)]: Done  42 out of  80 | elapsed:  1.6min remaining:  1.5min\n",
      "[Parallel(n_jobs=-1)]: Done  51 out of  80 | elapsed:  2.2min remaining:  1.3min\n",
      "[Parallel(n_jobs=-1)]: Done  60 out of  80 | elapsed:  2.4min remaining:   47.3s\n",
      "[Parallel(n_jobs=-1)]: Done  69 out of  80 | elapsed:  2.4min remaining:   23.1s\n",
      "[Parallel(n_jobs=-1)]: Done  78 out of  80 | elapsed:  2.5min remaining:    3.9s\n",
      "[Parallel(n_jobs=-1)]: Done  80 out of  80 | elapsed:  2.5min finished\n"
     ]
    },
    {
     "name": "stdout",
     "output_type": "stream",
     "text": [
      "Best score:  0.7784973500671042\n",
      "Best params:  {'colsample_bytree': 0.6, 'subsample': 0.6}\n"
     ]
    }
   ],
   "source": [
    "param_test4 = {\n",
    "    'subsample':[i/10.0 for i in range(6,10)],\n",
    "    'colsample_bytree':[i/10.0 for i in range(6,10)]\n",
    "}\n",
    "\n",
    "gsearch4 = GridSearchCV(estimator = XGBRegressor(learning_rate=0.1, n_estimators=45,\n",
    "                                                  max_depth=3, min_child_weight=5, gamma=0.4,\n",
    "                                                  subsample=0.8, colsample_bytree=0.8,\n",
    "                                                  objective='binary:logistic', nthread=4,\n",
    "                                                  scale_pos_weight=1, seed=27),\n",
    "                        param_grid = param_test4, scoring='roc_auc', n_jobs=-1,\n",
    "                        iid=False, cv=5, verbose=10)\n",
    "gsearch4.fit(X_train,y_train)\n",
    "\n",
    "print('Best score: ', gsearch4.best_score_)\n",
    "print('Best params: ', gsearch4.best_params_)"
   ]
  },
  {
   "cell_type": "code",
   "execution_count": 300,
   "metadata": {
    "collapsed": false
   },
   "outputs": [
    {
     "name": "stdout",
     "output_type": "stream",
     "text": [
      "Fitting 5 folds for each of 36 candidates, totalling 180 fits\n"
     ]
    },
    {
     "name": "stderr",
     "output_type": "stream",
     "text": [
      "[Parallel(n_jobs=-1)]: Using backend LokyBackend with 24 concurrent workers.\n",
      "[Parallel(n_jobs=-1)]: Done   2 tasks      | elapsed:   32.0s\n",
      "[Parallel(n_jobs=-1)]: Done  13 tasks      | elapsed:   38.3s\n",
      "[Parallel(n_jobs=-1)]: Done  24 tasks      | elapsed:   41.5s\n",
      "[Parallel(n_jobs=-1)]: Done  37 tasks      | elapsed:  1.3min\n",
      "[Parallel(n_jobs=-1)]: Done  50 tasks      | elapsed:  1.8min\n",
      "[Parallel(n_jobs=-1)]: Done  65 tasks      | elapsed:  2.0min\n",
      "[Parallel(n_jobs=-1)]: Done  80 tasks      | elapsed:  2.6min\n",
      "[Parallel(n_jobs=-1)]: Done  97 tasks      | elapsed:  3.1min\n",
      "[Parallel(n_jobs=-1)]: Done 114 tasks      | elapsed:  3.4min\n",
      "[Parallel(n_jobs=-1)]: Done 133 tasks      | elapsed:  4.1min\n",
      "[Parallel(n_jobs=-1)]: Done 152 out of 180 | elapsed:  4.7min remaining:   51.5s\n",
      "[Parallel(n_jobs=-1)]: Done 171 out of 180 | elapsed:  5.1min remaining:   16.0s\n",
      "[Parallel(n_jobs=-1)]: Done 180 out of 180 | elapsed:  5.1min finished\n"
     ]
    },
    {
     "name": "stdout",
     "output_type": "stream",
     "text": [
      "Best score:  0.7843527633228524\n",
      "Best params:  {'colsample_bytree': 0.5, 'subsample': 0.45}\n"
     ]
    }
   ],
   "source": [
    "param_test5 = {\n",
    " 'subsample':[i/100.0 for i in range(40, 70,5)],\n",
    " 'colsample_bytree':[i/100.0 for i in range(40,70,5)]\n",
    "}\n",
    "\n",
    "gsearch5 = GridSearchCV(estimator = XGBRegressor(learning_rate=0.1, n_estimators=45,\n",
    "                                                  max_depth=3, min_child_weight=5, gamma=0.4,\n",
    "                                                  subsample=0.6, colsample_bytree=0.6,\n",
    "                                                  objective='binary:logistic', nthread=4,\n",
    "                                                  scale_pos_weight=1, seed=27),\n",
    "                        param_grid = param_test5, scoring='roc_auc', n_jobs=-1,\n",
    "                        iid=False, cv=5, verbose=10)\n",
    "gsearch5.fit(X_train,y_train)\n",
    "\n",
    "print('Best score: ', gsearch5.best_score_)\n",
    "print('Best params: ', gsearch5.best_params_)\n"
   ]
  },
  {
   "cell_type": "markdown",
   "metadata": {},
   "source": [
    "- colsample_bytree: 0.5\n",
    "- subsample: 0.45"
   ]
  },
  {
   "cell_type": "markdown",
   "metadata": {},
   "source": [
    "### Step 4.6: Tuning Regularization Parameters"
   ]
  },
  {
   "cell_type": "code",
   "execution_count": 301,
   "metadata": {
    "collapsed": false
   },
   "outputs": [
    {
     "name": "stdout",
     "output_type": "stream",
     "text": [
      "Fitting 5 folds for each of 5 candidates, totalling 25 fits\n"
     ]
    },
    {
     "name": "stderr",
     "output_type": "stream",
     "text": [
      "[Parallel(n_jobs=-1)]: Using backend LokyBackend with 24 concurrent workers.\n",
      "[Parallel(n_jobs=-1)]: Done   2 out of  25 | elapsed:   23.2s remaining:  4.4min\n",
      "[Parallel(n_jobs=-1)]: Done   5 out of  25 | elapsed:   25.9s remaining:  1.7min\n",
      "[Parallel(n_jobs=-1)]: Done   8 out of  25 | elapsed:   33.3s remaining:  1.2min\n",
      "[Parallel(n_jobs=-1)]: Done  11 out of  25 | elapsed:   33.9s remaining:   43.1s\n",
      "[Parallel(n_jobs=-1)]: Done  14 out of  25 | elapsed:   35.4s remaining:   27.8s\n",
      "[Parallel(n_jobs=-1)]: Done  17 out of  25 | elapsed:   35.8s remaining:   16.9s\n",
      "[Parallel(n_jobs=-1)]: Done  20 out of  25 | elapsed:   36.0s remaining:    9.0s\n",
      "[Parallel(n_jobs=-1)]: Done  23 out of  25 | elapsed:   36.2s remaining:    3.1s\n",
      "[Parallel(n_jobs=-1)]: Done  25 out of  25 | elapsed:   36.6s finished\n"
     ]
    },
    {
     "name": "stdout",
     "output_type": "stream",
     "text": [
      "Best score:  0.7843522678113103\n",
      "Best params:  {'reg_alpha': 1e-05}\n"
     ]
    }
   ],
   "source": [
    "param_test6 = {\n",
    " 'reg_alpha':[1e-5, 1e-2, 0.1, 1, 100]\n",
    "}\n",
    "\n",
    "gsearch6 = GridSearchCV(estimator = XGBRegressor(learning_rate =0.1, n_estimators=45,\n",
    "                                                  max_depth=3, min_child_weight=5, gamma=0.4,\n",
    "                                                  subsample=0.45, colsample_bytree=0.5,\n",
    "                                                  objective='binary:logistic', nthread=4,\n",
    "                                                  scale_pos_weight=1, seed=27),\n",
    "                        param_grid = param_test6, scoring='roc_auc', n_jobs=-1,\n",
    "                        iid=False, cv=5, verbose=10)\n",
    "gsearch6.fit(X_train,y_train)\n",
    "\n",
    "print('Best score: ', gsearch6.best_score_)\n",
    "print('Best params: ', gsearch6.best_params_)"
   ]
  },
  {
   "cell_type": "code",
   "execution_count": 302,
   "metadata": {
    "collapsed": false
   },
   "outputs": [
    {
     "name": "stdout",
     "output_type": "stream",
     "text": [
      "[0]\ttrain-auc:0.5+0\ttest-auc:0.5+0\n",
      "[20]\ttrain-auc:0.808729+0.0072023\ttest-auc:0.776281+0.0184808\n",
      "[40]\ttrain-auc:0.841839+0.00386715\ttest-auc:0.785332+0.0118756\n",
      "[60]\ttrain-auc:0.869725+0.00484593\ttest-auc:0.787045+0.012746\n",
      "[80]\ttrain-auc:0.890851+0.00274643\ttest-auc:0.784556+0.0163174\n",
      "[100]\ttrain-auc:0.907865+0.00316484\ttest-auc:0.785494+0.016355\n",
      "n_estimators= 52\n"
     ]
    },
    {
     "name": "stderr",
     "output_type": "stream",
     "text": [
      "[Parallel(n_jobs=-1)]: Using backend LokyBackend with 24 concurrent workers.\n",
      "[Parallel(n_jobs=-1)]: Done   2 out of   5 | elapsed:    4.3s remaining:    6.5s\n",
      "[Parallel(n_jobs=-1)]: Done   3 out of   5 | elapsed:    4.5s remaining:    3.0s\n"
     ]
    },
    {
     "name": "stdout",
     "output_type": "stream",
     "text": [
      "AUC Score : 0.783332\n"
     ]
    },
    {
     "name": "stderr",
     "output_type": "stream",
     "text": [
      "[Parallel(n_jobs=-1)]: Done   5 out of   5 | elapsed:    4.6s remaining:    0.0s\n",
      "[Parallel(n_jobs=-1)]: Done   5 out of   5 | elapsed:    4.6s finished\n"
     ]
    }
   ],
   "source": [
    "xgb3 = XGBRegressor(\n",
    "        learning_rate=0.1,\n",
    "        n_estimators=1000,\n",
    "        max_depth=3,\n",
    "        min_child_weight=5,\n",
    "        gamma=0.4,\n",
    "        subsample=0.45,\n",
    "        colsample_bytree=0.5,\n",
    "        objective='binary:logistic',\n",
    "        nthread=4,\n",
    "        scale_pos_weight=1,\n",
    "        seed=27,\n",
    "        random_state=42)\n",
    "\n",
    "modelval(xgb3, X_train, y_train)"
   ]
  },
  {
   "cell_type": "markdown",
   "metadata": {},
   "source": [
    "### Step 4.7: Reducing Learning Rate"
   ]
  },
  {
   "cell_type": "code",
   "execution_count": 303,
   "metadata": {
    "collapsed": false
   },
   "outputs": [
    {
     "name": "stdout",
     "output_type": "stream",
     "text": [
      "Fitting 5 folds for each of 6 candidates, totalling 30 fits\n"
     ]
    },
    {
     "name": "stderr",
     "output_type": "stream",
     "text": [
      "[Parallel(n_jobs=-1)]: Using backend LokyBackend with 24 concurrent workers.\n",
      "[Parallel(n_jobs=-1)]: Done   3 out of  30 | elapsed:   43.0s remaining:  6.5min\n",
      "[Parallel(n_jobs=-1)]: Done   7 out of  30 | elapsed:   49.0s remaining:  2.7min\n",
      "[Parallel(n_jobs=-1)]: Done  11 out of  30 | elapsed:   51.0s remaining:  1.5min\n",
      "[Parallel(n_jobs=-1)]: Done  15 out of  30 | elapsed:   52.1s remaining:   52.1s\n",
      "[Parallel(n_jobs=-1)]: Done  19 out of  30 | elapsed:   53.5s remaining:   31.0s\n",
      "[Parallel(n_jobs=-1)]: Done  23 out of  30 | elapsed:   54.1s remaining:   16.5s\n",
      "[Parallel(n_jobs=-1)]: Done  27 out of  30 | elapsed:   57.3s remaining:    6.4s\n",
      "[Parallel(n_jobs=-1)]: Done  30 out of  30 | elapsed:   57.7s finished\n"
     ]
    },
    {
     "name": "stdout",
     "output_type": "stream",
     "text": [
      "Best score:  0.7857534160662417\n",
      "Best params:  {'learning_rate': 0.08}\n"
     ]
    }
   ],
   "source": [
    "param_test7 = {\n",
    " 'learning_rate':[0.05, 0.06, 0.07, 0.08, 0.09, 0.1]\n",
    "}\n",
    "\n",
    "gsearch7 = GridSearchCV(estimator = XGBRegressor(learning_rate =0.1, n_estimators=52,\n",
    "                                                  max_depth=3, min_child_weight=5, gamma=0.4,\n",
    "                                                  subsample=0.45, colsample_bytree=0.5,\n",
    "                                                  objective='binary:logistic', nthread=4,\n",
    "                                                  scale_pos_weight=1, seed=27),\n",
    "                        param_grid = param_test7, scoring='roc_auc', n_jobs=-1,\n",
    "                        iid=False, cv=5, verbose=10)\n",
    "gsearch7.fit(X_train,y_train)\n",
    "\n",
    "print('Best score: ', gsearch7.best_score_)\n",
    "print('Best params: ', gsearch7.best_params_)"
   ]
  },
  {
   "cell_type": "code",
   "execution_count": 304,
   "metadata": {
    "collapsed": false
   },
   "outputs": [
    {
     "data": {
      "text/plain": [
       "XGBRegressor(base_score=0.5, booster='gbtree', colsample_bylevel=1,\n",
       "       colsample_bytree=0.5, gamma=0.4, importance_type='gain',\n",
       "       learning_rate=0.08, max_delta_step=0, max_depth=3,\n",
       "       min_child_weight=5, missing=None, n_estimators=52, n_jobs=1,\n",
       "       nthread=4, objective='binary:logistic', random_state=42,\n",
       "       reg_alpha=0, reg_lambda=1, scale_pos_weight=1, seed=27, silent=True,\n",
       "       subsample=0.45)"
      ]
     },
     "execution_count": 304,
     "metadata": {},
     "output_type": "execute_result"
    }
   ],
   "source": [
    "# final model\n",
    "model = XGBRegressor(\n",
    "        learning_rate=0.08,\n",
    "        n_estimators=52,\n",
    "        max_depth=3,\n",
    "        min_child_weight=5,\n",
    "        gamma=0.4,\n",
    "        subsample=0.45,\n",
    "        colsample_bytree=0.5,\n",
    "        objective='binary:logistic',\n",
    "        nthread=4,\n",
    "        scale_pos_weight=1,\n",
    "        seed=27,\n",
    "        random_state=42)\n",
    "\n",
    "# train the model\n",
    "model.fit(X_train, y_train, eval_metric='auc')"
   ]
  },
  {
   "cell_type": "code",
   "execution_count": 305,
   "metadata": {
    "collapsed": false
   },
   "outputs": [
    {
     "data": {
      "text/plain": [
       "<matplotlib.axes._subplots.AxesSubplot at 0x7fe810eb7c50>"
      ]
     },
     "execution_count": 305,
     "metadata": {},
     "output_type": "execute_result"
    },
    {
     "data": {
      "image/png": "[encoded data removed]",
      "text/plain": [
       "<matplotlib.figure.Figure at 0x7fe810eb7320>"
      ]
     },
     "metadata": {},
     "output_type": "display_data"
    }
   ],
   "source": [
    "# feature importance\n",
    "feat_imp = pd.Series(model.feature_importances_,\n",
    "                     index=features.columns).sort_values(ascending=False)\n",
    "# plot 20 important features\n",
    "feat_imp.iloc[:10].plot(kind='bar', title='Feature Importances')"
   ]
  },
  {
   "cell_type": "markdown",
   "metadata": {},
   "source": [
    "##  <a class=\"anchor\" id=\"part3\">Part 3: Kaggle Competition</a>\n",
    "\n",
    "Now that I've created a model to predict which individuals are most likely to respond to a mailout campaign, it's time to test that model in competition through [Kaggle](http://www.kaggle.com/t/21e6d45d4c574c7fa2d868f0e8c83140)."
   ]
  },
  {
   "cell_type": "code",
   "execution_count": 317,
   "metadata": {
    "collapsed": false
   },
   "outputs": [
    {
     "name": "stderr",
     "output_type": "stream",
     "text": [
      "/home/jaouadeddadsi2016/anaconda3/lib/python3.5/site-packages/IPython/core/interactiveshell.py:2717: DtypeWarning: Columns (18,19) have mixed types. Specify dtype option on import or set low_memory=False.\n",
      "  interactivity=interactivity, compiler=compiler, result=result)\n"
     ]
    },
    {
     "data": {
      "text/html": [
       "<div>\n",
       "<style scoped>\n",
       "    .dataframe tbody tr th:only-of-type {\n",
       "        vertical-align: middle;\n",
       "    }\n",
       "\n",
       "    .dataframe tbody tr th {\n",
       "        vertical-align: top;\n",
       "    }\n",
       "\n",
       "    .dataframe thead th {\n",
       "        text-align: right;\n",
       "    }\n",
       "</style>\n",
       "<table border=\"1\" class=\"dataframe\">\n",
       "  <thead>\n",
       "    <tr style=\"text-align: right;\">\n",
       "      <th></th>\n",
       "      <th>LNR</th>\n",
       "      <th>AGER_TYP</th>\n",
       "      <th>AKT_DAT_KL</th>\n",
       "      <th>ALTER_HH</th>\n",
       "      <th>ALTER_KIND1</th>\n",
       "      <th>ALTER_KIND2</th>\n",
       "      <th>ALTER_KIND3</th>\n",
       "      <th>ALTER_KIND4</th>\n",
       "      <th>ALTERSKATEGORIE_FEIN</th>\n",
       "      <th>ANZ_HAUSHALTE_AKTIV</th>\n",
       "      <th>...</th>\n",
       "      <th>VHN</th>\n",
       "      <th>VK_DHT4A</th>\n",
       "      <th>VK_DISTANZ</th>\n",
       "      <th>VK_ZG11</th>\n",
       "      <th>W_KEIT_KIND_HH</th>\n",
       "      <th>WOHNDAUER_2008</th>\n",
       "      <th>WOHNLAGE</th>\n",
       "      <th>ZABEOTYP</th>\n",
       "      <th>ANREDE_KZ</th>\n",
       "      <th>ALTERSKATEGORIE_GROB</th>\n",
       "    </tr>\n",
       "  </thead>\n",
       "  <tbody>\n",
       "    <tr>\n",
       "      <th>0</th>\n",
       "      <td>1754</td>\n",
       "      <td>2</td>\n",
       "      <td>1.0</td>\n",
       "      <td>7.0</td>\n",
       "      <td>NaN</td>\n",
       "      <td>NaN</td>\n",
       "      <td>NaN</td>\n",
       "      <td>NaN</td>\n",
       "      <td>6.0</td>\n",
       "      <td>2.0</td>\n",
       "      <td>...</td>\n",
       "      <td>4.0</td>\n",
       "      <td>5.0</td>\n",
       "      <td>6.0</td>\n",
       "      <td>3.0</td>\n",
       "      <td>6.0</td>\n",
       "      <td>9.0</td>\n",
       "      <td>3.0</td>\n",
       "      <td>3</td>\n",
       "      <td>1</td>\n",
       "      <td>4</td>\n",
       "    </tr>\n",
       "    <tr>\n",
       "      <th>1</th>\n",
       "      <td>1770</td>\n",
       "      <td>-1</td>\n",
       "      <td>1.0</td>\n",
       "      <td>0.0</td>\n",
       "      <td>NaN</td>\n",
       "      <td>NaN</td>\n",
       "      <td>NaN</td>\n",
       "      <td>NaN</td>\n",
       "      <td>0.0</td>\n",
       "      <td>20.0</td>\n",
       "      <td>...</td>\n",
       "      <td>1.0</td>\n",
       "      <td>5.0</td>\n",
       "      <td>2.0</td>\n",
       "      <td>1.0</td>\n",
       "      <td>6.0</td>\n",
       "      <td>9.0</td>\n",
       "      <td>5.0</td>\n",
       "      <td>3</td>\n",
       "      <td>1</td>\n",
       "      <td>4</td>\n",
       "    </tr>\n",
       "    <tr>\n",
       "      <th>2</th>\n",
       "      <td>1465</td>\n",
       "      <td>2</td>\n",
       "      <td>9.0</td>\n",
       "      <td>16.0</td>\n",
       "      <td>NaN</td>\n",
       "      <td>NaN</td>\n",
       "      <td>NaN</td>\n",
       "      <td>NaN</td>\n",
       "      <td>11.0</td>\n",
       "      <td>2.0</td>\n",
       "      <td>...</td>\n",
       "      <td>3.0</td>\n",
       "      <td>9.0</td>\n",
       "      <td>6.0</td>\n",
       "      <td>3.0</td>\n",
       "      <td>2.0</td>\n",
       "      <td>9.0</td>\n",
       "      <td>4.0</td>\n",
       "      <td>3</td>\n",
       "      <td>2</td>\n",
       "      <td>4</td>\n",
       "    </tr>\n",
       "    <tr>\n",
       "      <th>3</th>\n",
       "      <td>1470</td>\n",
       "      <td>-1</td>\n",
       "      <td>7.0</td>\n",
       "      <td>0.0</td>\n",
       "      <td>NaN</td>\n",
       "      <td>NaN</td>\n",
       "      <td>NaN</td>\n",
       "      <td>NaN</td>\n",
       "      <td>0.0</td>\n",
       "      <td>1.0</td>\n",
       "      <td>...</td>\n",
       "      <td>2.0</td>\n",
       "      <td>6.0</td>\n",
       "      <td>6.0</td>\n",
       "      <td>3.0</td>\n",
       "      <td>NaN</td>\n",
       "      <td>9.0</td>\n",
       "      <td>2.0</td>\n",
       "      <td>3</td>\n",
       "      <td>2</td>\n",
       "      <td>4</td>\n",
       "    </tr>\n",
       "    <tr>\n",
       "      <th>4</th>\n",
       "      <td>1478</td>\n",
       "      <td>1</td>\n",
       "      <td>1.0</td>\n",
       "      <td>21.0</td>\n",
       "      <td>NaN</td>\n",
       "      <td>NaN</td>\n",
       "      <td>NaN</td>\n",
       "      <td>NaN</td>\n",
       "      <td>13.0</td>\n",
       "      <td>1.0</td>\n",
       "      <td>...</td>\n",
       "      <td>1.0</td>\n",
       "      <td>2.0</td>\n",
       "      <td>4.0</td>\n",
       "      <td>3.0</td>\n",
       "      <td>3.0</td>\n",
       "      <td>9.0</td>\n",
       "      <td>7.0</td>\n",
       "      <td>4</td>\n",
       "      <td>2</td>\n",
       "      <td>4</td>\n",
       "    </tr>\n",
       "  </tbody>\n",
       "</table>\n",
       "<p>5 rows × 366 columns</p>\n",
       "</div>"
      ],
      "text/plain": [
       "    LNR  AGER_TYP  AKT_DAT_KL  ALTER_HH  ALTER_KIND1  ALTER_KIND2  \\\n",
       "0  1754         2         1.0       7.0          NaN          NaN   \n",
       "1  1770        -1         1.0       0.0          NaN          NaN   \n",
       "2  1465         2         9.0      16.0          NaN          NaN   \n",
       "3  1470        -1         7.0       0.0          NaN          NaN   \n",
       "4  1478         1         1.0      21.0          NaN          NaN   \n",
       "\n",
       "   ALTER_KIND3  ALTER_KIND4  ALTERSKATEGORIE_FEIN  ANZ_HAUSHALTE_AKTIV  ...  \\\n",
       "0          NaN          NaN                   6.0                  2.0  ...   \n",
       "1          NaN          NaN                   0.0                 20.0  ...   \n",
       "2          NaN          NaN                  11.0                  2.0  ...   \n",
       "3          NaN          NaN                   0.0                  1.0  ...   \n",
       "4          NaN          NaN                  13.0                  1.0  ...   \n",
       "\n",
       "   VHN  VK_DHT4A  VK_DISTANZ  VK_ZG11  W_KEIT_KIND_HH  WOHNDAUER_2008  \\\n",
       "0  4.0       5.0         6.0      3.0             6.0             9.0   \n",
       "1  1.0       5.0         2.0      1.0             6.0             9.0   \n",
       "2  3.0       9.0         6.0      3.0             2.0             9.0   \n",
       "3  2.0       6.0         6.0      3.0             NaN             9.0   \n",
       "4  1.0       2.0         4.0      3.0             3.0             9.0   \n",
       "\n",
       "   WOHNLAGE ZABEOTYP ANREDE_KZ ALTERSKATEGORIE_GROB  \n",
       "0       3.0        3         1                    4  \n",
       "1       5.0        3         1                    4  \n",
       "2       4.0        3         2                    4  \n",
       "3       2.0        3         2                    4  \n",
       "4       7.0        4         2                    4  \n",
       "\n",
       "[5 rows x 366 columns]"
      ]
     },
     "execution_count": 317,
     "metadata": {},
     "output_type": "execute_result"
    }
   ],
   "source": [
    "# Load data\n",
    "mailout_test = pd.read_csv('Arvato_data/Udacity_MAILOUT_052018_TEST.csv',\n",
    "                           sep=';')\n",
    "mailout_test.head()"
   ]
  },
  {
   "cell_type": "code",
   "execution_count": 318,
   "metadata": {
    "collapsed": false
   },
   "outputs": [
    {
     "name": "stderr",
     "output_type": "stream",
     "text": [
      "/home/jaouadeddadsi2016/anaconda3/lib/python3.5/site-packages/pandas/core/ops.py:1649: FutureWarning: elementwise comparison failed; returning scalar instead, but in the future will perform elementwise comparison\n",
      "  result = method(y)\n"
     ]
    }
   ],
   "source": [
    "# Clean data\n",
    "clean_test = clean_data(mailout_test, drop_row=False)"
   ]
  },
  {
   "cell_type": "code",
   "execution_count": 320,
   "metadata": {
    "collapsed": false
   },
   "outputs": [],
   "source": [
    "# Drop LNR\n",
    "test_LNR = clean_test['LNR']\n",
    "\n",
    "clean_test.drop('LNR', axis=1, inplace=True)"
   ]
  },
  {
   "cell_type": "code",
   "execution_count": 321,
   "metadata": {
    "collapsed": false
   },
   "outputs": [
    {
     "data": {
      "text/plain": [
       "[]"
      ]
     },
     "execution_count": 321,
     "metadata": {},
     "output_type": "execute_result"
    }
   ],
   "source": [
    "# Columns to add\n",
    "mask_1 = features.columns.isin(clean_test.columns)\n",
    "col_to_add = list(features.columns[~mask_1])\n",
    "col_to_add"
   ]
  },
  {
   "cell_type": "code",
   "execution_count": 322,
   "metadata": {
    "collapsed": false
   },
   "outputs": [
    {
     "data": {
      "text/plain": [
       "[]"
      ]
     },
     "execution_count": 322,
     "metadata": {},
     "output_type": "execute_result"
    }
   ],
   "source": [
    "# Columns to drop\n",
    "mask_2 = clean_test.columns.isin(features.columns)\n",
    "col_to_drop = list(clean_test.columns[~mask_2])\n",
    "col_to_drop"
   ]
  },
  {
   "cell_type": "code",
   "execution_count": 323,
   "metadata": {
    "collapsed": false
   },
   "outputs": [
    {
     "data": {
      "text/html": [
       "<div>\n",
       "<style scoped>\n",
       "    .dataframe tbody tr th:only-of-type {\n",
       "        vertical-align: middle;\n",
       "    }\n",
       "\n",
       "    .dataframe tbody tr th {\n",
       "        vertical-align: top;\n",
       "    }\n",
       "\n",
       "    .dataframe thead th {\n",
       "        text-align: right;\n",
       "    }\n",
       "</style>\n",
       "<table border=\"1\" class=\"dataframe\">\n",
       "  <thead>\n",
       "    <tr style=\"text-align: right;\">\n",
       "      <th></th>\n",
       "      <th>CJT_GESAMTTYP_1.0</th>\n",
       "      <th>CJT_GESAMTTYP_2.0</th>\n",
       "      <th>CJT_GESAMTTYP_3.0</th>\n",
       "      <th>CJT_GESAMTTYP_4.0</th>\n",
       "      <th>CJT_GESAMTTYP_5.0</th>\n",
       "      <th>CJT_GESAMTTYP_6.0</th>\n",
       "      <th>FINANZTYP_1.0</th>\n",
       "      <th>FINANZTYP_2.0</th>\n",
       "      <th>FINANZTYP_3.0</th>\n",
       "      <th>FINANZTYP_4.0</th>\n",
       "      <th>...</th>\n",
       "      <th>WOHNLAGE_3.0</th>\n",
       "      <th>WOHNLAGE_4.0</th>\n",
       "      <th>WOHNLAGE_5.0</th>\n",
       "      <th>WOHNLAGE_7.0</th>\n",
       "      <th>WOHNLAGE_8.0</th>\n",
       "      <th>PLZ8_BAUMAX_1.0</th>\n",
       "      <th>PLZ8_BAUMAX_2.0</th>\n",
       "      <th>PLZ8_BAUMAX_3.0</th>\n",
       "      <th>PLZ8_BAUMAX_4.0</th>\n",
       "      <th>PLZ8_BAUMAX_5.0</th>\n",
       "    </tr>\n",
       "  </thead>\n",
       "  <tbody>\n",
       "    <tr>\n",
       "      <th>0</th>\n",
       "      <td>0.0</td>\n",
       "      <td>0.0</td>\n",
       "      <td>0.0</td>\n",
       "      <td>0.0</td>\n",
       "      <td>1.0</td>\n",
       "      <td>0.0</td>\n",
       "      <td>0.0</td>\n",
       "      <td>0.0</td>\n",
       "      <td>0.0</td>\n",
       "      <td>0.0</td>\n",
       "      <td>...</td>\n",
       "      <td>1.0</td>\n",
       "      <td>0.0</td>\n",
       "      <td>0.0</td>\n",
       "      <td>0.0</td>\n",
       "      <td>0.0</td>\n",
       "      <td>0.0</td>\n",
       "      <td>0.0</td>\n",
       "      <td>0.0</td>\n",
       "      <td>0.0</td>\n",
       "      <td>0.0</td>\n",
       "    </tr>\n",
       "    <tr>\n",
       "      <th>1</th>\n",
       "      <td>1.0</td>\n",
       "      <td>0.0</td>\n",
       "      <td>0.0</td>\n",
       "      <td>0.0</td>\n",
       "      <td>0.0</td>\n",
       "      <td>0.0</td>\n",
       "      <td>0.0</td>\n",
       "      <td>0.0</td>\n",
       "      <td>0.0</td>\n",
       "      <td>0.0</td>\n",
       "      <td>...</td>\n",
       "      <td>0.0</td>\n",
       "      <td>0.0</td>\n",
       "      <td>1.0</td>\n",
       "      <td>0.0</td>\n",
       "      <td>0.0</td>\n",
       "      <td>0.0</td>\n",
       "      <td>0.0</td>\n",
       "      <td>0.0</td>\n",
       "      <td>0.0</td>\n",
       "      <td>0.0</td>\n",
       "    </tr>\n",
       "    <tr>\n",
       "      <th>2</th>\n",
       "      <td>0.0</td>\n",
       "      <td>1.0</td>\n",
       "      <td>0.0</td>\n",
       "      <td>0.0</td>\n",
       "      <td>0.0</td>\n",
       "      <td>0.0</td>\n",
       "      <td>0.0</td>\n",
       "      <td>1.0</td>\n",
       "      <td>0.0</td>\n",
       "      <td>0.0</td>\n",
       "      <td>...</td>\n",
       "      <td>0.0</td>\n",
       "      <td>1.0</td>\n",
       "      <td>0.0</td>\n",
       "      <td>0.0</td>\n",
       "      <td>0.0</td>\n",
       "      <td>0.0</td>\n",
       "      <td>0.0</td>\n",
       "      <td>0.0</td>\n",
       "      <td>0.0</td>\n",
       "      <td>0.0</td>\n",
       "    </tr>\n",
       "    <tr>\n",
       "      <th>3</th>\n",
       "      <td>0.0</td>\n",
       "      <td>0.0</td>\n",
       "      <td>0.0</td>\n",
       "      <td>1.0</td>\n",
       "      <td>0.0</td>\n",
       "      <td>0.0</td>\n",
       "      <td>0.0</td>\n",
       "      <td>0.0</td>\n",
       "      <td>0.0</td>\n",
       "      <td>0.0</td>\n",
       "      <td>...</td>\n",
       "      <td>0.0</td>\n",
       "      <td>0.0</td>\n",
       "      <td>0.0</td>\n",
       "      <td>0.0</td>\n",
       "      <td>0.0</td>\n",
       "      <td>0.0</td>\n",
       "      <td>0.0</td>\n",
       "      <td>0.0</td>\n",
       "      <td>0.0</td>\n",
       "      <td>0.0</td>\n",
       "    </tr>\n",
       "    <tr>\n",
       "      <th>4</th>\n",
       "      <td>0.0</td>\n",
       "      <td>0.0</td>\n",
       "      <td>0.0</td>\n",
       "      <td>0.0</td>\n",
       "      <td>0.0</td>\n",
       "      <td>1.0</td>\n",
       "      <td>0.0</td>\n",
       "      <td>0.0</td>\n",
       "      <td>0.0</td>\n",
       "      <td>0.0</td>\n",
       "      <td>...</td>\n",
       "      <td>0.0</td>\n",
       "      <td>0.0</td>\n",
       "      <td>0.0</td>\n",
       "      <td>1.0</td>\n",
       "      <td>0.0</td>\n",
       "      <td>0.0</td>\n",
       "      <td>0.0</td>\n",
       "      <td>0.0</td>\n",
       "      <td>0.0</td>\n",
       "      <td>0.0</td>\n",
       "    </tr>\n",
       "  </tbody>\n",
       "</table>\n",
       "<p>5 rows × 483 columns</p>\n",
       "</div>"
      ],
      "text/plain": [
       "   CJT_GESAMTTYP_1.0  CJT_GESAMTTYP_2.0  CJT_GESAMTTYP_3.0  CJT_GESAMTTYP_4.0  \\\n",
       "0                0.0                0.0                0.0                0.0   \n",
       "1                1.0                0.0                0.0                0.0   \n",
       "2                0.0                1.0                0.0                0.0   \n",
       "3                0.0                0.0                0.0                1.0   \n",
       "4                0.0                0.0                0.0                0.0   \n",
       "\n",
       "   CJT_GESAMTTYP_5.0  CJT_GESAMTTYP_6.0  FINANZTYP_1.0  FINANZTYP_2.0  \\\n",
       "0                1.0                0.0            0.0            0.0   \n",
       "1                0.0                0.0            0.0            0.0   \n",
       "2                0.0                0.0            0.0            1.0   \n",
       "3                0.0                0.0            0.0            0.0   \n",
       "4                0.0                1.0            0.0            0.0   \n",
       "\n",
       "   FINANZTYP_3.0  FINANZTYP_4.0  ...  WOHNLAGE_3.0  WOHNLAGE_4.0  \\\n",
       "0            0.0            0.0  ...           1.0           0.0   \n",
       "1            0.0            0.0  ...           0.0           0.0   \n",
       "2            0.0            0.0  ...           0.0           1.0   \n",
       "3            0.0            0.0  ...           0.0           0.0   \n",
       "4            0.0            0.0  ...           0.0           0.0   \n",
       "\n",
       "   WOHNLAGE_5.0  WOHNLAGE_7.0  WOHNLAGE_8.0  PLZ8_BAUMAX_1.0  PLZ8_BAUMAX_2.0  \\\n",
       "0           0.0           0.0           0.0              0.0              0.0   \n",
       "1           1.0           0.0           0.0              0.0              0.0   \n",
       "2           0.0           0.0           0.0              0.0              0.0   \n",
       "3           0.0           0.0           0.0              0.0              0.0   \n",
       "4           0.0           1.0           0.0              0.0              0.0   \n",
       "\n",
       "   PLZ8_BAUMAX_3.0  PLZ8_BAUMAX_4.0  PLZ8_BAUMAX_5.0  \n",
       "0              0.0              0.0              0.0  \n",
       "1              0.0              0.0              0.0  \n",
       "2              0.0              0.0              0.0  \n",
       "3              0.0              0.0              0.0  \n",
       "4              0.0              0.0              0.0  \n",
       "\n",
       "[5 rows x 483 columns]"
      ]
     },
     "execution_count": 323,
     "metadata": {},
     "output_type": "execute_result"
    }
   ],
   "source": [
    "# Imputer\n",
    "new_test = pd.DataFrame(Imp.fit_transform(clean_test.values),\n",
    "                        columns= clean_test.columns)\n",
    "\n",
    "# feature scaling\n",
    "new_test = pd.DataFrame(scaler.fit_transform(new_test.values),\n",
    "                        columns= new_test.columns)\n",
    "\n",
    "new_test.head()"
   ]
  },
  {
   "cell_type": "code",
   "execution_count": 324,
   "metadata": {
    "collapsed": false
   },
   "outputs": [
    {
     "data": {
      "text/html": [
       "<div>\n",
       "<style scoped>\n",
       "    .dataframe tbody tr th:only-of-type {\n",
       "        vertical-align: middle;\n",
       "    }\n",
       "\n",
       "    .dataframe tbody tr th {\n",
       "        vertical-align: top;\n",
       "    }\n",
       "\n",
       "    .dataframe thead th {\n",
       "        text-align: right;\n",
       "    }\n",
       "</style>\n",
       "<table border=\"1\" class=\"dataframe\">\n",
       "  <thead>\n",
       "    <tr style=\"text-align: right;\">\n",
       "      <th></th>\n",
       "      <th>RESPONSE</th>\n",
       "    </tr>\n",
       "    <tr>\n",
       "      <th>LNR</th>\n",
       "      <th></th>\n",
       "    </tr>\n",
       "  </thead>\n",
       "  <tbody>\n",
       "    <tr>\n",
       "      <th>1754</th>\n",
       "      <td>0.035629</td>\n",
       "    </tr>\n",
       "    <tr>\n",
       "      <th>1770</th>\n",
       "      <td>0.032007</td>\n",
       "    </tr>\n",
       "    <tr>\n",
       "      <th>1465</th>\n",
       "      <td>0.012915</td>\n",
       "    </tr>\n",
       "    <tr>\n",
       "      <th>1470</th>\n",
       "      <td>0.017483</td>\n",
       "    </tr>\n",
       "    <tr>\n",
       "      <th>1478</th>\n",
       "      <td>0.014195</td>\n",
       "    </tr>\n",
       "  </tbody>\n",
       "</table>\n",
       "</div>"
      ],
      "text/plain": [
       "      RESPONSE\n",
       "LNR           \n",
       "1754  0.035629\n",
       "1770  0.032007\n",
       "1465  0.012915\n",
       "1470  0.017483\n",
       "1478  0.014195"
      ]
     },
     "execution_count": 324,
     "metadata": {},
     "output_type": "execute_result"
    }
   ],
   "source": [
    "# Prediction\n",
    "test_label = model.predict(new_test.values)\n",
    "\n",
    "submission = pd.DataFrame(test_label, index=test_LNR.astype('int32'),\n",
    "                          columns=[\"RESPONSE\"])\n",
    "\n",
    "submission.head()"
   ]
  },
  {
   "cell_type": "code",
   "execution_count": 325,
   "metadata": {
    "collapsed": false
   },
   "outputs": [],
   "source": [
    "# Save file to submit\n",
    "submission.to_csv('submission.csv')"
   ]
  }
 ],
 "metadata": {
  "anaconda-cloud": {},
  "kernelspec": {
   "display_name": "Python [default]",
   "language": "python",
   "name": "python3"
  },
  "language_info": {
   "codemirror_mode": {
    "name": "ipython",
    "version": 3
   },
   "file_extension": ".py",
   "mimetype": "text/x-python",
   "name": "python",
   "nbconvert_exporter": "python",
   "pygments_lexer": "ipython3",
   "version": "3.5.2"
  }
 },
 "nbformat": 4,
 "nbformat_minor": 2
}
